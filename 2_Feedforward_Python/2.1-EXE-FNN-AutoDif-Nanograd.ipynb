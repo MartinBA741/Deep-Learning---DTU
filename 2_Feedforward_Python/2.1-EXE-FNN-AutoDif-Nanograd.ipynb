{
  "nbformat": 4,
  "nbformat_minor": 2,
  "metadata": {
    "anaconda-cloud": {},
    "colab": {
      "name": "2.1-EXE-FNN-AutoDif-Nanograd.ipynb",
      "provenance": []
    },
    "kernelspec": {
      "name": "python3",
      "display_name": "Python 3.8.5 64-bit ('base': conda)"
    },
    "language_info": {
      "codemirror_mode": {
        "name": "ipython",
        "version": 3
      },
      "file_extension": ".py",
      "mimetype": "text/x-python",
      "name": "python",
      "nbconvert_exporter": "python",
      "pygments_lexer": "ipython3",
      "version": "3.8.5"
    },
    "interpreter": {
      "hash": "b169ff0885674dbcea2d7bddc30c3a8bc7cce28b7c32737103568c6693f0172d"
    }
  },
  "cells": [
    {
      "cell_type": "markdown",
      "source": [
        "# Contents and why we need this lab\r\n",
        "\r\n",
        "This lab is about implementing neural networks yourself before we start using other frameworks which hide some of the computation from you. It builds on the first lab where you derived the equations for neural network forward and backward propagation and gradient descent parameter updates. \r\n",
        "\r\n",
        "All the frameworks for deep learning you will meet from now on uses automatic differentiation (autodiff) so you don't have to code the backward step yourself. In this version of this lab you will develop your own autodif implementation. We also have a [version](https://github.com/DeepLearningDTU/02456-deep-learning-with-PyTorch/blob/master/2_Feedforward_NumPy/2.1-FNN-NumPy.ipynb) of this lab where you have to code the backward pass explicitly in Numpy."
      ],
      "metadata": {
        "id": "HAva8TnYFtFu"
      }
    },
    {
      "cell_type": "markdown",
      "source": [
        "# External sources of information\n",
        "\n",
        "1. Jupyter notebook. You can find more information about Jupyter notebooks [here](https://jupyter.org/). It will come as part of the [Anaconda](https://www.anaconda.com/) Python installation. \n",
        "2. [NumPy](https://numpy.org/). Part of Anaconda distribution. If you already know how to program most things about Python and NumPy can be found through Google search.\n",
        "3. [Nanograd](https://github.com/rasmusbergpalm/nanograd) is a minimalistic version of autodiff developed by Rasmus Berg Palm that we use for our framework.\n"
      ],
      "metadata": {
        "id": "sCa7HzwpFtFy"
      }
    },
    {
      "cell_type": "markdown",
      "source": [
        "# This notebook will follow the next steps:\r\n",
        "\r\n",
        "1. Nanograd automatic differentiation framework\r\n",
        "2. Finite difference method\r\n",
        "3. Data generation\r\n",
        "4. Defining and initializing the network\r\n",
        "5. Forward pass\r\n",
        "6. Training loop \r\n",
        "7. Testing your model\r\n",
        "8. Further extensions"
      ],
      "metadata": {
        "id": "1SjiIp-TFtF0"
      }
    },
    {
      "cell_type": "markdown",
      "source": [
        "# Nanograd automatic differention framework"
      ],
      "metadata": {
        "id": "OyXeAA-HuT7s"
      }
    },
    {
      "cell_type": "markdown",
      "source": [
        "The [Nanograd](https://github.com/rasmusbergpalm/nanograd) framework defines a class Var which both holds a value and gradient value that we can use to store the intermediate values when we apply the chain rule of differentiation."
      ],
      "metadata": {
        "id": "k6UWKCLKubgA"
      }
    },
    {
      "cell_type": "code",
      "execution_count": 1,
      "source": [
        "# Copy and pasted from https://github.com/rasmusbergpalm/nanograd/blob/main/nanograd.py\r\n",
        "\r\n",
        "from math import exp, log, tanh\r\n",
        "\r\n",
        "class Var:\r\n",
        "    \"\"\"\r\n",
        "    A variable which holds a float and enables gradient computations.\r\n",
        "    \"\"\"\r\n",
        "\r\n",
        "    def __init__(self, val: float, grad_fn=lambda: []):\r\n",
        "        assert type(val) == float\r\n",
        "        self.v = val\r\n",
        "        self.grad_fn = grad_fn\r\n",
        "        self.grad = 0.0\r\n",
        "\r\n",
        "    def backprop(self, bp):\r\n",
        "        self.grad += bp\r\n",
        "        for input, grad in self.grad_fn():\r\n",
        "            input.backprop(grad * bp)\r\n",
        "\r\n",
        "    def backward(self):\r\n",
        "        self.backprop(1.0)\r\n",
        "\r\n",
        "    def __add__(self: 'Var', other: 'Var') -> 'Var':\r\n",
        "        return Var(self.v + other.v, lambda: [(self, 1.0), (other, 1.0)])\r\n",
        "\r\n",
        "    def __mul__(self: 'Var', other: 'Var') -> 'Var':\r\n",
        "        return Var(self.v * other.v, lambda: [(self, other.v), (other, self.v)])\r\n",
        "\r\n",
        "    def __pow__(self, power):\r\n",
        "        assert type(power) in {float, int}, \"power must be float or int\"\r\n",
        "        return Var(self.v ** power, lambda: [(self, power * self.v ** (power - 1))])\r\n",
        "\r\n",
        "    def __neg__(self: 'Var') -> 'Var':\r\n",
        "        return Var(-1.0) * self\r\n",
        "\r\n",
        "    def __sub__(self: 'Var', other: 'Var') -> 'Var':\r\n",
        "        return self + (-other)\r\n",
        "\r\n",
        "    def __truediv__(self: 'Var', other: 'Var') -> 'Var':\r\n",
        "        return self * other ** -1\r\n",
        "\r\n",
        "    def __repr__(self):\r\n",
        "        return \"Var(v=%.4f, grad=%.4f)\" % (self.v, self.grad)\r\n",
        "\r\n",
        "    def relu(self):\r\n",
        "        return Var(self.v if self.v > 0.0 else 0.0, lambda: [(self, 1.0 if self.v > 0.0 else 0.0)])\r\n",
        "\r\n",
        "#TODO: feedback: you did not put the grad_fn in the new functions (lambda: [(...)])\r\n",
        "\r\n",
        "    def identity(self):\r\n",
        "        return self # Var(self.v, 1.0)\r\n",
        "\r\n",
        "    def tanh(self):\r\n",
        "        return Var(tanh(self.v), 1.0 - ((exp(self.v) - exp(-self.v))**2) / ((exp(self.v) + exp(-self.v))**2) ) \r\n",
        "    \r\n",
        "    def sigmoid(self):\r\n",
        "        return Var(1.0/(1.0 + exp(-self.v)), exp(-self.v)/(1+exp(-self.v))**2)\r\n",
        "\r\n",
        "    def exp(self):\r\n",
        "        return Var(exp(self.v), lambda: [(self, exp(self.v))])\r\n",
        "    \r\n",
        "    def log(self):\r\n",
        "        return Var(log(self.v), lambda: [(self, self.v ** -1)])"
      ],
      "outputs": [],
      "metadata": {
        "id": "Jd4CoEBNzNWS"
      }
    },
    {
      "cell_type": "markdown",
      "source": [
        "A few examples illustrate how we can use this:"
      ],
      "metadata": {
        "id": "yDX67D6jzcte"
      }
    },
    {
      "cell_type": "code",
      "execution_count": 9,
      "source": [
        "a = Var(3.0)\r\n",
        "b = Var(5.0)\r\n",
        "f = a * b\r\n",
        "\r\n",
        "#f.backward()\r\n",
        "\r\n",
        "for v in [a, b, f]:\r\n",
        "    print(v)"
      ],
      "outputs": [
        {
          "output_type": "stream",
          "name": "stdout",
          "text": [
            "Var(v=3.0000, grad=0.0000)\n",
            "Var(v=5.0000, grad=0.0000)\n",
            "Var(v=15.0000, grad=0.0000)\n"
          ]
        }
      ],
      "metadata": {
        "colab": {
          "base_uri": "https://localhost:8080/"
        },
        "id": "xk6PeLc3zwPT",
        "outputId": "1e8c6d68-749a-44c3-8fce-0029dcc3215b"
      }
    },
    {
      "cell_type": "code",
      "execution_count": 10,
      "source": [
        "a = Var(3.0)\r\n",
        "b = Var(5.0)\r\n",
        "c = a * b\r\n",
        "d = Var(9.0)\r\n",
        "e = a * d\r\n",
        "f = c + e\r\n",
        "\r\n",
        "f.backward()\r\n",
        "\r\n",
        "for v in [a, b, c, d, e, f]:\r\n",
        "    print(v)"
      ],
      "outputs": [
        {
          "output_type": "stream",
          "name": "stdout",
          "text": [
            "Var(v=3.0000, grad=14.0000)\n",
            "Var(v=5.0000, grad=3.0000)\n",
            "Var(v=15.0000, grad=1.0000)\n",
            "Var(v=9.0000, grad=3.0000)\n",
            "Var(v=27.0000, grad=1.0000)\n",
            "Var(v=42.0000, grad=1.0000)\n"
          ]
        }
      ],
      "metadata": {
        "colab": {
          "base_uri": "https://localhost:8080/"
        },
        "id": "JmKhYgsY0g_o",
        "outputId": "d86771b7-4166-40a5-8b35-8a46a5d7b1e9"
      }
    },
    {
      "cell_type": "markdown",
      "source": [
        "## Exercise a) What is being calculated?\r\n",
        "\r\n",
        "Explain briefly the output of the code? What is the expression we differentiate and with respect to what variables?\r\n",
        "\r\n",
        "\r\n",
        "## Anwser to a)\r\n",
        "The output of the code is the value of the input, and the gradient in the direction of that input, i.e. the derivative with respect to that input variable.\r\n",
        "\r\n",
        "The expression we differentiate is f. We differentiate it w.r.t. all its inputs, and store these as \"grad\" in the respective variables.\r\n",
        "\r\n",
        "Writing out the function $f$, helps to verify this.\r\n",
        "\r\n",
        "$$\r\n",
        "\\begin{align}\r\n",
        "f(a,b,d) &= c + d = ab + ad = a(b+d) \\\\\r\n",
        "        &= 3*5 + 3*9 = 3*(14) \r\n",
        "\\end{align}\r\n",
        "$$\r\n",
        "\r\n",
        "If we print $a=Var(3)$ (after applying f.backward()) we get the value 3 and grad = 14. This gradient correspond to the derivative of $f$ w.r.t. $a = (b+d) = 14$."
      ],
      "metadata": {
        "id": "Fe3B6uEH140p"
      }
    },
    {
      "cell_type": "markdown",
      "source": [
        "#### Exercise b) How does the backward function work?\r\n",
        "\r\n",
        "For the first example above, make a schematic of the data structure which is generated when we define the expression for f. Then execute the backward function by hand to convince yourself that it indeed calculates the gradients with respect to the variables. Write down the sequence of calls to backprop for the first example above.\r\n",
        "\r\n",
        "### Anwser b)\r\n",
        "For the first example we have: \r\n",
        "$$\r\n",
        "\\begin{align}\r\n",
        "a &= Var(3.0) \\\\\r\n",
        "b &= Var(5.0) \\\\\r\n",
        "f &= a * b = Var(3.0) * Var(5.0)\r\n",
        "\\end{align}\r\n",
        "$$\r\n",
        "\r\n",
        "Fist of all $a$ and $b$ are assigned the inputs (floats) as value, $v$. Moreover, they are assigned an empty list, grad_fn, and a default gradient, $grad=0$. \r\n",
        "\r\n",
        "As $f$ is simply a multiply-function, it invoke the __mul__ method: f=a.__mul__(b), when evaluating input of Var classes. \\\r\n",
        "\r\n",
        "The __mul__ method is modified to reurn: $f=Var(self.v * other.v, lambda: [(self, other.v), (other, self.v)])$. \r\n",
        "- The first element is the value, $v$, for $f$. \r\n",
        "- The second element is a list of tuples. The tuple's first element is the entire input variable, and the second is the value of the other variable that is multiplied. \r\n",
        "Therefore, the second element in the tuple is the gradient wrt. that variable. This is only the case when multiplying.\r\n",
        "\r\n",
        "At this stage (before calling backward) $f$ has the following properties for the considered example:\r\n",
        "$$\r\n",
        "\\begin{align}\r\n",
        "v &= 15.0 \\\\\r\n",
        "grad_{fn} &= [(Var(v=3.0000, grad=0.0000), 5.0), (Var(v=5.0000, grad=0.0000), 3.0)] \\\\\r\n",
        "grad &= 0.0 \r\n",
        "\\end{align}\r\n",
        "$$\r\n",
        "\r\n",
        "#### Backprop\r\n",
        "When we apply the backward function on $f$, it is evaluated in the $backprop$ function with bp=1.0.\\\r\n",
        "\r\n",
        "The first thing happening is that the grad of $f$ (which at this stage is 0) is added by $bp=1$. This is only natural as df(x)/df(x)=1.\r\n",
        "\r\n",
        "Next a recursive proccess starts.\r\n",
        "The elements (tuples) in f.grad_{fn} (list of tuples) are devided into two. For the first tuple in the list, (i.e. for $a$) we have the following: $input = Var(v=3.0000, grad=0.0000)$ and the $grad = 5.000$. \r\n",
        "Now the input itself is evaluated in the backprop function with it's gradient as input as bp. However, in this simple case, there is not stored anything in the list of a.grad_f and b.grad_fn why the loop is stoped. This is however to accomodate function of functions as in the second case.\r\n",
        "\r\n",
        "### Write out functions:\r\n",
        "### First Example\r\n",
        "```\r\n",
        "f.backward() -> # the sum of\r\n",
        "  f.backprop(1.0)\r\n",
        "    f.grad += 1.0\r\n",
        "    a.backprop(b.v * 1.0)\r\n",
        "      a.grad += b.v * 1.0 = 5.0\r\n",
        "    b.backprop(a.v * 1.0)\r\n",
        "      b.grad += a.v * 1.0 = 3.0\r\n",
        "```\r\n",
        "\r\n",
        "### Second Example\r\n",
        "```\r\n",
        "f.backward() -> # the sum of\r\n",
        "  f.backprop(1.0)\r\n",
        "    f.grad += 1.0\r\n",
        "    c.backprop(bp = 1.0 * 1.0)\r\n",
        "      c.grad += bp = 1.0\r\n",
        "      a.backprop(bp = 1.0 * 1.0)\r\n",
        "        a.grad += 5.0 * 1.0 = 5.0\r\n",
        "      b.backprop(a.v * 1.0)\r\n",
        "        b.grad += 3.0 * 1.0 = 3.0\r\n",
        "    e.backprop(bp = 1.0 * 1.0 = 1.0)\r\n",
        "      e.grad += bp = 1.0\r\n",
        "      a.backprop(bp = d.v * bp = 9.0 * 1.0)\r\n",
        "        a.grad += bp = d.v * bp -> a.grad += 9.0\r\n",
        "      d.backprop(bp = a.v * bp = 3.0 * 1.0)\r\n",
        "        d.grad += a.v * bp -> a.grad += 3.0\r\n",
        "\r\n",
        "\r\n",
        "a.grad = 5.0 + 9.0 = 14.0\r\n",
        "b.grad = 3.0\r\n",
        "c.grad = 1.0\r\n",
        "d.grad = 3.0\r\n",
        "e.grad = 1.0\r\n",
        "```"
      ],
      "metadata": {
        "id": "q8_Q0t2I3Ruj"
      }
    },
    {
      "cell_type": "markdown",
      "source": [
        "## Exercise c) What happens if we run backward again?\r\n",
        "\r\n",
        "Try to execute the code below. Explain what happens."
      ],
      "metadata": {
        "id": "A5oi21W4gpeM"
      }
    },
    {
      "cell_type": "code",
      "execution_count": 11,
      "source": [
        "f.backward()\r\n",
        "\r\n",
        "for v in [a, b, c, d, e, f]:\r\n",
        "    print(v)"
      ],
      "outputs": [
        {
          "output_type": "stream",
          "name": "stdout",
          "text": [
            "Var(v=3.0000, grad=28.0000)\n",
            "Var(v=5.0000, grad=6.0000)\n",
            "Var(v=15.0000, grad=2.0000)\n",
            "Var(v=9.0000, grad=6.0000)\n",
            "Var(v=27.0000, grad=2.0000)\n",
            "Var(v=42.0000, grad=2.0000)\n"
          ]
        }
      ],
      "metadata": {
        "colab": {
          "base_uri": "https://localhost:8080/"
        },
        "id": "DCtpJyr-gyX1",
        "outputId": "86d38af1-1c6e-487b-f4e6-bf29f0bb105e"
      }
    },
    {
      "cell_type": "code",
      "execution_count": 12,
      "source": [
        "f.grad_fn()"
      ],
      "outputs": [
        {
          "output_type": "execute_result",
          "data": {
            "text/plain": [
              "[(Var(v=15.0000, grad=2.0000), 1.0), (Var(v=27.0000, grad=2.0000), 1.0)]"
            ]
          },
          "metadata": {},
          "execution_count": 12
        }
      ],
      "metadata": {}
    },
    {
      "cell_type": "markdown",
      "source": [
        "## Anwser to c):\r\n",
        "In this case $f$ is a function of $c$ and $e$ which are again fuctions of $a,b$, and $a,d$, respectively. Therefore, the loop on loop in the backward function explores further into c and e, to derive gradients w.r.t. a,c and d as well.\r\n",
        "\r\n",
        "When $f$ is evaluated in the backward function again, the tuple of the first element of $f$, i.e. $c$ is sent throght the back propagation to evaluate $c$'s input, i.e. $a,b$. Next, the tuple belonging to $e$ is evaluated and thus the inner loop of the cawprop function unpack $e$ and evaluates $a,d$.\r\n",
        "\r\n",
        "Note that by default all the gradients are added by $bp=1$ and the values in $[a, b, c, d, e, f]$ remain unchanged."
      ],
      "metadata": {}
    },
    {
      "cell_type": "markdown",
      "source": [
        "## Exercise d) Zero gradient\r\n",
        "\r\n",
        "We can zero the gradient by backpropagating a -1.0 as is shown in the example below. (If you have run backward multiple time then you also have to run the cell below an equal amount of times.) Explain what is going on."
      ],
      "metadata": {
        "id": "e8bPVq2VhsP-"
      }
    },
    {
      "cell_type": "code",
      "execution_count": 13,
      "source": [
        "a = Var(2.0)\r\n",
        "\r\n",
        "for v in [a, b, c, d, e, f]:\r\n",
        "    print(v)\r\n",
        "\r\n",
        "print('\\n Now backprob again: \\n')\r\n",
        "f.backprop(-1.0)\r\n",
        "\r\n",
        "for v in [a, b, c, d, e, f]:\r\n",
        "    print(v)"
      ],
      "outputs": [
        {
          "output_type": "stream",
          "name": "stdout",
          "text": [
            "Var(v=2.0000, grad=0.0000)\n",
            "Var(v=5.0000, grad=6.0000)\n",
            "Var(v=15.0000, grad=2.0000)\n",
            "Var(v=9.0000, grad=6.0000)\n",
            "Var(v=27.0000, grad=2.0000)\n",
            "Var(v=42.0000, grad=2.0000)\n",
            "\n",
            " Now backprob again: \n",
            "\n",
            "Var(v=2.0000, grad=0.0000)\n",
            "Var(v=5.0000, grad=3.0000)\n",
            "Var(v=15.0000, grad=1.0000)\n",
            "Var(v=9.0000, grad=3.0000)\n",
            "Var(v=27.0000, grad=1.0000)\n",
            "Var(v=42.0000, grad=1.0000)\n"
          ]
        }
      ],
      "metadata": {
        "colab": {
          "base_uri": "https://localhost:8080/"
        },
        "id": "OnyPDQx9lJe0",
        "outputId": "0b86a0c1-3dc7-4f72-e661-649fa7b53c3a"
      }
    },
    {
      "cell_type": "markdown",
      "source": [
        "### Anwser to d):\r\n",
        "When $bp=-1$ the gradient is subtracted 1 in the outer loop (i.e. for $c$ and $e$) and negated in the inner loop (i.e. for $a,b,d$) and added to the existing grad.\r\n",
        "\r\n",
        "For example: \r\n",
        "- The gradient of $c$ is subtracted by $1$. \r\n",
        "- Because $c$ is a multiplying function of $a*b$, we first evaluate $a$ and backprop the negated gradient (which is 0 here), and add to the existing $grad=-0+0$. \r\n",
        "- Continuing with the second element in $c$, we backprop $b$ with negated gradient, i.e. $-3$ and add this to exicting $grad = 6-3 = 3$.\r\n",
        "- And so on for $e$ as a function of $a,d$.\r\n"
      ],
      "metadata": {}
    },
    {
      "cell_type": "markdown",
      "source": [
        "## Exercise e) Test correctness of derivatives with the finite difference method\n",
        "\n",
        "Write a small function that uses [the finite difference method](https://en.wikipedia.org/wiki/Finite_difference_method) to numerically test that backpropation implementation is working. In short we will use\n",
        "$$\n",
        "\\frac{\\partial f(a)}{\\partial a} \\approx \\frac{f(a+da)-f(a)}{da}\n",
        "$$\n",
        "for $da \\ll 1$.\n",
        "\n",
        "\n",
        "_Insert your code in the cell below._\n"
      ],
      "metadata": {
        "id": "U4057_ljNvWB"
      }
    },
    {
      "cell_type": "code",
      "execution_count": 14,
      "source": [
        "# test function - try to change into other functions as well\r\n",
        "def test_function(a):\r\n",
        "  a = Var(a)\r\n",
        "  b = Var(5.0)\r\n",
        "  f = a * b\r\n",
        "  f.backward()\r\n",
        "  return a,b,f\r\n",
        "\r\n",
        "for v in test_function(3.0):\r\n",
        "  print(v)\r\n",
        "\r\n",
        "# Insert your finite difference code here\r\n",
        "def finite_difference(a=3.0, b=5.0, da=1e-10):\r\n",
        "    \"\"\"\r\n",
        "    This function compute the finite difference between\r\n",
        "    \r\n",
        "    Input:\r\n",
        "    da:          The finite difference                           (float)\r\n",
        "    \r\n",
        "    Output:\r\n",
        "    finite_difference: numerical approximation to the derivative (float) \r\n",
        "    \"\"\"\r\n",
        "    \r\n",
        "    fa_da = (a + da)*b           # <- Insert correct expression\r\n",
        "    # fb_da = a*(b+da)        # for derivative w.r.t. b\r\n",
        "    fa = a*b               # <- Insert correct expression\r\n",
        "\r\n",
        "    finite_difference = (fa_da - fa) / da\r\n",
        "    \r\n",
        "    return finite_difference\r\n",
        "\r\n",
        "print('finite difference: ',finite_difference())"
      ],
      "outputs": [
        {
          "output_type": "stream",
          "name": "stdout",
          "text": [
            "Var(v=3.0000, grad=5.0000)\n",
            "Var(v=5.0000, grad=3.0000)\n",
            "Var(v=15.0000, grad=1.0000)\n",
            "finite difference:  5.000000413701855\n"
          ]
        }
      ],
      "metadata": {
        "colab": {
          "base_uri": "https://localhost:8080/"
        },
        "id": "9TGil92lSXDN",
        "outputId": "4993ad11-b380-487c-bcf2-c29a12ef60e1"
      }
    },
    {
      "cell_type": "markdown",
      "source": [
        "From above we see that the numerival approcimation of the derivative of $f$ w.r.t. $a$ is ca. 5.0 and is thus equal that of the backward funtion."
      ],
      "metadata": {}
    },
    {
      "cell_type": "markdown",
      "source": [
        "# Create an artificial dataset to play with\n",
        "\n",
        "We create a non-linear 1d regression task. The generator supports various noise levels and it creates train, validation and test sets. You can modify it yourself if you want more or less challenging tasks."
      ],
      "metadata": {
        "id": "6pZar5RKaUkg"
      }
    },
    {
      "cell_type": "code",
      "execution_count": 15,
      "source": [
        "import numpy as np\r\n",
        "import matplotlib.pyplot as plt\r\n",
        "\r\n",
        "np.random.seed(42)"
      ],
      "outputs": [],
      "metadata": {
        "collapsed": true,
        "id": "Y6yfMAQ8aduj"
      }
    },
    {
      "cell_type": "code",
      "execution_count": 16,
      "source": [
        "def data_generator(noise=0.1, n_samples=300, D1=True):\r\n",
        "    # Create covariates and response variable\r\n",
        "    if D1:\r\n",
        "        X = np.linspace(-3, 3, num=n_samples).reshape(-1,1) # 1-D\r\n",
        "        np.random.shuffle(X)\r\n",
        "        y = np.random.normal((0.5*np.sin(X[:,0]*3) + X[:,0]), noise) # 1-D with trend\r\n",
        "    else:\r\n",
        "        X = np.random.multivariate_normal(np.zeros(3), noise*np.eye(3), size = n_samples) # 3-D\r\n",
        "        np.random.shuffle(X)    \r\n",
        "        y = np.sin(X[:,0]) - 5*(X[:,1]**2) + 0.5*X[:,2] # 3-D\r\n",
        "\r\n",
        "    # Stack them together vertically to split data set\r\n",
        "    data_set = np.vstack((X.T,y)).T\r\n",
        "    \r\n",
        "    train, validation, test = np.split(data_set, [int(0.35*n_samples), int(0.7*n_samples)], axis=0)\r\n",
        "    \r\n",
        "    # Standardization of the data, remember we do the standardization with the training set mean and standard deviation\r\n",
        "    train_mu = np.mean(train, axis=0)\r\n",
        "    train_sigma = np.std(train, axis=0)\r\n",
        "    \r\n",
        "    train = (train-train_mu)/train_sigma\r\n",
        "    validation = (validation-train_mu)/train_sigma\r\n",
        "    test = (test-train_mu)/train_sigma\r\n",
        "    \r\n",
        "    x_train, x_validation, x_test = train[:,:-1], validation[:,:-1], test[:,:-1]\r\n",
        "    y_train, y_validation, y_test = train[:,-1], validation[:,-1], test[:,-1]\r\n",
        "\r\n",
        "    return x_train, y_train,  x_validation, y_validation, x_test, y_test"
      ],
      "outputs": [],
      "metadata": {
        "collapsed": true,
        "id": "4YabfD43ajNh"
      }
    },
    {
      "cell_type": "code",
      "execution_count": 17,
      "source": [
        "D1 = True\r\n",
        "x_train, y_train,  x_validation, y_validation, x_test, y_test = data_generator(noise=0.5, D1=D1)"
      ],
      "outputs": [],
      "metadata": {
        "collapsed": true,
        "id": "u1oDngHLapIz"
      }
    },
    {
      "cell_type": "code",
      "execution_count": 18,
      "source": [
        "if D1:\r\n",
        "    plt.scatter(x_train[:,0], y_train);\r\n",
        "    plt.scatter(x_validation[:,0], y_validation);\r\n",
        "    plt.scatter(x_test[:,0], y_test);\r\n",
        "else:\r\n",
        "    plt.scatter(x_train[:,1], y_train);\r\n",
        "    plt.scatter(x_validation[:,1], y_validation);\r\n",
        "    plt.scatter(x_test[:,1], y_test);\r\n",
        "plt.show()"
      ],
      "outputs": [
        {
          "output_type": "display_data",
          "data": {
            "image/png": "[encoded data removed]",
            "text/plain": [
              "<Figure size 432x288 with 1 Axes>"
            ]
          },
          "metadata": {
            "needs_background": "light"
          }
        }
      ],
      "metadata": {
        "colab": {
          "base_uri": "https://localhost:8080/",
          "height": 265
        },
        "id": "Ysfa3FsBavlm",
        "outputId": "26d5d03c-6c26-47ce-cbab-676c99c30b73"
      }
    },
    {
      "cell_type": "code",
      "execution_count": 19,
      "source": [
        "# convert from nparray to Var\r\n",
        "def nparray_to_Var(x):\r\n",
        "  if x.ndim==1:\r\n",
        "    y = [[Var(float(x[i]))] for i in range(x.shape[0])] # always work with list of list\r\n",
        "  else:\r\n",
        "    y = [[Var(float(x[i,j])) for j in range(x.shape[1])] for i in range(x.shape[0])]\r\n",
        "  return y\r\n",
        "   \r\n",
        "x_train = nparray_to_Var(x_train)\r\n",
        "y_train = nparray_to_Var(y_train)\r\n",
        "x_validation = nparray_to_Var(x_validation)\r\n",
        "y_validation = nparray_to_Var(y_validation)\r\n",
        "x_test = nparray_to_Var(x_test)\r\n",
        "y_test = nparray_to_Var(y_test)\r\n"
      ],
      "outputs": [],
      "metadata": {
        "id": "zac2HHNlgbpm"
      }
    },
    {
      "cell_type": "markdown",
      "source": [
        "# Defining and initializing the network\r\n",
        "\r\n",
        "The steps to create a feed forward neural network are the following:\r\n",
        "\r\n",
        "1. **Number of hidden layer and hidden units**. We have to define the number of hidden units in each layer. The number of features in X and the output dimensionality (the size of Y) are given but the numbers in between are set by the researcher. Remember that for each unit in each layer beside in the input has a bias term.\r\n",
        "2. **Activation functions** for each hidden layer. Each hidden layer in your list must have an activation function (it can also be the linear activation which is equivalent to identity function). The power of neural networks comes from non-linear activation functions that learn representations (features) from the data allowing us to learn from it. \r\n",
        "3. **Parameter initialization**. We will initialize the weights to have random values. This is done in practice by drawing pseudo random numbers from a Gaussian or uniform distribution. It turns out that for deeper models we have to be careful about how we scale the random numbers. This will be the topic of the exercise below. For now we will just use unit variance Gaussians.  \r\n",
        "\r\n",
        "In order to make life easier for ourselves we define a DenseLayer class that takes care of initialization and the forward pass. We can also extend it later with print and advanced initialization capabilities. For the latter we have introduced a Initializer class.\r\n",
        "\r\n",
        "Note that we use Sequence in the code below. A Sequence is an ordered list. This means the order we insert and access items are the same."
      ],
      "metadata": {
        "id": "VbjrqcpVFtGe"
      }
    },
    {
      "cell_type": "code",
      "execution_count": 20,
      "source": [
        "class Initializer:\r\n",
        "\r\n",
        "  def init_weights(self, n_in, n_out):\r\n",
        "    raise NotImplementedError\r\n",
        "\r\n",
        "  def init_bias(self, n_out):\r\n",
        "    raise NotImplementedError"
      ],
      "outputs": [],
      "metadata": {
        "id": "ij_ieRsAt7Xt"
      }
    },
    {
      "cell_type": "code",
      "execution_count": 21,
      "source": [
        "import random\r\n",
        "\r\n",
        "class NormalInitializer(Initializer):\r\n",
        "\r\n",
        "  def __init__(self, mean=0, std=0.1):\r\n",
        "    self.mean = mean\r\n",
        "    self.std = std\r\n",
        "\r\n",
        "  def init_weights(self, n_in, n_out):\r\n",
        "    return [[Var(random.gauss(self.mean, self.std)) for _ in range(n_out)] for _ in range(n_in)]\r\n",
        "\r\n",
        "  def init_bias(self, n_out):\r\n",
        "    return [Var(0.0) for _ in range(n_out)]\r\n",
        "\r\n",
        "class ConstantInitializer(Initializer):\r\n",
        "\r\n",
        "  def __init__(self, weight=1.0, bias=0.0):\r\n",
        "    self.weight = weight\r\n",
        "    self.bias = bias\r\n",
        "\r\n",
        "  def init_weights(self, n_in, n_out):\r\n",
        "    return [[Var(self.weight) for _ in range(n_out)] for _ in range(n_in)]\r\n",
        "\r\n",
        "  def init_bias(self, n_out):\r\n",
        "    return [Var(self.bias) for _ in range(n_out)]"
      ],
      "outputs": [],
      "metadata": {
        "id": "eb18N5phuIha"
      }
    },
    {
      "cell_type": "code",
      "execution_count": 22,
      "source": [
        "from typing import Sequence\r\n",
        "\r\n",
        "class DenseLayer:\r\n",
        "    def __init__(self, n_in: int, n_out: int, act_fn, initializer = NormalInitializer()):\r\n",
        "        self.weights = initializer.init_weights(n_in, n_out)\r\n",
        "        self.bias = initializer.init_bias(n_out)\r\n",
        "        self.act_fn = act_fn\r\n",
        "    \r\n",
        "    def __repr__(self):    \r\n",
        "        return f'\\n Weights: {repr(self.weights)} \\n Biases: {repr(self.bias)} \\n'          # simply add '\\n' for nice printing\r\n",
        "\r\n",
        "    def parameters(self) -> Sequence[Var]:\r\n",
        "      params = []\r\n",
        "      for r in self.weights:\r\n",
        "        params += r\r\n",
        "\r\n",
        "      return params + self.bias\r\n",
        "\r\n",
        "    def forward(self, inputs: Sequence[Var]) -> Sequence[Var]:\r\n",
        "        assert len(self.weights) == len(inputs), \"weights and inputs must match in first dimension\"\r\n",
        "        weights = self.weights\r\n",
        "        out = []\r\n",
        "\r\n",
        "        for j in range(len(weights[0])):\r\n",
        "            node = self.bias[j]                                    # <- Insert code\r\n",
        "            for i in range(len(inputs)):\r\n",
        "                node += inputs[i]*weights[i][j]                    # <- Insert code --###-- a = w*x = w*z_{t-1} \r\n",
        "            node = self.act_fn(node)                               # z = h(a)\r\n",
        "            out.append(node) \r\n",
        "\r\n",
        "        return out"
      ],
      "outputs": [],
      "metadata": {
        "id": "jOLYGnZKuM6W"
      }
    },
    {
      "cell_type": "markdown",
      "source": [
        "## Exercise f) Complete the forward pass\n",
        "\n",
        "In the code below we initialize a 1-5-1 network and pass the training set through it. The forward method in DenseLayer is not complete. It  just outputs zeros right now. The method forward should perform an [affine transformation](https://en.wikipedia.org/wiki/Affine_transformation) on the input followed by an application of the activation function."
      ],
      "metadata": {
        "id": "p_8n_SKnIW2F"
      }
    },
    {
      "cell_type": "code",
      "execution_count": 23,
      "source": [
        "NN = [\r\n",
        "    DenseLayer(1, 5, lambda x: x.relu()),\r\n",
        "    DenseLayer(5, 1, lambda x: x.identity())\r\n",
        "]\r\n",
        "\r\n",
        "def forward(input, network):\r\n",
        "  def forward_single(x, network):\r\n",
        "    for layer in network:\r\n",
        "        x = layer.forward(x)\r\n",
        "    return x\r\n",
        "\r\n",
        "  output = [ forward_single(input[n], network) for n in range(len(input))]\r\n",
        "  return output\r\n",
        "\r\n",
        "print(forward(x_train, NN))"
      ],
      "outputs": [
        {
          "output_type": "stream",
          "name": "stdout",
          "text": [
            "[[Var(v=0.0089, grad=0.0000)], [Var(v=0.0178, grad=0.0000)], [Var(v=0.0016, grad=0.0000)], [Var(v=-0.0238, grad=0.0000)], [Var(v=0.0131, grad=0.0000)], [Var(v=0.0122, grad=0.0000)], [Var(v=0.0079, grad=0.0000)], [Var(v=-0.0057, grad=0.0000)], [Var(v=-0.0245, grad=0.0000)], [Var(v=0.0049, grad=0.0000)], [Var(v=0.0137, grad=0.0000)], [Var(v=-0.0151, grad=0.0000)], [Var(v=0.0110, grad=0.0000)], [Var(v=-0.0173, grad=0.0000)], [Var(v=0.0059, grad=0.0000)], [Var(v=0.0114, grad=0.0000)], [Var(v=0.0211, grad=0.0000)], [Var(v=0.0100, grad=0.0000)], [Var(v=0.0011, grad=0.0000)], [Var(v=0.0035, grad=0.0000)], [Var(v=-0.0113, grad=0.0000)], [Var(v=-0.0050, grad=0.0000)], [Var(v=0.0154, grad=0.0000)], [Var(v=0.0156, grad=0.0000)], [Var(v=-0.0066, grad=0.0000)], [Var(v=-0.0178, grad=0.0000)], [Var(v=0.0200, grad=0.0000)], [Var(v=0.0220, grad=0.0000)], [Var(v=0.0023, grad=0.0000)], [Var(v=0.0139, grad=0.0000)], [Var(v=-0.0224, grad=0.0000)], [Var(v=0.0033, grad=0.0000)], [Var(v=-0.0195, grad=0.0000)], [Var(v=-0.0211, grad=0.0000)], [Var(v=0.0106, grad=0.0000)], [Var(v=-0.0039, grad=0.0000)], [Var(v=-0.0242, grad=0.0000)], [Var(v=-0.0092, grad=0.0000)], [Var(v=-0.0171, grad=0.0000)], [Var(v=-0.0122, grad=0.0000)], [Var(v=-0.0086, grad=0.0000)], [Var(v=-0.0117, grad=0.0000)], [Var(v=0.0207, grad=0.0000)], [Var(v=-0.0146, grad=0.0000)], [Var(v=-0.0115, grad=0.0000)], [Var(v=-0.0140, grad=0.0000)], [Var(v=0.0133, grad=0.0000)], [Var(v=0.0126, grad=0.0000)], [Var(v=-0.0054, grad=0.0000)], [Var(v=0.0129, grad=0.0000)], [Var(v=0.0056, grad=0.0000)], [Var(v=0.0005, grad=0.0000)], [Var(v=0.0140, grad=0.0000)], [Var(v=-0.0119, grad=0.0000)], [Var(v=0.0223, grad=0.0000)], [Var(v=0.0196, grad=0.0000)], [Var(v=-0.0079, grad=0.0000)], [Var(v=-0.0088, grad=0.0000)], [Var(v=0.0073, grad=0.0000)], [Var(v=-0.0209, grad=0.0000)], [Var(v=0.0130, grad=0.0000)], [Var(v=-0.0148, grad=0.0000)], [Var(v=-0.0244, grad=0.0000)], [Var(v=0.0063, grad=0.0000)], [Var(v=0.0046, grad=0.0000)], [Var(v=-0.0200, grad=0.0000)], [Var(v=-0.0215, grad=0.0000)], [Var(v=0.0164, grad=0.0000)], [Var(v=-0.0153, grad=0.0000)], [Var(v=0.0065, grad=0.0000)], [Var(v=-0.0059, grad=0.0000)], [Var(v=-0.0026, grad=0.0000)], [Var(v=0.0127, grad=0.0000)], [Var(v=0.0075, grad=0.0000)], [Var(v=-0.0021, grad=0.0000)], [Var(v=0.0201, grad=0.0000)], [Var(v=-0.0106, grad=0.0000)], [Var(v=-0.0102, grad=0.0000)], [Var(v=-0.0135, grad=0.0000)], [Var(v=0.0210, grad=0.0000)], [Var(v=0.0032, grad=0.0000)], [Var(v=0.0019, grad=0.0000)], [Var(v=-0.0220, grad=0.0000)], [Var(v=-0.0030, grad=0.0000)], [Var(v=-0.0112, grad=0.0000)], [Var(v=-0.0048, grad=0.0000)], [Var(v=-0.0041, grad=0.0000)], [Var(v=-0.0124, grad=0.0000)], [Var(v=-0.0227, grad=0.0000)], [Var(v=-0.0236, grad=0.0000)], [Var(v=0.0076, grad=0.0000)], [Var(v=-0.0072, grad=0.0000)], [Var(v=-0.0131, grad=0.0000)], [Var(v=0.0119, grad=0.0000)], [Var(v=-0.0188, grad=0.0000)], [Var(v=-0.0226, grad=0.0000)], [Var(v=0.0055, grad=0.0000)], [Var(v=0.0009, grad=0.0000)], [Var(v=0.0190, grad=0.0000)], [Var(v=-0.0133, grad=0.0000)], [Var(v=0.0124, grad=0.0000)], [Var(v=-0.0130, grad=0.0000)], [Var(v=-0.0198, grad=0.0000)], [Var(v=0.0060, grad=0.0000)], [Var(v=0.0177, grad=0.0000)]]\n"
          ]
        }
      ],
      "metadata": {
        "colab": {
          "base_uri": "https://localhost:8080/"
        },
        "id": "xDEjtePxE7Mv",
        "outputId": "271bcd73-43d6-4255-8ea0-6447b2a0ad8c"
      }
    },
    {
      "cell_type": "markdown",
      "source": [
        "## Exercise g) Print all network parameters\n",
        "\n",
        "Make a function that prints all the parameters of the network (weights and biases) with information about in which layer the appear. In the object oriented spirit you should introduce a method in the DenseLayer class to print the parameters of a layer. Hint: You can take inspiration from the corresponding method in Var. "
      ],
      "metadata": {
        "id": "oLrGJytZFtGm"
      }
    },
    {
      "cell_type": "code",
      "execution_count": 24,
      "source": [
        "# Insert code here and in the DenseLayer class\r\n",
        "def weight_printer(NN):\r\n",
        "    '''Function to print the weights and bias of each layer'''\r\n",
        "\r\n",
        "    for layer in range(len(NN)):\r\n",
        "        print(f'Layer {layer}: {NN[layer]}')\r\n",
        "\r\n",
        "\r\n",
        "weight_printer(NN=NN)"
      ],
      "outputs": [
        {
          "output_type": "stream",
          "name": "stdout",
          "text": [
            "Layer 0: \n",
            " Weights: [[Var(v=-0.2145, grad=0.0000), Var(v=0.1198, grad=0.0000), Var(v=0.0649, grad=0.0000), Var(v=-0.0087, grad=0.0000), Var(v=-0.1176, grad=0.0000)]] \n",
            " Biases: [Var(v=0.0000, grad=0.0000), Var(v=0.0000, grad=0.0000), Var(v=0.0000, grad=0.0000), Var(v=0.0000, grad=0.0000), Var(v=0.0000, grad=0.0000)] \n",
            "\n",
            "Layer 1: \n",
            " Weights: [[Var(v=-0.0315, grad=0.0000)], [Var(v=0.0528, grad=0.0000)], [Var(v=0.0923, grad=0.0000)], [Var(v=-0.0345, grad=0.0000)], [Var(v=-0.0730, grad=0.0000)]] \n",
            " Biases: [Var(v=0.0000, grad=0.0000)] \n",
            "\n"
          ]
        }
      ],
      "metadata": {
        "collapsed": true,
        "id": "iac-VwYGFtGm"
      }
    },
    {
      "cell_type": "markdown",
      "source": [
        "# Activation functions\r\n",
        "\r\n",
        "To have a full definition of the neural network, we must define an activation function for every layer. Several activation functions have been proposed and have different characteristics. In the Var class we have already defined the rectified linear init (relu). \r\n",
        " "
      ],
      "metadata": {
        "id": "-u4xk_ORFtGz"
      }
    },
    {
      "cell_type": "markdown",
      "source": [
        "## Exercise h) Add more activation functions\r\n",
        "\r\n",
        "Implement the following activation functions in the Var class:\r\n",
        "\r\n",
        "* Identity: $$\\mathrm{identity}(x) = x$$\r\n",
        "* Hyperbolic tangent: $$\\tanh(x)$$\r\n",
        "* Sigmoid (or logistic function): $$\\mathrm{sigmoid}(x) = \\frac{1}{1.0 + \\exp(-x ) }$$  Hint: $\\mathrm{sigmoid}'(x)= \\mathrm{sigmoid}(x)(1-\\mathrm{sigmoid}(x))$.  \r\n",
        "\r\n",
        "Hint: You can seek inspiration in the relu method in the Var class.\r\n",
        "\r\n",
        "## Anwser - see added code in Var class"
      ],
      "metadata": {
        "id": "jpIZPBpNI0pO"
      }
    },
    {
      "cell_type": "markdown",
      "source": [
        "## Visualization\n",
        "\n",
        "Now that we have defined our activation functions we can visualize them to see what they look like:"
      ],
      "metadata": {
        "id": "_79HOAXrFtHK"
      }
    },
    {
      "cell_type": "code",
      "execution_count": 25,
      "source": [
        "x = np.linspace(-6, 6, 100)\r\n",
        "\r\n",
        "# convert from Var to ndarray  \r\n",
        "def Var_to_nparray(x):\r\n",
        "  y = np.zeros((len(x),len(x[0])))\r\n",
        "  for i in range(len(x)):\r\n",
        "    for j in range(len(x[0])):\r\n",
        "      y[i,j] = x[i][j].v\r\n",
        "  return y\r\n",
        "\r\n",
        "# define 1-1 network with weight = 1 and relu activation \r\n",
        "NN = [ DenseLayer(1, 1, lambda x: x.relu(), initializer = ConstantInitializer(1.0)) ] \r\n",
        "y = Var_to_nparray(forward(nparray_to_Var(x), NN))\r\n",
        "\r\n",
        "#y = Var_to_nparray(relu(nparray_to_Var(x)))\r\n",
        "plt.plot(x,y)"
      ],
      "outputs": [
        {
          "output_type": "execute_result",
          "data": {
            "text/plain": [
              "[<matplotlib.lines.Line2D at 0x1b21e1176a0>]"
            ]
          },
          "metadata": {},
          "execution_count": 25
        },
        {
          "output_type": "display_data",
          "data": {
            "image/png": "[encoded data removed]",
            "text/plain": [
              "<Figure size 432x288 with 1 Axes>"
            ]
          },
          "metadata": {
            "needs_background": "light"
          }
        }
      ],
      "metadata": {
        "colab": {
          "base_uri": "https://localhost:8080/",
          "height": 284
        },
        "id": "1FcylHqLTl-Z",
        "outputId": "c23c865b-3894-434c-f38a-f3cff5f772e5"
      }
    },
    {
      "cell_type": "code",
      "execution_count": 26,
      "source": [
        "# Testing all activation layers\r\n",
        "\r\n",
        "x = np.linspace(-6, 6, 100)\r\n",
        "units = {\r\n",
        "    \"identity\": lambda x: x.identity(),\r\n",
        "    \"sigmoid\": lambda x: x.sigmoid(),   #<- uncomment before sharing\r\n",
        "    \"relu\": lambda x: x.relu(),\r\n",
        "    \"tanh\": lambda x: x.tanh()          #<- uncomment before sharing\r\n",
        "}\r\n",
        "\r\n",
        "plt.figure(figsize=(5, 5))\r\n",
        "[plt.plot(x, Var_to_nparray(forward(nparray_to_Var(x), [DenseLayer(1, 1, unit, initializer = ConstantInitializer(1.0))]) ), label=unit_name, lw=2) for unit_name, unit in units.items()] # unit(nparray_to_Var(x))), label=unit_name, lw=2) for unit_name, unit in units.items()]\r\n",
        "plt.legend(loc=2, fontsize=16)\r\n",
        "plt.title('Our activation functions', fontsize=20)\r\n",
        "plt.ylim([-2, 5])\r\n",
        "plt.xlim([-6, 6])\r\n",
        "plt.show()"
      ],
      "outputs": [
        {
          "output_type": "display_data",
          "data": {
            "image/png": "[encoded data removed]",
            "text/plain": [
              "<Figure size 360x360 with 1 Axes>"
            ]
          },
          "metadata": {
            "needs_background": "light"
          }
        }
      ],
      "metadata": {
        "id": "oOL2UolJFtHL",
        "colab": {
          "base_uri": "https://localhost:8080/",
          "height": 341
        },
        "outputId": "9d51d191-ca43-44a6-d5f6-d41a2bd0a80b"
      }
    },
    {
      "cell_type": "markdown",
      "source": [
        "# Advanced initialization schemes\r\n",
        "\r\n",
        "If we are not careful with initialization, the signals we propagate forward ($a^{(l)}$, $l=1,\\ldots,L$) and backward ($\\delta^l$, $l=L,L-1,\\ldots,1$) can blow up or shrink to zero. A statistical analysis of the variance of the signals for different activation functions can be found in these two papers: [Glorot initialization](http://proceedings.mlr.press/v9/glorot10a/glorot10a.pdf) and [He initialization](https://arxiv.org/pdf/1502.01852v1.pdf). \r\n",
        "\r\n",
        "The result of the analyses are proposals for how to make the initialization such that the variance of the signals (forward and backward) are kept approxmimatly constant when propagating from layer to layer. The exact expressions depend upon the non-linear activation function used. In Glorot initialization, the aim is to keep both the forward and backward variances constant whereas He only aims at keeping the variance in the forward pass constant.\r\n",
        "\r\n",
        "We define $n_{in}$ and $n_{out}$ as the number of input units and output units of a particular layer. \r\n",
        "\r\n",
        "The Glorot initialization has the form: \r\n",
        "\r\n",
        "$$w_{ij} \\sim N \\bigg( 0, \\, \\frac{2 \\alpha }{n_{in} + n_{out}} \\bigg) \\ . $$\r\n",
        "\r\n",
        "where $N(\\mu,\\sigma^2)$ is a Gaussian distribution with mean $\\mu$ and variance $\\sigma^2$ and $\\alpha$ is a parameter that depends upon the activation function used. For $\\tanh$, $\\alpha=1$ and for Rectified Linear Unit (ReLU) activations, $\\alpha=2$. (It is also possible to use a uniform distribution for initialization, see [this blog post](https://mmuratarat.github.io/2019-02-25/xavier-glorot-he-weight-init).) \r\n",
        "\r\n",
        "The He initialization is very similar\r\n",
        "\r\n",
        "$$w_{ij} \\sim N \\bigg( 0, \\, \\frac{\\alpha}{n_{in}} \\bigg) \\ . $$"
      ],
      "metadata": {
        "id": "b-jdEl-7FtGs"
      }
    },
    {
      "cell_type": "markdown",
      "source": [
        "## Exercise i) Glorot and He initialization\r\n",
        " \r\n",
        "Using the Initializer class, implement functions that implement Glorot and He \r\n",
        "\r\n",
        "Explain briefly how you would test numerically that these initializations have the sought after property. Hint: See plots in Glorot paper.\r\n",
        "\r\n",
        "Comment: If you want to be more advanced then try to make a universal initializer taking both the activation function and type (Glorot or He) as argument."
      ],
      "metadata": {
        "id": "mqeyab9qFtGs"
      }
    },
    {
      "cell_type": "code",
      "execution_count": 27,
      "source": [
        "## Glorot\r\n",
        "def DenseLayer_Glorot_tanh(n_in: int, n_out: int):\r\n",
        "  std = (2/(n_in + n_out))**(1/2)  # <- replace with proper initialization\r\n",
        "  return DenseLayer(n_in, n_out, lambda x: x.tanh(), initializer = NormalInitializer(std))\r\n",
        "\r\n",
        "## He\r\n",
        "def DenseLayer_He_relu(n_in: int, n_out: int):\r\n",
        "  std = ((2)/(n_in))**(1/2) # <- replace with proper initialization\r\n",
        "  return DenseLayer(n_in, n_out, lambda x: x.relu(), initializer = NormalInitializer(std))\r\n",
        "\r\n",
        "\r\n",
        "# OTHER \r\n",
        "# alpha = 1\r\n",
        "\r\n",
        "# ## Glorot\r\n",
        "# def DenseLayer_Glorot_tanh(n_in: int, n_out: int):\r\n",
        "#   std = np.sqrt((2*alpha)/(n_in + n_out))\r\n",
        "#   return DenseLayer(n_in, n_out, lambda x: x.tanh(), initializer = NormalInitializer(std))\r\n",
        "# \r\n",
        "# alphaTanh = 2\r\n",
        "# \r\n",
        "# ## He\r\n",
        "# def DenseLayer_He_relu(n_in: int, n_out: int):\r\n",
        "#   std = np.sqrt(alphaTanh/n_in)\r\n",
        "#   # Corrected x.tanh() to x.relu(), since this function mentions relu\r\n",
        "#   return DenseLayer(n_in, n_out, lambda x: x.relu(), initializer = NormalInitializer(std))"
      ],
      "outputs": [],
      "metadata": {
        "collapsed": true,
        "id": "Qyk01CgaFtGt"
      }
    },
    {
      "cell_type": "markdown",
      "source": [
        "## Exercise j) Forward pass unit test\r\n",
        "\r\n",
        "Write a bit of code to make a unit test that the forward pass works. This can be done by defining a simple network with for example all weights equal to one (using the ConstantInitializer method) and identity activation functions. \r\n",
        "\r\n",
        "Hints: Use the [assert](https://www.w3schools.com/python/ref_keyword_assert.asp), the nparray_to_Var and the Var_to_nparray commands. "
      ],
      "metadata": {
        "id": "-XyXBD37FtHk"
      }
    },
    {
      "cell_type": "code",
      "execution_count": 29,
      "source": [
        "# Insert code here\r\n",
        "NN = [\r\n",
        "    DenseLayer(n_in=1, n_out=5, act_fn=lambda x: x.relu(), initializer=ConstantInitializer() ), \r\n",
        "    DenseLayer(5, 1, lambda x: x.identity())\r\n",
        "]\r\n",
        "\r\n",
        "def forward(input, network):\r\n",
        "  def forward_single(x, network):\r\n",
        "    for layer in network:\r\n",
        "        x = layer.forward(x)\r\n",
        "    return x\r\n",
        "\r\n",
        "  output = [ forward_single(input[n], network) for n in range(len(input))]\r\n",
        "  assert output!=input, 'your input goes right through...'\r\n",
        "  return output\r\n",
        "\r\n",
        "print(forward(x_train, NN))"
      ],
      "outputs": [
        {
          "output_type": "stream",
          "name": "stdout",
          "text": [
            "[[Var(v=-0.2452, grad=0.0000)], [Var(v=-0.4929, grad=0.0000)], [Var(v=-0.0447, grad=0.0000)], [Var(v=0.0000, grad=0.0000)], [Var(v=-0.3632, grad=0.0000)], [Var(v=-0.3357, grad=0.0000)], [Var(v=-0.2177, grad=0.0000)], [Var(v=0.0000, grad=0.0000)], [Var(v=0.0000, grad=0.0000)], [Var(v=-0.1352, grad=0.0000)], [Var(v=-0.3789, grad=0.0000)], [Var(v=0.0000, grad=0.0000)], [Var(v=-0.3042, grad=0.0000)], [Var(v=0.0000, grad=0.0000)], [Var(v=-0.1627, grad=0.0000)], [Var(v=-0.3160, grad=0.0000)], [Var(v=-0.5833, grad=0.0000)], [Var(v=-0.2767, grad=0.0000)], [Var(v=-0.0290, grad=0.0000)], [Var(v=-0.0958, grad=0.0000)], [Var(v=0.0000, grad=0.0000)], [Var(v=0.0000, grad=0.0000)], [Var(v=-0.4261, grad=0.0000)], [Var(v=-0.4300, grad=0.0000)], [Var(v=0.0000, grad=0.0000)], [Var(v=0.0000, grad=0.0000)], [Var(v=-0.5519, grad=0.0000)], [Var(v=-0.6069, grad=0.0000)], [Var(v=-0.0644, grad=0.0000)], [Var(v=-0.3828, grad=0.0000)], [Var(v=0.0000, grad=0.0000)], [Var(v=-0.0919, grad=0.0000)], [Var(v=0.0000, grad=0.0000)], [Var(v=0.0000, grad=0.0000)], [Var(v=-0.2924, grad=0.0000)], [Var(v=0.0000, grad=0.0000)], [Var(v=0.0000, grad=0.0000)], [Var(v=0.0000, grad=0.0000)], [Var(v=0.0000, grad=0.0000)], [Var(v=0.0000, grad=0.0000)], [Var(v=0.0000, grad=0.0000)], [Var(v=0.0000, grad=0.0000)], [Var(v=-0.5715, grad=0.0000)], [Var(v=0.0000, grad=0.0000)], [Var(v=0.0000, grad=0.0000)], [Var(v=0.0000, grad=0.0000)], [Var(v=-0.3671, grad=0.0000)], [Var(v=-0.3474, grad=0.0000)], [Var(v=0.0000, grad=0.0000)], [Var(v=-0.3553, grad=0.0000)], [Var(v=-0.1548, grad=0.0000)], [Var(v=-0.0133, grad=0.0000)], [Var(v=-0.3868, grad=0.0000)], [Var(v=0.0000, grad=0.0000)], [Var(v=-0.6148, grad=0.0000)], [Var(v=-0.5401, grad=0.0000)], [Var(v=0.0000, grad=0.0000)], [Var(v=0.0000, grad=0.0000)], [Var(v=-0.2020, grad=0.0000)], [Var(v=0.0000, grad=0.0000)], [Var(v=-0.3592, grad=0.0000)], [Var(v=0.0000, grad=0.0000)], [Var(v=0.0000, grad=0.0000)], [Var(v=-0.1745, grad=0.0000)], [Var(v=-0.1273, grad=0.0000)], [Var(v=0.0000, grad=0.0000)], [Var(v=0.0000, grad=0.0000)], [Var(v=-0.4536, grad=0.0000)], [Var(v=0.0000, grad=0.0000)], [Var(v=-0.1784, grad=0.0000)], [Var(v=0.0000, grad=0.0000)], [Var(v=0.0000, grad=0.0000)], [Var(v=-0.3514, grad=0.0000)], [Var(v=-0.2059, grad=0.0000)], [Var(v=0.0000, grad=0.0000)], [Var(v=-0.5558, grad=0.0000)], [Var(v=0.0000, grad=0.0000)], [Var(v=0.0000, grad=0.0000)], [Var(v=0.0000, grad=0.0000)], [Var(v=-0.5794, grad=0.0000)], [Var(v=-0.0880, grad=0.0000)], [Var(v=-0.0526, grad=0.0000)], [Var(v=0.0000, grad=0.0000)], [Var(v=0.0000, grad=0.0000)], [Var(v=0.0000, grad=0.0000)], [Var(v=0.0000, grad=0.0000)], [Var(v=0.0000, grad=0.0000)], [Var(v=0.0000, grad=0.0000)], [Var(v=0.0000, grad=0.0000)], [Var(v=0.0000, grad=0.0000)], [Var(v=-0.2099, grad=0.0000)], [Var(v=0.0000, grad=0.0000)], [Var(v=0.0000, grad=0.0000)], [Var(v=-0.3278, grad=0.0000)], [Var(v=0.0000, grad=0.0000)], [Var(v=0.0000, grad=0.0000)], [Var(v=-0.1509, grad=0.0000)], [Var(v=-0.0251, grad=0.0000)], [Var(v=-0.5244, grad=0.0000)], [Var(v=0.0000, grad=0.0000)], [Var(v=-0.3435, grad=0.0000)], [Var(v=0.0000, grad=0.0000)], [Var(v=0.0000, grad=0.0000)], [Var(v=-0.1666, grad=0.0000)], [Var(v=-0.4890, grad=0.0000)]]\n"
          ]
        }
      ],
      "metadata": {
        "collapsed": true,
        "id": "k0miqRUAFtHl"
      }
    },
    {
      "cell_type": "markdown",
      "source": [
        "# Loss functions\n",
        "\n",
        "We are only missing a loss function to we need to define a loss function and its derivative with respect to the output of the neural network $y$"
      ],
      "metadata": {
        "id": "faCxhfFnFtHp"
      }
    },
    {
      "cell_type": "code",
      "execution_count": 30,
      "source": [
        "def squared_loss(t, y):\r\n",
        "  \r\n",
        "  # add check that sizes agree\r\n",
        "  assert len(t)==len(y), 'length of y and t does not match'\r\n",
        "  \r\n",
        "  def squared_loss_single(t, y):\r\n",
        "    Loss = Var(0.0)\r\n",
        "    for i in range(len(t)): # sum over outputs\r\n",
        "      Loss += (t[i]-y[i]) ** 2.0\r\n",
        "    return Loss\r\n",
        "\r\n",
        "  Loss = Var(0.0)\r\n",
        "  for n in range(len(t)): # sum over training data\r\n",
        "    Loss += squared_loss_single(t[n],y[n])\r\n",
        "  return Loss"
      ],
      "outputs": [],
      "metadata": {
        "collapsed": true,
        "id": "I2eDYKvAFtHq"
      }
    },
    {
      "cell_type": "markdown",
      "source": [
        "## Exercise j) Implement cross entropy loss\r\n",
        "\r\n",
        "Insert code below to implement cross-entropy loss for general dimensionality of $t$. Use a logits formulation:\r\n",
        "$$\r\n",
        "\\rm{Loss} = - \\sum_i t_i \\, log \\, p_i \r\n",
        "$$\r\n",
        "with $p$ given by the the softmax function in terms of the logits $h$:\r\n",
        "$$\r\n",
        "p_i = \\frac{\\exp(h_i)}{\\sum_{i'} \\exp(h_{i'} } .\r\n",
        "$$\r\n",
        "Inserting $p$ in the expression for the loss gives\r\n",
        "$$\r\n",
        "\\rm{Loss} = - \\sum_i t_i h_i + \\rm{LogSumExp}(h) \\ ,\r\n",
        "$$\r\n",
        "where \r\n",
        "$$\r\n",
        "\\rm{LogSumExp}(h) = \\log \\sum_i \\exp h_i \\ .\r\n",
        "$$\r\n",
        "This is true for $t$ being a one-hot vector. In practice you want to implement a [numerically stable](https://leimao.github.io/blog/LogSumExp/) version of LogSumExp. But we will not bother about that here.\r\n",
        "\r\n",
        "Help: You can add these methods in the Var class:\r\n",
        "\r\n",
        "    def exp(self):\r\n",
        "        return Var(exp(self.v), lambda: [(self, exp(self.v))])\r\n",
        "    \r\n",
        "    def log(self):\r\n",
        "        return Var(log(self.v), lambda: [(self, self.v ** -1)])"
      ],
      "metadata": {
        "id": "SrwSJ2UWFtHu"
      }
    },
    {
      "cell_type": "code",
      "execution_count": 31,
      "source": [
        "def cross_entropy_loss(t, y):\r\n",
        "    \r\n",
        "    # Insert code here\r\n",
        "    def log_sum_exp(t,y):\r\n",
        "        Loss = Var(0.0)\r\n",
        "        \r\n",
        "        for i in range(len(t)):                 # sum over outputs\r\n",
        "            Loss += -t[i]*np.log(y[i])          # Var(exp(y[i][0].v))\r\n",
        "        return Loss\r\n",
        "    \r\n",
        "    Loss = Var(0.0)\r\n",
        "    for n in range(len(t)):                     # sum over training data\r\n",
        "        Loss += log_sum_exp(t[n], y[n])         # t[n][0]*y[n][0]\r\n",
        "\r\n",
        "    return Loss"
      ],
      "outputs": [],
      "metadata": {
        "collapsed": true,
        "id": "6nMuxyfzFtHv"
      }
    },
    {
      "cell_type": "markdown",
      "source": [
        "# Backward pass\n",
        "\n",
        "Now the magic happens! We get the calculation of the gradients for free. Just do:"
      ],
      "metadata": {
        "id": "8fAF5ew4FtHy"
      }
    },
    {
      "cell_type": "code",
      "execution_count": 32,
      "source": [
        "NN = [\r\n",
        "    DenseLayer(1, 5, lambda x: x.relu()),\r\n",
        "    DenseLayer(5, 1, lambda x: x.identity())\r\n",
        "]\r\n",
        "\r\n",
        "output = forward(x_train, NN)\r\n",
        "\r\n",
        "Loss = cross_entropy_loss(y_train, output)\r\n",
        "\r\n",
        "Loss.backward()"
      ],
      "outputs": [],
      "metadata": {
        "id": "iHyfPPI9Qqwu"
      }
    },
    {
      "cell_type": "markdown",
      "source": [
        "and the gradients will be calculated:"
      ],
      "metadata": {
        "id": "49biIAYKQ1oG"
      }
    },
    {
      "cell_type": "code",
      "execution_count": 33,
      "source": [
        "[print('Layer', i, '\\n', NN[i]) for i in range(len(NN))] "
      ],
      "outputs": [
        {
          "output_type": "stream",
          "name": "stdout",
          "text": [
            "Layer 0 \n",
            " \n",
            " Weights: [[Var(v=0.0420, grad=-1531.9629), Var(v=-0.0672, grad=-551.5801), Var(v=0.0570, grad=1167.7398), Var(v=0.0395, grad=-1161.0568), Var(v=-0.0598, grad=-109.9215)]] \n",
            " Biases: [Var(v=0.0000, grad=-1923.0918), Var(v=0.0000, grad=667.8804), Var(v=0.0000, grad=1465.8781), Var(v=0.0000, grad=-1457.4888), Var(v=0.0000, grad=133.0984)] \n",
            "\n",
            "Layer 1 \n",
            " \n",
            " Weights: [[Var(v=0.1140, grad=-563.8204)], [Var(v=0.0719, grad=515.7389)], [Var(v=-0.0869, grad=-765.5083)], [Var(v=0.0864, grad=-530.8007)], [Var(v=0.0143, grad=458.7786)]] \n",
            " Biases: [Var(v=0.0000, grad=-7568.8088)] \n",
            "\n"
          ]
        },
        {
          "output_type": "execute_result",
          "data": {
            "text/plain": [
              "[None, None]"
            ]
          },
          "metadata": {},
          "execution_count": 33
        }
      ],
      "metadata": {
        "colab": {
          "base_uri": "https://localhost:8080/"
        },
        "id": "_rGt1bq_Q7uk",
        "outputId": "8d283577-9bd1-496b-f4a8-764a9507a4bf"
      }
    },
    {
      "cell_type": "markdown",
      "source": [
        "# Backward pass unit test\n",
        "\n",
        "Above we used finite differences to test that Nanograd is actually doing what it is supposed to do. We can in principle try the same for the neural network. But we will trust that the test above is enough."
      ],
      "metadata": {
        "id": "D7d7qK0uFtH9"
      }
    },
    {
      "cell_type": "markdown",
      "source": [
        "# Training and validation\n",
        "\n",
        "We are ready to train some neural networks!\n",
        "\n",
        "We initialize again:"
      ],
      "metadata": {
        "id": "WgBi8GOSFtIN"
      }
    },
    {
      "cell_type": "code",
      "execution_count": 34,
      "source": [
        "NN = [\r\n",
        "    DenseLayer(1, 5, lambda x: x.relu()),\r\n",
        "    DenseLayer(5, 1, lambda x: x.identity())\r\n",
        "]\r\n",
        "\r\n",
        "output = forward(x_train, NN)\r\n",
        "\r\n",
        "Loss = squared_loss(y_train,output)\r\n",
        "\r\n",
        "#output\r\n",
        "Loss.backward()\r\n",
        "\r\n",
        "weight_printer(NN=NN)"
      ],
      "outputs": [
        {
          "output_type": "stream",
          "name": "stdout",
          "text": [
            "Layer 0: \n",
            " Weights: [[Var(v=-0.0421, grad=-1.1948), Var(v=-0.0987, grad=13.6365), Var(v=-0.0265, grad=2.0090), Var(v=0.0623, grad=-6.3811), Var(v=-0.0090, grad=15.8247)]] \n",
            " Biases: [Var(v=0.0000, grad=1.0857), Var(v=0.0000, grad=-12.3912), Var(v=0.0000, grad=-1.8255), Var(v=0.0000, grad=-5.4818), Var(v=0.0000, grad=-14.3796)] \n",
            "\n",
            "Layer 1: \n",
            " Weights: [[Var(v=0.0127, grad=3.9769)], [Var(v=-0.1444, grad=9.3183)], [Var(v=-0.0213, grad=2.5027)], [Var(v=0.0631, grad=-6.2987)], [Var(v=-0.1676, grad=0.8537)]] \n",
            " Biases: [Var(v=0.0000, grad=-1.0992)] \n",
            "\n"
          ]
        }
      ],
      "metadata": {
        "id": "01ePmzBzRtdh"
      }
    },
    {
      "cell_type": "markdown",
      "source": [
        "and make an update:\n",
        "\n",
        "We introduce a help function parameters to have a handle in all parameters in the network."
      ],
      "metadata": {
        "id": "10iRPiQ1ISHw"
      }
    },
    {
      "cell_type": "code",
      "execution_count": 36,
      "source": [
        "print('Network before update:')\r\n",
        "[print('Layer', i, '\\n', NN[i]) for i in range(len(NN))] \r\n",
        "\r\n",
        "def parameters(network):\r\n",
        "  params = []\r\n",
        "  for layer in range(len(network)):\r\n",
        "    params += network[layer].parameters()\r\n",
        "  return params\r\n",
        "\r\n",
        "def update_parameters(params, learning_rate=0.01):\r\n",
        "  for p in params:\r\n",
        "    p.v -= learning_rate*p.grad\r\n",
        "\r\n",
        "def zero_gradients(params):\r\n",
        "  for p in params:\r\n",
        "    p.grad = 0.0\r\n",
        "\r\n",
        "update_parameters(parameters(NN))\r\n",
        "\r\n",
        "print('\\nNetwork after update:')\r\n",
        "[print('Layer', i, '\\n', NN[i]) for i in range(len(NN))] \r\n",
        "\r\n",
        "zero_gradients(parameters(NN))\r\n",
        "\r\n",
        "print('\\nNetwork after zeroing gradients:')\r\n",
        "[print('Layer', i, '\\n', NN[i]) for i in range(len(NN))] "
      ],
      "outputs": [
        {
          "output_type": "stream",
          "name": "stdout",
          "text": [
            "Network before update:\n",
            "Layer 0 \n",
            " \n",
            " Weights: [[Var(v=-0.0421, grad=-1.1948), Var(v=-0.0987, grad=13.6365), Var(v=-0.0265, grad=2.0090), Var(v=0.0623, grad=-6.3811), Var(v=-0.0090, grad=15.8247)]] \n",
            " Biases: [Var(v=0.0000, grad=1.0857), Var(v=0.0000, grad=-12.3912), Var(v=0.0000, grad=-1.8255), Var(v=0.0000, grad=-5.4818), Var(v=0.0000, grad=-14.3796)] \n",
            "\n",
            "Layer 1 \n",
            " \n",
            " Weights: [[Var(v=0.0127, grad=3.9769)], [Var(v=-0.1444, grad=9.3183)], [Var(v=-0.0213, grad=2.5027)], [Var(v=0.0631, grad=-6.2987)], [Var(v=-0.1676, grad=0.8537)]] \n",
            " Biases: [Var(v=0.0000, grad=-1.0992)] \n",
            "\n",
            "\n",
            "Network after update:\n",
            "Layer 0 \n",
            " \n",
            " Weights: [[Var(v=-0.0302, grad=-1.1948), Var(v=-0.2350, grad=13.6365), Var(v=-0.0466, grad=2.0090), Var(v=0.1261, grad=-6.3811), Var(v=-0.1673, grad=15.8247)]] \n",
            " Biases: [Var(v=-0.0109, grad=1.0857), Var(v=0.1239, grad=-12.3912), Var(v=0.0183, grad=-1.8255), Var(v=0.0548, grad=-5.4818), Var(v=0.1438, grad=-14.3796)] \n",
            "\n",
            "Layer 1 \n",
            " \n",
            " Weights: [[Var(v=-0.0271, grad=3.9769)], [Var(v=-0.2376, grad=9.3183)], [Var(v=-0.0463, grad=2.5027)], [Var(v=0.1261, grad=-6.2987)], [Var(v=-0.1761, grad=0.8537)]] \n",
            " Biases: [Var(v=0.0110, grad=-1.0992)] \n",
            "\n",
            "\n",
            "Network after zeroing gradients:\n",
            "Layer 0 \n",
            " \n",
            " Weights: [[Var(v=-0.0302, grad=0.0000), Var(v=-0.2350, grad=0.0000), Var(v=-0.0466, grad=0.0000), Var(v=0.1261, grad=0.0000), Var(v=-0.1673, grad=0.0000)]] \n",
            " Biases: [Var(v=-0.0109, grad=0.0000), Var(v=0.1239, grad=0.0000), Var(v=0.0183, grad=0.0000), Var(v=0.0548, grad=0.0000), Var(v=0.1438, grad=0.0000)] \n",
            "\n",
            "Layer 1 \n",
            " \n",
            " Weights: [[Var(v=-0.0271, grad=0.0000)], [Var(v=-0.2376, grad=0.0000)], [Var(v=-0.0463, grad=0.0000)], [Var(v=0.1261, grad=0.0000)], [Var(v=-0.1761, grad=0.0000)]] \n",
            " Biases: [Var(v=0.0110, grad=0.0000)] \n",
            "\n"
          ]
        },
        {
          "output_type": "execute_result",
          "data": {
            "text/plain": [
              "[None, None]"
            ]
          },
          "metadata": {},
          "execution_count": 36
        }
      ],
      "metadata": {
        "colab": {
          "base_uri": "https://localhost:8080/"
        },
        "id": "dhAI7eyeznia",
        "outputId": "8584bbad-00aa-4130-9961-44e9ae7fb4ed"
      }
    },
    {
      "cell_type": "code",
      "execution_count": 37,
      "source": [
        "# Initialize an arbitrary neural network\r\n",
        "NN = [\r\n",
        "    DenseLayer(1, 8, lambda x: x.relu()),\r\n",
        "    DenseLayer(8, 1, lambda x: x.identity())\r\n",
        "]\r\n",
        "\r\n",
        "# Recommended hyper-parameters for 3-D: \r\n",
        "#NN = [\r\n",
        "#    DenseLayer(3, 16, lambda x: x.relu()),\r\n",
        "#    DenseLayer(16, 1, lambda x: x.identity())\r\n",
        "#]\r\n",
        "\r\n",
        "\r\n",
        "### Notice that, when we switch from tanh to relu activation, we decrease the learning rate. This is due the stability of the gradients \r\n",
        "## of the activation functions."
      ],
      "outputs": [],
      "metadata": {
        "collapsed": true,
        "id": "woWYpdw6FtIO"
      }
    },
    {
      "cell_type": "code",
      "execution_count": 38,
      "source": [
        "# Initialize training hyperparameters\r\n",
        "EPOCHS = 200\r\n",
        "LEARN_R = 2e-3 "
      ],
      "outputs": [],
      "metadata": {
        "collapsed": true,
        "id": "mdqaqYBVFtIR"
      }
    },
    {
      "cell_type": "code",
      "execution_count": 305,
      "source": [
        "train_loss = []\r\n",
        "val_loss = []\r\n",
        "\r\n",
        "for e in range(EPOCHS):\r\n",
        "     \r\n",
        "    # Forward pass and loss computation\r\n",
        "    Loss = squared_loss(y_train, forward(x_train, NN))\r\n",
        "\r\n",
        "    # Backward pass\r\n",
        "    Loss.backward()\r\n",
        "    \r\n",
        "    # gradient descent update\r\n",
        "    update_parameters(parameters(NN), LEARN_R)\r\n",
        "    zero_gradients(parameters(NN))\r\n",
        "    \r\n",
        "    # Training loss\r\n",
        "    train_loss.append(Loss.v)\r\n",
        "    \r\n",
        "    # Validation\r\n",
        "    Loss_validation = squared_loss(y_validation, forward(x_validation, NN))\r\n",
        "    val_loss.append(Loss_validation.v)\r\n",
        "    \r\n",
        "    if e%10==0:\r\n",
        "        print(\"{:4d}\".format(e),\r\n",
        "              \"({:5.2f}%)\".format(e/EPOCHS*100), \r\n",
        "              \"Train loss: {:4.3f} \\t Validation loss: {:4.3f}\".format(train_loss[-1], val_loss[-1]))\r\n",
        "        \r\n"
      ],
      "outputs": [
        {
          "output_type": "stream",
          "name": "stdout",
          "text": [
            "   0 ( 0.00%) Train loss: 101.422 \t Validation loss: 100.374\n",
            "  10 ( 5.00%) Train loss: 19.778 \t Validation loss: 14.240\n",
            "  20 (10.00%) Train loss: 14.431 \t Validation loss: 10.742\n",
            "  30 (15.00%) Train loss: 14.015 \t Validation loss: 10.476\n",
            "  40 (20.00%) Train loss: 13.662 \t Validation loss: 10.238\n",
            "  50 (25.00%) Train loss: 13.153 \t Validation loss: 9.926\n",
            "  60 (30.00%) Train loss: 12.670 \t Validation loss: 9.634\n",
            "  70 (35.00%) Train loss: 12.389 \t Validation loss: 9.421\n",
            "  80 (40.00%) Train loss: 12.220 \t Validation loss: 9.315\n",
            "  90 (45.00%) Train loss: 12.079 \t Validation loss: 9.245\n",
            " 100 (50.00%) Train loss: 11.995 \t Validation loss: 9.221\n",
            " 110 (55.00%) Train loss: 11.949 \t Validation loss: 9.194\n",
            " 120 (60.00%) Train loss: 11.923 \t Validation loss: 9.159\n",
            " 130 (65.00%) Train loss: 11.909 \t Validation loss: 9.128\n",
            " 140 (70.00%) Train loss: 11.902 \t Validation loss: 9.101\n",
            " 150 (75.00%) Train loss: 11.897 \t Validation loss: 9.079\n",
            " 160 (80.00%) Train loss: 11.895 \t Validation loss: 9.065\n",
            " 170 (85.00%) Train loss: 11.894 \t Validation loss: 9.055\n",
            " 180 (90.00%) Train loss: 11.893 \t Validation loss: 9.048\n",
            " 190 (95.00%) Train loss: 11.893 \t Validation loss: 9.043\n"
          ]
        }
      ],
      "metadata": {
        "collapsed": true,
        "id": "5kfg76GMFtIW",
        "scrolled": true,
        "colab": {
          "base_uri": "https://localhost:8080/"
        },
        "outputId": "e30cf68a-31f2-42b4-cc5e-860c297c0f04"
      }
    },
    {
      "cell_type": "code",
      "execution_count": 306,
      "source": [
        "plt.plot(range(len(train_loss)), train_loss);\r\n",
        "plt.plot(range(len(val_loss)), val_loss);"
      ],
      "outputs": [
        {
          "output_type": "display_data",
          "data": {
            "image/png": "[encoded data removed]",
            "text/plain": [
              "<Figure size 432x288 with 1 Axes>"
            ]
          },
          "metadata": {
            "needs_background": "light"
          }
        }
      ],
      "metadata": {
        "collapsed": true,
        "id": "VetyRWFwFtIY",
        "colab": {
          "base_uri": "https://localhost:8080/",
          "height": 265
        },
        "outputId": "344e490d-6d7d-455a-fa6f-88dd11eb957e"
      }
    },
    {
      "cell_type": "markdown",
      "source": [
        "# Testing\n",
        "\n",
        "We have kept the calculation of the test error separate in order to emphasize that you should not use the test set in optimization."
      ],
      "metadata": {
        "id": "8OgmIrM9FtIb"
      }
    },
    {
      "cell_type": "code",
      "execution_count": 307,
      "source": [
        "output_test = forward(x_test, NN)"
      ],
      "outputs": [],
      "metadata": {
        "collapsed": true,
        "id": "HmNi7S-vFtIc"
      }
    },
    {
      "cell_type": "code",
      "execution_count": 308,
      "source": [
        "y_test_np = Var_to_nparray(y_test)\r\n",
        "plt.scatter(y_test_np, Var_to_nparray(output_test));\r\n",
        "plt.plot([np.min(y_test_np), np.max(y_test_np)], [np.min(y_test_np), np.max(y_test_np)], color='k');\r\n",
        "plt.xlabel(\"y\");\r\n",
        "plt.ylabel(\"$\\hat{y}$\");\r\n",
        "plt.title(\"Model prediction vs real in the test set, the close to the line the better\")\r\n",
        "plt.grid(True);\r\n",
        "plt.axis('equal');\r\n",
        "plt.tight_layout();\r\n",
        "\r\n",
        "Loss_test = squared_loss(y_test, forward(x_test, NN))\r\n",
        "\r\n",
        "print(\"Test loss:  {:4.3f}\".format(Loss_test.v))"
      ],
      "outputs": [
        {
          "output_type": "stream",
          "name": "stdout",
          "text": [
            "Test loss:  9.842\n"
          ]
        },
        {
          "output_type": "display_data",
          "data": {
            "image/png": "[encoded data removed]",
            "text/plain": [
              "<Figure size 432x288 with 1 Axes>"
            ]
          },
          "metadata": {
            "needs_background": "light"
          }
        }
      ],
      "metadata": {
        "collapsed": true,
        "id": "7mmJOTSEFtIf",
        "colab": {
          "base_uri": "https://localhost:8080/",
          "height": 316
        },
        "outputId": "e3264095-cefe-4aee-893d-bf152438e332"
      }
    },
    {
      "cell_type": "code",
      "execution_count": 309,
      "source": [
        "x_test_np = Var_to_nparray(x_test)\r\n",
        "x_train_np = Var_to_nparray(x_train)\r\n",
        "y_train_np = Var_to_nparray(y_train)\r\n",
        "if D1:\r\n",
        "    plt.scatter(x_train_np, y_train_np, label=\"train data\");\r\n",
        "    plt.scatter(x_test_np, Var_to_nparray(output_test), label=\"test prediction\");\r\n",
        "    plt.scatter(x_test_np, y_test_np, label=\"test data\");\r\n",
        "    plt.legend();\r\n",
        "    plt.xlabel(\"x\");\r\n",
        "    plt.ylabel(\"y\");\r\n",
        "else:\r\n",
        "    plt.scatter(x_train_np[:,1], y_train, label=\"train data\");\r\n",
        "    plt.scatter(x_test_np[:,1], Var_to_nparray(output_test), label=\"test data prediction\");\r\n",
        "    plt.scatter(x_test_np[:,1], y_test_np, label=\"test data\");\r\n",
        "    plt.legend();\r\n",
        "    plt.xlabel(\"x\");\r\n",
        "    plt.ylabel(\"y\");"
      ],
      "outputs": [
        {
          "output_type": "display_data",
          "data": {
            "image/png": "[encoded data removed]",
            "text/plain": [
              "<Figure size 432x288 with 1 Axes>"
            ]
          },
          "metadata": {
            "needs_background": "light"
          }
        }
      ],
      "metadata": {
        "collapsed": true,
        "id": "ODi0WlmQFtIh",
        "colab": {
          "base_uri": "https://localhost:8080/",
          "height": 279
        },
        "outputId": "d1ab874f-0717-4987-87bf-1f0c7c8e7148"
      }
    },
    {
      "cell_type": "markdown",
      "source": [
        "## Exercise k) Show overfitting, underfitting and just right fitting\r\n",
        "\r\n",
        "Vary the architecture and other things to show clear signs of overfitting (=training loss significantly lower than test loss) and underfitting (=not fitting enoung to training data so that test performance is also hurt).\r\n",
        "\r\n",
        "See also if you can get a good compromise which leads to a low validation loss. \r\n",
        "\r\n",
        "For this problem do you see any big difference between validation and test loss? The answer here will probably be no. Discuss cases where it is important to keep the two separate.\r\n",
        "\r\n",
        "_Insert written answer here._\r\n",
        "\r\n",
        "## Anwser to k)\r\n",
        "\r\n",
        "Generally, we overfit when our model fails to generalize well. This. happens when we do not regularize our model with (e.g. tune L1 and L2) and/or if the model sees the data too many times (too many epocs). On the other hand, our model underfits when it doesn't capture the logic and structure of the underlying process. Underfitting happens if we 'punish' the model too hard with strong regularization and/or to few epocs.\r\n"
      ],
      "metadata": {
        "id": "zTBAmjsAFtIk"
      }
    },
    {
      "cell_type": "code",
      "execution_count": 320,
      "source": [
        "# Insert your code for getting overfitting, underfitting and just right fitting\r\n",
        "\r\n",
        "################################################## Underfitting (UF()) ##################################################\r\n",
        "# Initialize an arbitrary neural network\r\n",
        "NN = [\r\n",
        "    DenseLayer(1, 3, lambda x: x.relu()),\r\n",
        "    DenseLayer(3, 1, lambda x: x.identity())\r\n",
        "]\r\n",
        "\r\n",
        "# Initialize training hyperparameters\r\n",
        "EPOCHS = 20\r\n",
        "LEARN_R = 2e-3 \r\n",
        "\r\n",
        "rain_loss = []\r\n",
        "val_loss = []\r\n",
        "\r\n",
        "for e in range(EPOCHS):\r\n",
        "     \r\n",
        "    # Forward pass and loss computation\r\n",
        "    Loss = squared_loss(y_train, forward(x_train, NN))\r\n",
        "\r\n",
        "    # Backward pass\r\n",
        "    Loss.backward()\r\n",
        "    \r\n",
        "    # gradient descent update\r\n",
        "    update_parameters(parameters(NN), LEARN_R)\r\n",
        "    zero_gradients(parameters(NN))\r\n",
        "    \r\n",
        "    # Training loss\r\n",
        "    train_loss.append(Loss.v)\r\n",
        "    \r\n",
        "    # Validation\r\n",
        "    Loss_validation = squared_loss(y_validation, forward(x_validation, NN))\r\n",
        "    val_loss.append(Loss_validation.v)\r\n",
        "    \r\n",
        "    if e%10==0:\r\n",
        "        print(\"{:4d}\".format(e),\r\n",
        "              \"({:5.2f}%)\".format(e/EPOCHS*100), \r\n",
        "              \"Train loss: {:4.3f} \\t Validation loss: {:4.3f}\".format(train_loss[-1], val_loss[-1]))\r\n",
        "\r\n",
        "# store model predictions        \r\n",
        "output_test_UF = forward(x_test, NN)\r\n",
        "\r\n",
        "\r\n",
        "plt.figure(1)\r\n",
        "plt.subplot(211)\r\n",
        "plt.title('Underfitting')\r\n",
        "\r\n",
        "y_test_np = Var_to_nparray(y_test)\r\n",
        "plt.scatter(y_test_np, Var_to_nparray(output_test_UF));\r\n",
        "plt.plot([np.min(y_test_np), np.max(y_test_np)], [np.min(y_test_np), np.max(y_test_np)], color='k');\r\n",
        "plt.xlabel(\"y\");\r\n",
        "plt.ylabel(\"$\\hat{y}$\");\r\n",
        "#plt.title(\"Model prediction vs real in the test set, the close to the line the better\")\r\n",
        "plt.grid(True);\r\n",
        "plt.axis('equal');\r\n",
        "plt.tight_layout();\r\n",
        "\r\n",
        "Loss_test = squared_loss(y_test, forward(x_test, NN))\r\n",
        "\r\n",
        "print(\"Test loss:  {:4.3f}\".format(Loss_test.v))\r\n",
        "\r\n",
        "\r\n",
        "x_test_np = Var_to_nparray(x_test)\r\n",
        "x_train_np = Var_to_nparray(x_train)\r\n",
        "y_train_np = Var_to_nparray(y_train)\r\n",
        "if D1:\r\n",
        "    plt.subplot(212)\r\n",
        "    plt.scatter(x_train_np, y_train_np, label=\"train data\");\r\n",
        "    plt.scatter(x_test_np, Var_to_nparray(output_test_UF), label=\"test prediction\");\r\n",
        "    plt.scatter(x_test_np, y_test_np, label=\"test data\");\r\n",
        "    plt.legend();\r\n",
        "    plt.xlabel(\"x\");\r\n",
        "    plt.ylabel(\"y\");\r\n",
        "    plt.show()\r\n",
        "    \r\n",
        "else:\r\n",
        "    plt.subplot(212)\r\n",
        "    plt.scatter(x_train_np[:,1], y_train, label=\"train data\");\r\n",
        "    plt.scatter(x_test_np[:,1], Var_to_nparray(output_test_UF), label=\"test data prediction\");\r\n",
        "    plt.scatter(x_test_np[:,1], y_test_np, label=\"test data\");\r\n",
        "    plt.legend();\r\n",
        "    plt.xlabel(\"x\");\r\n",
        "    plt.ylabel(\"y\");\r\n",
        "    plt.show()"
      ],
      "outputs": [
        {
          "output_type": "stream",
          "name": "stdout",
          "text": [
            "   0 ( 0.00%) Train loss: 106.501 \t Validation loss: 107.705\n",
            "  10 (50.00%) Train loss: 93.380 \t Validation loss: 88.083\n",
            "Test loss:  21.359\n"
          ]
        },
        {
          "output_type": "display_data",
          "data": {
            "image/png": "[encoded data removed]",
            "text/plain": [
              "<Figure size 432x288 with 2 Axes>"
            ]
          },
          "metadata": {
            "needs_background": "light"
          }
        }
      ],
      "metadata": {
        "collapsed": true,
        "id": "tQZCn2dxFtIl"
      }
    },
    {
      "cell_type": "code",
      "execution_count": 322,
      "source": [
        "######################################### Overfitting #######################################\r\n",
        "\r\n",
        "# Initialize an arbitrary neural network\r\n",
        "NN = [\r\n",
        "    DenseLayer(1, 50, lambda x: x.relu()),\r\n",
        "    DenseLayer(50, 1, lambda x: x.identity())\r\n",
        "]\r\n",
        "\r\n",
        "# Initialize training hyperparameters\r\n",
        "EPOCHS = 500\r\n",
        "LEARN_R = 2e-3 \r\n",
        "\r\n",
        "rain_loss = []\r\n",
        "val_loss = []\r\n",
        "\r\n",
        "for e in range(EPOCHS):\r\n",
        "     \r\n",
        "    # Forward pass and loss computation\r\n",
        "    Loss = squared_loss(y_train, forward(x_train, NN))\r\n",
        "\r\n",
        "    # Backward pass\r\n",
        "    Loss.backward()\r\n",
        "    \r\n",
        "    # gradient descent update\r\n",
        "    update_parameters(parameters(NN), LEARN_R)\r\n",
        "    zero_gradients(parameters(NN))\r\n",
        "    \r\n",
        "    # Training loss\r\n",
        "    train_loss.append(Loss.v)\r\n",
        "    \r\n",
        "    # Validation\r\n",
        "    Loss_validation = squared_loss(y_validation, forward(x_validation, NN))\r\n",
        "    val_loss.append(Loss_validation.v)\r\n",
        "    \r\n",
        "    if e%10==0:\r\n",
        "        print(\"{:4d}\".format(e),\r\n",
        "              \"({:5.2f}%)\".format(e/EPOCHS*100), \r\n",
        "              \"Train loss: {:4.3f} \\t Validation loss: {:4.3f}\".format(train_loss[-1], val_loss[-1]))\r\n",
        "\r\n",
        "# store model predictions        \r\n",
        "output_test_UF = forward(x_test, NN)\r\n",
        "\r\n",
        "\r\n",
        "plt.figure(1)\r\n",
        "plt.subplot(211)\r\n",
        "plt.title('Overfitting')\r\n",
        "\r\n",
        "y_test_np = Var_to_nparray(y_test)\r\n",
        "plt.scatter(y_test_np, Var_to_nparray(output_test_UF));\r\n",
        "plt.plot([np.min(y_test_np), np.max(y_test_np)], [np.min(y_test_np), np.max(y_test_np)], color='k');\r\n",
        "plt.xlabel(\"y\");\r\n",
        "plt.ylabel(\"$\\hat{y}$\");\r\n",
        "#plt.title(\"Model prediction vs real in the test set, the close to the line the better\")\r\n",
        "plt.grid(True);\r\n",
        "plt.axis('equal');\r\n",
        "plt.tight_layout();\r\n",
        "\r\n",
        "Loss_test = squared_loss(y_test, forward(x_test, NN))\r\n",
        "\r\n",
        "print(\"Test loss:  {:4.3f}\".format(Loss_test.v))\r\n",
        "\r\n",
        "\r\n",
        "x_test_np = Var_to_nparray(x_test)\r\n",
        "x_train_np = Var_to_nparray(x_train)\r\n",
        "y_train_np = Var_to_nparray(y_train)\r\n",
        "if D1:\r\n",
        "    plt.subplot(212)\r\n",
        "    plt.scatter(x_train_np, y_train_np, label=\"train data\");\r\n",
        "    plt.scatter(x_test_np, Var_to_nparray(output_test_UF), label=\"test prediction\");\r\n",
        "    plt.scatter(x_test_np, y_test_np, label=\"test data\");\r\n",
        "    plt.legend();\r\n",
        "    plt.xlabel(\"x\");\r\n",
        "    plt.ylabel(\"y\");\r\n",
        "    plt.show()\r\n",
        "    \r\n",
        "else:\r\n",
        "    plt.subplot(212)\r\n",
        "    plt.scatter(x_train_np[:,1], y_train, label=\"train data\");\r\n",
        "    plt.scatter(x_test_np[:,1], Var_to_nparray(output_test_UF), label=\"test data prediction\");\r\n",
        "    plt.scatter(x_test_np[:,1], y_test_np, label=\"test data\");\r\n",
        "    plt.legend();\r\n",
        "    plt.xlabel(\"x\");\r\n",
        "    plt.ylabel(\"y\");\r\n",
        "    plt.show()"
      ],
      "outputs": [
        {
          "output_type": "stream",
          "name": "stdout",
          "text": [
            "   0 ( 0.00%) Train loss: 111.982 \t Validation loss: 97.640\n",
            "  10 ( 2.00%) Train loss: 14.484 \t Validation loss: 10.966\n",
            "  20 ( 4.00%) Train loss: 13.634 \t Validation loss: 10.231\n",
            "  30 ( 6.00%) Train loss: 13.217 \t Validation loss: 9.909\n",
            "  40 ( 8.00%) Train loss: 12.855 \t Validation loss: 9.624\n",
            "  50 (10.00%) Train loss: 12.543 \t Validation loss: 9.382\n",
            "  60 (12.00%) Train loss: 12.325 \t Validation loss: 9.201\n",
            "  70 (14.00%) Train loss: 12.137 \t Validation loss: 9.082\n",
            "  80 (16.00%) Train loss: 12.019 \t Validation loss: 8.979\n",
            "  90 (18.00%) Train loss: 11.950 \t Validation loss: 8.922\n",
            " 100 (20.00%) Train loss: 11.903 \t Validation loss: 8.886\n",
            " 110 (22.00%) Train loss: 11.871 \t Validation loss: 8.866\n",
            " 120 (24.00%) Train loss: 11.849 \t Validation loss: 8.856\n",
            " 130 (26.00%) Train loss: 11.833 \t Validation loss: 8.849\n",
            " 140 (28.00%) Train loss: 11.819 \t Validation loss: 8.843\n",
            " 150 (30.00%) Train loss: 11.804 \t Validation loss: 8.835\n",
            " 160 (32.00%) Train loss: 11.791 \t Validation loss: 8.827\n",
            " 170 (34.00%) Train loss: 11.778 \t Validation loss: 8.818\n",
            " 180 (36.00%) Train loss: 11.766 \t Validation loss: 8.809\n",
            " 190 (38.00%) Train loss: 11.754 \t Validation loss: 8.800\n",
            " 200 (40.00%) Train loss: 11.742 \t Validation loss: 8.788\n",
            " 210 (42.00%) Train loss: 11.725 \t Validation loss: 8.773\n",
            " 220 (44.00%) Train loss: 11.705 \t Validation loss: 8.756\n",
            " 230 (46.00%) Train loss: 11.685 \t Validation loss: 8.739\n",
            " 240 (48.00%) Train loss: 11.665 \t Validation loss: 8.723\n",
            " 250 (50.00%) Train loss: 11.648 \t Validation loss: 8.710\n",
            " 260 (52.00%) Train loss: 11.632 \t Validation loss: 8.698\n",
            " 270 (54.00%) Train loss: 11.614 \t Validation loss: 8.684\n",
            " 280 (56.00%) Train loss: 11.592 \t Validation loss: 8.667\n",
            " 290 (58.00%) Train loss: 11.566 \t Validation loss: 8.648\n",
            " 300 (60.00%) Train loss: 11.541 \t Validation loss: 8.629\n",
            " 310 (62.00%) Train loss: 11.514 \t Validation loss: 8.609\n",
            " 320 (64.00%) Train loss: 11.491 \t Validation loss: 8.593\n",
            " 330 (66.00%) Train loss: 11.468 \t Validation loss: 8.577\n",
            " 340 (68.00%) Train loss: 11.445 \t Validation loss: 8.560\n",
            " 350 (70.00%) Train loss: 11.421 \t Validation loss: 8.541\n",
            " 360 (72.00%) Train loss: 11.396 \t Validation loss: 8.521\n",
            " 370 (74.00%) Train loss: 11.369 \t Validation loss: 8.501\n",
            " 380 (76.00%) Train loss: 11.342 \t Validation loss: 8.479\n",
            " 390 (78.00%) Train loss: 11.314 \t Validation loss: 8.456\n",
            " 400 (80.00%) Train loss: 11.284 \t Validation loss: 8.433\n",
            " 410 (82.00%) Train loss: 11.254 \t Validation loss: 8.408\n",
            " 420 (84.00%) Train loss: 11.222 \t Validation loss: 8.383\n",
            " 430 (86.00%) Train loss: 11.189 \t Validation loss: 8.358\n",
            " 440 (88.00%) Train loss: 11.155 \t Validation loss: 8.332\n",
            " 450 (90.00%) Train loss: 11.120 \t Validation loss: 8.307\n",
            " 460 (92.00%) Train loss: 11.083 \t Validation loss: 8.280\n",
            " 470 (94.00%) Train loss: 11.046 \t Validation loss: 8.252\n",
            " 480 (96.00%) Train loss: 11.007 \t Validation loss: 8.226\n",
            " 490 (98.00%) Train loss: 10.967 \t Validation loss: 8.199\n",
            "Test loss:  9.071\n"
          ]
        },
        {
          "output_type": "display_data",
          "data": {
            "image/png": "[encoded data removed]",
            "text/plain": [
              "<Figure size 432x288 with 2 Axes>"
            ]
          },
          "metadata": {
            "needs_background": "light"
          }
        }
      ],
      "metadata": {}
    },
    {
      "cell_type": "code",
      "execution_count": 324,
      "source": [
        "######## Just right fitting\r\n",
        "NN = [\r\n",
        "    DenseLayer(1, 16, lambda x: x.relu()),\r\n",
        "    DenseLayer(16, 1, lambda x: x.identity())\r\n",
        "]\r\n",
        "\r\n",
        "# Initialize training hyperparameters\r\n",
        "EPOCHS = 200\r\n",
        "LEARN_R = 2e-3 \r\n",
        "\r\n",
        "rain_loss = []\r\n",
        "val_loss = []\r\n",
        "\r\n",
        "for e in range(EPOCHS):\r\n",
        "     \r\n",
        "    # Forward pass and loss computation\r\n",
        "    Loss = squared_loss(y_train, forward(x_train, NN))\r\n",
        "\r\n",
        "    # Backward pass\r\n",
        "    Loss.backward()\r\n",
        "    \r\n",
        "    # gradient descent update\r\n",
        "    update_parameters(parameters(NN), LEARN_R)\r\n",
        "    zero_gradients(parameters(NN))\r\n",
        "    \r\n",
        "    # Training loss\r\n",
        "    train_loss.append(Loss.v)\r\n",
        "    \r\n",
        "    # Validation\r\n",
        "    Loss_validation = squared_loss(y_validation, forward(x_validation, NN))\r\n",
        "    val_loss.append(Loss_validation.v)\r\n",
        "    \r\n",
        "    if e%10==0:\r\n",
        "        print(\"{:4d}\".format(e),\r\n",
        "              \"({:5.2f}%)\".format(e/EPOCHS*100), \r\n",
        "              \"Train loss: {:4.3f} \\t Validation loss: {:4.3f}\".format(train_loss[-1], val_loss[-1]))\r\n",
        "\r\n",
        "# store model predictions        \r\n",
        "output_test_UF = forward(x_test, NN)\r\n",
        "\r\n",
        "\r\n",
        "plt.figure(1)\r\n",
        "plt.subplot(211)\r\n",
        "plt.title('Just right fitting')\r\n",
        "\r\n",
        "y_test_np = Var_to_nparray(y_test)\r\n",
        "plt.scatter(y_test_np, Var_to_nparray(output_test_UF));\r\n",
        "plt.plot([np.min(y_test_np), np.max(y_test_np)], [np.min(y_test_np), np.max(y_test_np)], color='k');\r\n",
        "plt.xlabel(\"y\");\r\n",
        "plt.ylabel(\"$\\hat{y}$\");\r\n",
        "#plt.title(\"Model prediction vs real in the test set, the close to the line the better\")\r\n",
        "plt.grid(True);\r\n",
        "plt.axis('equal');\r\n",
        "plt.tight_layout();\r\n",
        "\r\n",
        "Loss_test = squared_loss(y_test, forward(x_test, NN))\r\n",
        "\r\n",
        "print(\"Test loss:  {:4.3f}\".format(Loss_test.v))\r\n",
        "\r\n",
        "\r\n",
        "x_test_np = Var_to_nparray(x_test)\r\n",
        "x_train_np = Var_to_nparray(x_train)\r\n",
        "y_train_np = Var_to_nparray(y_train)\r\n",
        "if D1:\r\n",
        "    plt.subplot(212)\r\n",
        "    plt.scatter(x_train_np, y_train_np, label=\"train data\");\r\n",
        "    plt.scatter(x_test_np, Var_to_nparray(output_test_UF), label=\"test prediction\");\r\n",
        "    plt.scatter(x_test_np, y_test_np, label=\"test data\");\r\n",
        "    plt.legend();\r\n",
        "    plt.xlabel(\"x\");\r\n",
        "    plt.ylabel(\"y\");\r\n",
        "    plt.show()\r\n",
        "    \r\n",
        "else:\r\n",
        "    plt.subplot(212)\r\n",
        "    plt.scatter(x_train_np[:,1], y_train, label=\"train data\");\r\n",
        "    plt.scatter(x_test_np[:,1], Var_to_nparray(output_test_UF), label=\"test data prediction\");\r\n",
        "    plt.scatter(x_test_np[:,1], y_test_np, label=\"test data\");\r\n",
        "    plt.legend();\r\n",
        "    plt.xlabel(\"x\");\r\n",
        "    plt.ylabel(\"y\");\r\n",
        "    plt.show()"
      ],
      "outputs": [
        {
          "output_type": "stream",
          "name": "stdout",
          "text": [
            "   0 ( 0.00%) Train loss: 112.576 \t Validation loss: 107.303\n",
            "  10 ( 5.00%) Train loss: 37.478 \t Validation loss: 28.421\n",
            "  20 (10.00%) Train loss: 18.586 \t Validation loss: 14.336\n",
            "  30 (15.00%) Train loss: 15.003 \t Validation loss: 11.217\n",
            "  40 (20.00%) Train loss: 12.773 \t Validation loss: 9.727\n",
            "  50 (25.00%) Train loss: 12.355 \t Validation loss: 9.334\n",
            "  60 (30.00%) Train loss: 12.174 \t Validation loss: 9.140\n",
            "  70 (35.00%) Train loss: 12.077 \t Validation loss: 9.049\n",
            "  80 (40.00%) Train loss: 12.033 \t Validation loss: 9.015\n",
            "  90 (45.00%) Train loss: 12.006 \t Validation loss: 8.994\n",
            " 100 (50.00%) Train loss: 11.979 \t Validation loss: 8.977\n",
            " 110 (55.00%) Train loss: 11.960 \t Validation loss: 8.976\n",
            " 120 (60.00%) Train loss: 11.937 \t Validation loss: 8.985\n",
            " 130 (65.00%) Train loss: 11.927 \t Validation loss: 8.971\n",
            " 140 (70.00%) Train loss: 11.921 \t Validation loss: 8.963\n",
            " 150 (75.00%) Train loss: 11.916 \t Validation loss: 8.961\n",
            " 160 (80.00%) Train loss: 11.912 \t Validation loss: 8.961\n",
            " 170 (85.00%) Train loss: 11.908 \t Validation loss: 8.960\n",
            " 180 (90.00%) Train loss: 11.906 \t Validation loss: 8.960\n",
            " 190 (95.00%) Train loss: 11.904 \t Validation loss: 8.958\n",
            "Test loss:  9.773\n"
          ]
        },
        {
          "output_type": "display_data",
          "data": {
            "image/png": "[encoded data removed]",
            "text/plain": [
              "<Figure size 432x288 with 2 Axes>"
            ]
          },
          "metadata": {
            "needs_background": "light"
          }
        }
      ],
      "metadata": {}
    },
    {
      "cell_type": "markdown",
      "source": [
        "# Next steps - classification\r\n",
        "\r\n",
        "It is straight forward to extend what we have done to classification. \r\n",
        "\r\n",
        "For numerical stability it is better to make softmax and cross-entropy as one function so we write the cross entropy loss as a function of the logits we talked about last week. \r\n",
        "\r\n",
        "Next week we will see how to perform classification in PyTorch."
      ],
      "metadata": {
        "id": "fYPZP-eTFtIo"
      }
    },
    {
      "cell_type": "markdown",
      "source": [
        "## Exercise l) optional - Implement backpropagation for classification\n",
        "\n",
        "Should be possible with very few lines of code. :-)"
      ],
      "metadata": {
        "id": "qsVPul3QFtIo"
      }
    },
    {
      "cell_type": "code",
      "execution_count": null,
      "source": [
        "# Just add code."
      ],
      "outputs": [],
      "metadata": {
        "collapsed": true,
        "id": "oC8QrI2tFtIp"
      }
    },
    {
      "cell_type": "markdown",
      "source": [
        "## Exercise m) optional - Introduce a NeuralNetwork class\n",
        "\n",
        "The functions we applied on the neural network (parameters, update_parameters and zero_gradients) can more naturally be included as methods in a NeuralNetwork class. Make such a class and modify the code to use it. "
      ],
      "metadata": {
        "id": "APqhJv3tta1O"
      }
    },
    {
      "cell_type": "code",
      "execution_count": null,
      "source": [
        "# just add some code"
      ],
      "outputs": [],
      "metadata": {
        "id": "Dqfnor1ouMLq"
      }
    }
  ]
}