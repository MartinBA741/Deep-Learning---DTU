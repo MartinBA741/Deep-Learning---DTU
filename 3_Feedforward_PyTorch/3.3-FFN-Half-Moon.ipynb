{
 "cells": [
  {
   "cell_type": "markdown",
   "source": [
    "# Credits\n",
    "> This code is a slight modification to a translation (TensorFlow --> PyTorch) of a previous version of the [02456](http://kurser.dtu.dk/course/02456) course material. \n",
    "> [Original repo link (TensorFlow)](https://github.com/DeepLearningDTU/02456-deep-learning).\n",
    "> [Translated repo link (PyTorch)](https://github.com/munkai/pytorch-tutorial/tree/master/2_intermediate)."
   ],
   "metadata": {}
  },
  {
   "cell_type": "markdown",
   "source": [
    "# Purpose and goals\n",
    "In this notebook you will implement a simple neural network in PyTorch.\n",
    "\n",
    "The building blocks of PyTorch are Tensors, and Operations, with these we can form dynamic computational graphs that represent neural networks.\n",
    "In this exercise we'll start right away by defining a logistic regression model using these simple building blocks.\n",
    "We'll initially start with a simple 2D and binary (i.e. two-class) classification problem where the class decision boundary can be visualized.\n",
    "Initially we show that logistic regression can only separate classes linearly.\n",
    "Adding a nonlinear hidden layer to the algorithm permits nonlinear class separation.\n",
    "\n",
    "In this notebook you should:\n",
    "* **First** run the code as is, and see what it does.\n",
    "* **Then** modify the code, following the instructions in the bottom of the notebook.\n",
    "* **Lastly** play around a bit, and do some small experiments that you come up with.\n",
    "\n",
    "> We assume that you are already familiar with backpropagation (if not please see [Andrej Karpathy](http://cs.stanford.edu/people/karpathy/) or [Michal Nielsen](http://neuralnetworksanddeeplearning.com/chap2.html))."
   ],
   "metadata": {}
  },
  {
   "cell_type": "markdown",
   "source": [
    "# Dependencies and supporting functions\n",
    "Load dependencies and supporting functions by running the code block below."
   ],
   "metadata": {}
  },
  {
   "cell_type": "code",
   "execution_count": 1,
   "source": [
    "%matplotlib inline\r\n",
    "import matplotlib\r\n",
    "import numpy as np\r\n",
    "import matplotlib.pyplot as plt\r\n",
    "import sklearn.datasets\r\n",
    "\r\n",
    "# Do not worry about the code below for now, it is used for plotting later\r\n",
    "def plot_decision_boundary(pred_func, X, y):\r\n",
    "    #from https://github.com/dennybritz/nn-from-scratch/blob/master/nn-from-scratch.ipynb\r\n",
    "    # Set min and max values and give it some padding\r\n",
    "    x_min, x_max = X[:, 0].min() - .5, X[:, 0].max() + .5\r\n",
    "    y_min, y_max = X[:, 1].min() - .5, X[:, 1].max() + .5\r\n",
    "    \r\n",
    "    h = 0.01\r\n",
    "    # Generate a grid of points with distance h between them\r\n",
    "    xx, yy = np.meshgrid(np.arange(x_min, x_max, h), np.arange(y_min, y_max, h))\r\n",
    "    \r\n",
    "    yy = yy.astype('float32')\r\n",
    "    xx = xx.astype('float32')\r\n",
    "    # Predict the function value for the whole gid\r\n",
    "    Z = pred_func(np.c_[xx.ravel(), yy.ravel()])[:,0]\r\n",
    "    Z = Z.reshape(xx.shape)\r\n",
    "    # Plot the contour and training examples\r\n",
    "    plt.figure()\r\n",
    "    plt.contourf(xx, yy, Z, cmap=plt.cm.RdBu)\r\n",
    "    plt.scatter(X[:, 0], X[:, 1], c=-y, cmap=plt.cm.Spectral)\r\n",
    "\r\n",
    "def onehot(t, num_classes):\r\n",
    "    out = np.zeros((t.shape[0], num_classes))\r\n",
    "    for row, col in enumerate(t):\r\n",
    "        out[row, col] = 1\r\n",
    "    return out"
   ],
   "outputs": [],
   "metadata": {}
  },
  {
   "cell_type": "markdown",
   "source": [
    "# Problem \n",
    "We'll initally demonstrate that Multi-layer Perceptrons (MLPs) can classify nonlinear problems, whereas a simple logistic regression model cannot.\n",
    "For ease of visualization and computational speed we initially experiment on the simple 2D half-moon dataset, visualized below."
   ],
   "metadata": {
    "collapsed": true
   }
  },
  {
   "cell_type": "code",
   "execution_count": 2,
   "source": [
    "# Generate a dataset and plot it\r\n",
    "np.random.seed(0)\r\n",
    "num_samples = 300\r\n",
    "\r\n",
    "X, y = sklearn.datasets.make_moons(num_samples, noise=0.20)\r\n",
    "\r\n",
    "# define train, validation, and test sets\r\n",
    "X_tr = X[:100].astype('float32')\r\n",
    "X_val = X[100:200].astype('float32')\r\n",
    "X_te = X[200:].astype('float32')\r\n",
    "\r\n",
    "# and labels\r\n",
    "y_tr = y[:100].astype('int32')\r\n",
    "y_val = y[100:200].astype('int32')\r\n",
    "y_te = y[200:].astype('int32')\r\n",
    "\r\n",
    "plt.scatter(X_tr[:,0], X_tr[:,1], s=40, c=y_tr, cmap=plt.cm.Spectral)\r\n",
    "\r\n",
    "print(X.shape, y.shape)\r\n",
    "\r\n",
    "num_features = X_tr.shape[-1]\r\n",
    "num_output = 2"
   ],
   "outputs": [
    {
     "output_type": "stream",
     "name": "stdout",
     "text": [
      "(300, 2) (300,)\n"
     ]
    },
    {
     "output_type": "display_data",
     "data": {
      "image/png": "[encoded data removed]",
      "text/plain": [
       "<Figure size 432x288 with 1 Axes>"
      ]
     },
     "metadata": {
      "needs_background": "light"
     }
    }
   ],
   "metadata": {}
  },
  {
   "cell_type": "markdown",
   "source": [
    "# From Logistic Regression to \"Deep Learning\"\n",
    "The code implements logistic regression. In section [__Assignments Half Moon__](#Assignments-Half-Moon) (bottom of this notebook) you are asked to modify the code into a neural network.\n",
    "\n",
    "The standard building block for neural networks are layers, the simplest of which is called a *fully-connected layer* or *dense feed forward layer*, and it is computed as follows:\n",
    "\n",
    "$$y = g(W^{\\top} x + b)$$\n",
    "\n",
    "where $x$ is the input vector, $y$ is the output vector, $W, b$ are the weights and biases (a matrix and vector respectively) and $g$ is a non-linear function, called *activation function*.\n",
    "The *dense* part of the name comes from the fact that every element of $x$ contributes to every element of $y$.\n",
    "And the *feed forward* part of the name means that the layer processes each input independently. \n",
    "If we were to draw the layer it would be acyclical.\n",
    "Later we will see layers that break from both of these conventions."
   ],
   "metadata": {}
  },
  {
   "cell_type": "markdown",
   "source": [
    "- $x$ has shape `[batch_size, num_features]`,\n",
    "- $W$ has shape `[num_units, num_features]`,\n",
    "- $b$ has `[num_units]`, and\n",
    "- $y$ has then `[batch_size, num_units]`"
   ],
   "metadata": {}
  },
  {
   "cell_type": "markdown",
   "source": [
    "## PyTorch 101\n",
    "\n",
    "In this first exercise we will use basic PyTorch functions so that you can learn how to build it from scratch. This will help you later if you want to build your own custom operations."
   ],
   "metadata": {}
  },
  {
   "cell_type": "code",
   "execution_count": 12,
   "source": [
    "import torch\r\n",
    "from torch.nn.parameter import Parameter\r\n",
    "import torch.nn as nn\r\n",
    "import torch.nn.functional as F"
   ],
   "outputs": [],
   "metadata": {}
  },
  {
   "cell_type": "markdown",
   "source": [
    "[`Parameters`](https://pytorch.org/docs/stable/generated/torch.nn.parameter.Parameter.html#torch.nn.parameter.Parameter) have a very special property when used with [`Module`](https://pytorch.org/docs/stable/generated/torch.nn.Module.html?highlight=module#torch.nn.Module)s - when they’re assigned as `Module` attributes they are automatically added to the list of its parameters, and will appear e.g. in the `parameters()` iterator. \\\n",
    "Assigning a Tensor doesn’t have such effect. This is because one might want to cache some temporary state (more on this later) in the model. If there was no such class as `Parameter`, these temporaries would get registered too."
   ],
   "metadata": {}
  },
  {
   "cell_type": "code",
   "execution_count": 13,
   "source": [
    "class Net(nn.Module):\r\n",
    "\r\n",
    "    def __init__(self):\r\n",
    "        super(Net, self).__init__()\r\n",
    "        # Setting up variables, these variables are weights in your \r\n",
    "        # network that can be updated while running our graph.\r\n",
    "        # Notice, to make a hidden layer, the weights need to have the \r\n",
    "        # following dimensionality:\r\n",
    "        #   W[number_of_units_going_out, number_of_units_going_in]\r\n",
    "        #   b[number_of_units_going_out]\r\n",
    "        # in the example below we have 2 input units (num_features) and 2 output units (num_output)\r\n",
    "        # so our weights become W[2, 2], b[2]\r\n",
    "        # if we want to make a hidden layer with 100 units, we need to define the shape of the\r\n",
    "        # first weight to W[100, 2], b[2] and the shape of the second weight to W[2, 100], b[2]\r\n",
    "        \r\n",
    "        # first layer\r\n",
    "        self.W_1 = Parameter(torch.randn(num_output, num_features)) \r\n",
    "        self.b_1 = Parameter(torch.randn(num_output))\r\n",
    "        \r\n",
    "        # second layer (to be completed as an exercise)\r\n",
    "        # NB when you create a second layer, remember that you also must change parts of the first layer\r\n",
    "        # self.W_2 = <YOUR CODE HERE>\r\n",
    "        # self.b_2 = <YOUR CODE HERE>\r\n",
    "        \r\n",
    "    def forward(self, x):\r\n",
    "        # Setting up ops, these ops will define edges along our computational graph\r\n",
    "        # The below ops will compute a logistic regression, \r\n",
    "        # but can be modified to compute a neural network\r\n",
    "        x = F.linear(x, self.W_1, self.b_1)\r\n",
    "        \r\n",
    "        # second layer (to be completed as an exercise)\r\n",
    "        # NB when you create a second layer, remember that you also must change parts of the first layer\r\n",
    "        # x = F.linear(x, self.W_2, self.b_2)\r\n",
    "        return F.softmax(x, dim=1) # softmax to be performed on the second dimension\r\n",
    "\r\n",
    "net = Net()"
   ],
   "outputs": [],
   "metadata": {}
  },
  {
   "cell_type": "markdown",
   "source": [
    "Knowing how to print your tensors is useful"
   ],
   "metadata": {}
  },
  {
   "cell_type": "code",
   "execution_count": 14,
   "source": [
    "# list all parameters in your network\r\n",
    "print(\"NAMED PARAMETERS\")\r\n",
    "print(list(net.named_parameters()))\r\n",
    "print()\r\n",
    "# the .parameters() method simply gives the Tensors in the list\r\n",
    "print(\"PARAMETERS\")\r\n",
    "print(list(net.parameters()))\r\n",
    "print()\r\n",
    "\r\n",
    "# list individual parameters by name\r\n",
    "print('WEIGHTS')\r\n",
    "print(net.W_1)\r\n",
    "print(net.W_1.size())\r\n",
    "print('\\nBIAS')\r\n",
    "print(net.b_1)\r\n",
    "print(net.b_1.size())"
   ],
   "outputs": [
    {
     "output_type": "stream",
     "name": "stdout",
     "text": [
      "NAMED PARAMETERS\n",
      "[('W_1', Parameter containing:\n",
      "tensor([[-0.0962, -0.8619],\n",
      "        [ 1.1210, -0.0107]], requires_grad=True)), ('b_1', Parameter containing:\n",
      "tensor([0.5694, 0.2295], requires_grad=True))]\n",
      "\n",
      "PARAMETERS\n",
      "[Parameter containing:\n",
      "tensor([[-0.0962, -0.8619],\n",
      "        [ 1.1210, -0.0107]], requires_grad=True), Parameter containing:\n",
      "tensor([0.5694, 0.2295], requires_grad=True)]\n",
      "\n",
      "WEIGHTS\n",
      "Parameter containing:\n",
      "tensor([[-0.0962, -0.8619],\n",
      "        [ 1.1210, -0.0107]], requires_grad=True)\n",
      "torch.Size([2, 2])\n",
      "\n",
      "BIAS\n",
      "Parameter containing:\n",
      "tensor([0.5694, 0.2295], requires_grad=True)\n",
      "torch.Size([2])\n"
     ]
    }
   ],
   "metadata": {}
  },
  {
   "cell_type": "markdown",
   "source": [
    "# Exploring Parameter\n",
    "\n",
    "Ok, let's investigate what a Parameter is"
   ],
   "metadata": {}
  },
  {
   "cell_type": "code",
   "execution_count": 16,
   "source": [
    "param = net.W_1\r\n",
    "print(\"## this is the tensor\")\r\n",
    "print(param.data)\r\n",
    "print(\"\\n## this is the tensor's gradient\")\r\n",
    "print(param.grad)\r\n",
    "# notice, the gradient is undefined because we have not yet run a backward pass\r\n",
    "\r\n",
    "print(\"\\n## is it a leaf in the graph?\")\r\n",
    "print(param.is_leaf)"
   ],
   "outputs": [
    {
     "output_type": "stream",
     "name": "stdout",
     "text": [
      "## this is the tensor\n",
      "tensor([[-0.0962, -0.8619],\n",
      "        [ 1.1210, -0.0107]])\n",
      "\n",
      "## this is the tensor's gradient\n",
      "None\n",
      "\n",
      "## is it a leaf in the graph?\n",
      "True\n"
     ]
    }
   ],
   "metadata": {}
  },
  {
   "cell_type": "markdown",
   "source": [
    "## Excluding subgraphs from backward propagation\n",
    "\n",
    "To exclude part of your computational graph (i.e. a subgraph) from backward propagation, simply set the relevant tensors' attribute `requires_grad` to `False`.\n",
    "\n",
    "If there’s a single input to an operation that requires gradient, its output will also require gradient. Conversely, only if all inputs don’t require gradient, the output also won’t require it. Backward computation is never performed in the subgraphs, where all Tensors didn’t require gradients."
   ],
   "metadata": {}
  },
  {
   "cell_type": "markdown",
   "source": [
    "# Test network\n",
    "\n",
    "To use our network we can simply call our graph, and it will dynamically be created. Here is an example of running the network's forward pass."
   ],
   "metadata": {}
  },
  {
   "cell_type": "code",
   "execution_count": 17,
   "source": [
    "X = torch.randn(5, num_features)\r\n",
    "# the net.__call__ runs some pre-defined functions\r\n",
    "# both before and after running net.forward()\r\n",
    "# see http://pytorch.org/docs/master/_modules/torch/nn/modules/module.html\r\n",
    "\r\n",
    "print('input')\r\n",
    "print(X)\r\n",
    "\r\n",
    "print('\\noutput')\r\n",
    "print(net(X))"
   ],
   "outputs": [
    {
     "output_type": "stream",
     "name": "stdout",
     "text": [
      "input\n",
      "tensor([[-2.2087,  0.8508],\n",
      "        [-0.3249,  0.4911],\n",
      "        [ 2.0310,  0.1091],\n",
      "        [ 0.3655, -0.4845],\n",
      "        [-0.3535, -0.1881]])\n",
      "\n",
      "output\n",
      "tensor([[0.9092, 0.0908],\n",
      "        [0.5787, 0.4213],\n",
      "        [0.0975, 0.9025],\n",
      "        [0.5762, 0.4238],\n",
      "        [0.7171, 0.2829]], grad_fn=<SoftmaxBackward>)\n"
     ]
    }
   ],
   "metadata": {}
  },
  {
   "cell_type": "markdown",
   "source": [
    "`Parameter`s are a special kind of `Tensor`"
   ],
   "metadata": {}
  },
  {
   "cell_type": "code",
   "execution_count": 18,
   "source": [
    "# let's take a look at the gradients\r\n",
    "for p in net.parameters():\r\n",
    "    print(p.data)\r\n",
    "    print(p.grad)\r\n",
    "    print()"
   ],
   "outputs": [
    {
     "output_type": "stream",
     "name": "stdout",
     "text": [
      "tensor([[-0.0962, -0.8619],\n",
      "        [ 1.1210, -0.0107]])\n",
      "None\n",
      "\n",
      "tensor([0.5694, 0.2295])\n",
      "None\n",
      "\n"
     ]
    }
   ],
   "metadata": {}
  },
  {
   "cell_type": "code",
   "execution_count": 19,
   "source": [
    "X = torch.randn(7, num_features)\r\n",
    "out = net(X)\r\n",
    "# we need to give a tensor of gradients to .backward,\r\n",
    "# we give a dummy tensor\r\n",
    "out.backward(torch.randn(7, num_output))"
   ],
   "outputs": [],
   "metadata": {}
  },
  {
   "cell_type": "markdown",
   "source": [
    "for details on `.backward()`, see http://pytorch.org/docs/master/autograd.html#torch.autograd.backward"
   ],
   "metadata": {}
  },
  {
   "cell_type": "code",
   "execution_count": 20,
   "source": [
    "# let's take a look at the gradients\r\n",
    "for p in net.parameters():\r\n",
    "    print(p.data)\r\n",
    "    print(p.grad)\r\n",
    "    print()"
   ],
   "outputs": [
    {
     "output_type": "stream",
     "name": "stdout",
     "text": [
      "tensor([[-0.0962, -0.8619],\n",
      "        [ 1.1210, -0.0107]])\n",
      "tensor([[-0.0870, -0.7069],\n",
      "        [ 0.0870,  0.7069]])\n",
      "\n",
      "tensor([0.5694, 0.2295])\n",
      "tensor([-0.6345,  0.6345])\n",
      "\n"
     ]
    }
   ],
   "metadata": {}
  },
  {
   "cell_type": "code",
   "execution_count": 21,
   "source": [
    "# ok, let's try and zero the accumulated gradients\r\n",
    "net.zero_grad()\r\n",
    "for p in net.parameters():\r\n",
    "    print(p.data)\r\n",
    "    print(p.grad)"
   ],
   "outputs": [
    {
     "output_type": "stream",
     "name": "stdout",
     "text": [
      "tensor([[-0.0962, -0.8619],\n",
      "        [ 1.1210, -0.0107]])\n",
      "tensor([[0., 0.],\n",
      "        [0., 0.]])\n",
      "tensor([0.5694, 0.2295])\n",
      "tensor([0., 0.])\n"
     ]
    }
   ],
   "metadata": {}
  },
  {
   "cell_type": "markdown",
   "source": [
    "# Loss function\n",
    "\n",
    "Let's define a custom loss function to compute how good our graph is doing."
   ],
   "metadata": {}
  },
  {
   "cell_type": "code",
   "execution_count": 22,
   "source": [
    "def cross_entropy(ys, ts):\r\n",
    "    # computing cross entropy per sample\r\n",
    "    cross_entropy = -torch.sum(ts * torch.log(ys), dim=1, keepdim=False)\r\n",
    "    # averaging over samples\r\n",
    "    return torch.mean(cross_entropy)"
   ],
   "outputs": [],
   "metadata": {}
  },
  {
   "cell_type": "markdown",
   "source": [
    "To train our neural network we need to update the parameters in the direction of the negative gradient w.r.t the cost function we defined earlier.\n",
    "We can use [`torch.optim`](http://pytorch.org/docs/master/optim.html) to get the gradients with some update rule for all parameters in the network.\n",
    "\n",
    "Heres a small animation of gradient descent: http://imgur.com/a/Hqolp, which also illustrates which challenges optimizers might face, e.g. saddle points."
   ],
   "metadata": {}
  },
  {
   "cell_type": "code",
   "execution_count": 23,
   "source": [
    "import torch.optim as optim\r\n",
    "\r\n",
    "optimizer = optim.SGD(net.parameters(), lr=0.01)"
   ],
   "outputs": [],
   "metadata": {}
  },
  {
   "cell_type": "markdown",
   "source": [
    "Next, we make the prediction functions, such that we can get an accuracy measure over a batch"
   ],
   "metadata": {}
  },
  {
   "cell_type": "code",
   "execution_count": 24,
   "source": [
    "def accuracy(ys, ts):\r\n",
    "    # making a one-hot encoded vector of correct (1) and incorrect (0) predictions\r\n",
    "    correct_prediction = torch.eq(torch.max(ys, 1)[1], torch.max(ts, 1)[1])\r\n",
    "    # averaging the one-hot encoded vector\r\n",
    "    return torch.mean(correct_prediction.float())"
   ],
   "outputs": [],
   "metadata": {}
  },
  {
   "cell_type": "markdown",
   "source": [
    "The next step is to utilize our `optimizer` repeatedly in order to optimize our weights `W_1` and `b_1` to make the best possible linear seperation of the half moon dataset."
   ],
   "metadata": {}
  },
  {
   "cell_type": "code",
   "execution_count": 15,
   "source": [
    "# number of training passses\r\n",
    "num_epochs = 1000\r\n",
    "# store loss and accuracy for information\r\n",
    "train_losses, val_losses, train_accs, val_accs = [], [], [], []\r\n",
    "\r\n",
    "def pred(X):\r\n",
    "    \"\"\" Compute graph's prediction and return numpy array\r\n",
    "    \r\n",
    "    Parameters\r\n",
    "    ----------\r\n",
    "    X : numpy.ndarray\r\n",
    "    \r\n",
    "    Returns\r\n",
    "    -------\r\n",
    "    numpy.ndarray\r\n",
    "    \"\"\"\r\n",
    "    X = torch.from_numpy(X)\r\n",
    "    y = net(X)\r\n",
    "    return y.data.numpy()\r\n",
    "\r\n",
    "# plot boundary on testset before training session\r\n",
    "plot_decision_boundary(lambda x: pred(x), X_te, y_te)\r\n",
    "plt.title(\"Untrained Classifier\")\r\n",
    "\r\n",
    "# training loop\r\n",
    "for e in range(num_epochs):\r\n",
    "    # get training input and expected output as torch Variables and make sure type is correct\r\n",
    "    tr_input = torch.from_numpy(X_tr)\r\n",
    "    tr_targets = torch.from_numpy(onehot(y_tr, num_output)).float()\r\n",
    "    \r\n",
    "    # zeroize accumulated gradients in parameters\r\n",
    "    optimizer.zero_grad()\r\n",
    "    # predict by running forward pass\r\n",
    "    tr_output = net(tr_input)\r\n",
    "    # compute cross entropy loss\r\n",
    "    tr_loss = cross_entropy(tr_output, tr_targets)\r\n",
    "    # compute gradients given loss\r\n",
    "    tr_loss.backward()\r\n",
    "    # update the parameters given the computed gradients\r\n",
    "    optimizer.step()\r\n",
    "    train_acc = accuracy(tr_output, tr_targets)\r\n",
    "    \r\n",
    "    # store training loss\r\n",
    "    train_losses.append(tr_loss.data.numpy())\r\n",
    "    train_accs.append(train_acc)\r\n",
    "    \r\n",
    "    # get validation input and expected output as torch Variables and make sure type is correct\r\n",
    "    val_input = torch.from_numpy(X_val)\r\n",
    "    val_targets = torch.from_numpy(onehot(y_val, num_output)).float()\r\n",
    "    \r\n",
    "    # predict with validation input\r\n",
    "    val_output = net(val_input)\r\n",
    "    # compute loss and accuracy\r\n",
    "    val_loss = cross_entropy(val_output, val_targets)\r\n",
    "    val_acc = accuracy(val_output, val_targets)\r\n",
    "    \r\n",
    "    # store loss and accuracy\r\n",
    "    val_losses.append(val_loss.data.numpy())\r\n",
    "    val_accs.append(val_acc.data.numpy())\r\n",
    "    \r\n",
    "    if e % 100 == 0:\r\n",
    "        print(\"Epoch %i, \"\r\n",
    "              \"Train Cost: %0.3f\"\r\n",
    "              \"\\tVal Cost: %0.3f\"\r\n",
    "              \"\\t Val acc: %0.3f\" % (e, \r\n",
    "                                     train_losses[-1],\r\n",
    "                                     val_losses[-1],\r\n",
    "                                     val_accs[-1]))\r\n",
    "        \r\n",
    "        \r\n",
    "# get test input and expected output\r\n",
    "te_input = torch.from_numpy(X_te)\r\n",
    "te_targets = torch.from_numpy(onehot(y_te, num_output)).float()\r\n",
    "# predict on testset\r\n",
    "te_output = net(te_input)\r\n",
    "# compute loss and accuracy\r\n",
    "te_loss = cross_entropy(te_output, te_targets)\r\n",
    "te_acc = accuracy(te_output, te_targets)\r\n",
    "print(\"\\nTest Cost: %0.3f\\tTest Accuracy: %0.3f\" % (te_loss.data.numpy(), te_acc.data.numpy()))\r\n",
    "\r\n",
    "# plot boundary on testset after training session\r\n",
    "plot_decision_boundary(lambda x: pred(x), X_te, y_te)\r\n",
    "plt.title(\"Trained Classifier\")\r\n",
    "\r\n",
    "plt.figure()\r\n",
    "epoch = np.arange(len(train_losses))\r\n",
    "plt.plot(epoch, train_losses, 'r', label='Train Loss')\r\n",
    "plt.plot(epoch, val_losses, 'b', label='Val Loss')\r\n",
    "plt.legend()\r\n",
    "plt.xlabel('Updates')\r\n",
    "plt.ylabel('Loss')\r\n",
    "plt.show()\r\n",
    "\r\n",
    "plt.figure()\r\n",
    "plt.plot(epoch, train_accs, 'r', label='Train Acc')\r\n",
    "plt.plot(epoch, val_accs, 'b', label='Val Acc')\r\n",
    "plt.legend()\r\n",
    "plt.xlabel('Updates')\r\n",
    "plt.ylabel('Accuracy')\r\n",
    "plt.show()"
   ],
   "outputs": [
    {
     "output_type": "stream",
     "name": "stdout",
     "text": [
      "Epoch 0, Train Cost: 0.534\tVal Cost: 0.503\t Val acc: 0.760\n",
      "Epoch 100, Train Cost: 0.403\tVal Cost: 0.396\t Val acc: 0.810\n",
      "Epoch 200, Train Cost: 0.357\tVal Cost: 0.362\t Val acc: 0.810\n",
      "Epoch 300, Train Cost: 0.339\tVal Cost: 0.351\t Val acc: 0.830\n",
      "Epoch 400, Train Cost: 0.331\tVal Cost: 0.347\t Val acc: 0.810\n",
      "Epoch 500, Train Cost: 0.326\tVal Cost: 0.345\t Val acc: 0.810\n",
      "Epoch 600, Train Cost: 0.323\tVal Cost: 0.344\t Val acc: 0.830\n",
      "Epoch 700, Train Cost: 0.321\tVal Cost: 0.343\t Val acc: 0.830\n",
      "Epoch 800, Train Cost: 0.319\tVal Cost: 0.342\t Val acc: 0.830\n",
      "Epoch 900, Train Cost: 0.318\tVal Cost: 0.341\t Val acc: 0.830\n",
      "\n",
      "Test Cost: 0.292\tTest Accuracy: 0.870\n"
     ]
    },
    {
     "output_type": "display_data",
     "data": {
      "image/png": "[encoded data removed]",
      "text/plain": [
       "<Figure size 432x288 with 1 Axes>"
      ]
     },
     "metadata": {
      "needs_background": "light"
     }
    },
    {
     "output_type": "display_data",
     "data": {
      "image/png": "[encoded data removed]",
      "text/plain": [
       "<Figure size 432x288 with 1 Axes>"
      ]
     },
     "metadata": {
      "needs_background": "light"
     }
    },
    {
     "output_type": "display_data",
     "data": {
      "image/png": "[encoded data removed]",
      "text/plain": [
       "<Figure size 432x288 with 1 Axes>"
      ]
     },
     "metadata": {
      "needs_background": "light"
     }
    },
    {
     "output_type": "display_data",
     "data": {
      "image/png": "[encoded data removed]",
      "text/plain": [
       "<Figure size 432x288 with 1 Axes>"
      ]
     },
     "metadata": {
      "needs_background": "light"
     }
    }
   ],
   "metadata": {}
  },
  {
   "cell_type": "markdown",
   "source": [
    "# Assignments\n",
    "\n",
    "1. A linear logistic classifier is only able to create a linear decision boundary. Change the Logistic classifier into a (nonlinear) Neural network by inserting a dense hidden layer between the input and output layers of the model\n",
    " \n",
    "2. Experiment with multiple hidden layers or more / less hidden units. What happens to the decision boundary?\n",
    " \n",
    "3. Overfitting: When increasing the number of hidden layers / units, the neural network will fit the training data better by creating a highly nonlinear decision boundary. If the model is too complex it will often generalize poorly to new data (validation and test set). Can you observe this from the training and validation errors? \n",
    " \n",
    "4. We used the vanilla stochastic gradient descent algorithm for parameter updates. This usually converges slowly and more sophisticated pseudo-second-order methods usually work better. Try changing the optimizer to [adam or momentum](http://pytorch.org/docs/master/optim.html#torch.optim.Adam)"
   ],
   "metadata": {}
  },
  {
   "cell_type": "markdown",
   "source": [
    "When you're done, continue to the next part of this lab."
   ],
   "metadata": {}
  }
 ],
 "metadata": {
  "kernelspec": {
   "name": "python3",
   "display_name": "Python 3.6.13 64-bit ('komp': conda)"
  },
  "language_info": {
   "codemirror_mode": {
    "name": "ipython",
    "version": 3
   },
   "file_extension": ".py",
   "mimetype": "text/x-python",
   "name": "python",
   "nbconvert_exporter": "python",
   "pygments_lexer": "ipython3",
   "version": "3.6.13"
  },
  "interpreter": {
   "hash": "ed78582efbdb1cd8f8bfb63027333d779fdc8970c24bd6cce674fc83c0126038"
  }
 },
 "nbformat": 4,
 "nbformat_minor": 1
}