{
  "nbformat": 4,
  "nbformat_minor": 2,
  "metadata": {
    "accelerator": "GPU",
    "colab": {
      "name": "4.3-EXE-CIFAR-10.ipynb",
      "provenance": [],
      "collapsed_sections": []
    },
    "kernelspec": {
      "name": "python3",
      "display_name": "Python 3.8.5 64-bit ('base': conda)"
    },
    "language_info": {
      "codemirror_mode": {
        "name": "ipython",
        "version": 3
      },
      "file_extension": ".py",
      "mimetype": "text/x-python",
      "name": "python",
      "nbconvert_exporter": "python",
      "pygments_lexer": "ipython3",
      "version": "3.8.5"
    },
    "interpreter": {
      "hash": "b169ff0885674dbcea2d7bddc30c3a8bc7cce28b7c32737103568c6693f0172d"
    }
  },
  "cells": [
    {
      "cell_type": "markdown",
      "source": [
        "# Credits\n",
        "\n",
        "This is heavily influenced from https://github.com/pytorch/tutorials"
      ],
      "metadata": {
        "id": "bu1Wy6Xb81Sn"
      }
    },
    {
      "cell_type": "markdown",
      "source": [
        "# CIFAR-10\n",
        "\n",
        "In thins notebook you need to put what you have learned into practice, and create your own convolutional classifier for the CIFAR-10 dataset.\n",
        "\n",
        "It has the classes: ‘airplane’, ‘automobile’, ‘bird’, ‘cat’, ‘deer’, ‘dog’, ‘frog’, ‘horse’, ‘ship’, ‘truck’.\n",
        "The images in CIFAR-10 are of size 3x32x32, i.e. 3-channel color images of 32x32 pixels in size.\n",
        "\n",
        "![cifar10](https://github.com/DeepLearningDTU/02456-deep-learning-with-PyTorch/blob/master/static_files/cifar10.png?raw=1)\n",
        "\n",
        "\n",
        "In order to train a classifier the following steps needs to be performed:\n",
        "\n",
        "1. Load and normalizing the CIFAR10 training and test datasets using\n",
        "   ``torchvision``\n",
        "2. Define a Convolutional Neural Network\n",
        "3. Define a loss function\n",
        "4. Train the network on the training data\n",
        "5. Test the network on the test data\n",
        "\n",
        "We will help you along the way.\n",
        "We indicate the places you need to modify the code with `# Your code here!`.\n",
        "It is however a good idea to read the entire assignment before you begin coding!"
      ],
      "metadata": {
        "id": "oZW0gaQO81Sq"
      }
    },
    {
      "cell_type": "markdown",
      "source": [
        "## 1. Loading and normalizing CIFAR10\n",
        "\n",
        "Using ``torchvision``, it’s extremely easy to load CIFAR10."
      ],
      "metadata": {
        "id": "htyg7xxN81St"
      }
    },
    {
      "cell_type": "code",
      "execution_count": 162,
      "source": [
        "%matplotlib inline\r\n",
        "import matplotlib.pyplot as plt\r\n",
        "import numpy as np\r\n",
        "\r\n",
        "import torch\r\n",
        "import torchvision\r\n",
        "import torchvision.transforms as transforms\r\n",
        "\r\n",
        "if torch.cuda.is_available():\r\n",
        "  device = 'cuda'\r\n",
        "else:\r\n",
        "  device = 'cpu'\r\n",
        "print(f'device = {device}')"
      ],
      "outputs": [
        {
          "output_type": "stream",
          "name": "stdout",
          "text": [
            "device = cuda\n"
          ]
        }
      ],
      "metadata": {
        "id": "v3u2GIWr81Su",
        "colab": {
          "base_uri": "https://localhost:8080/"
        },
        "outputId": "4f50c6be-19ca-4db3-efeb-1a72867b7069"
      }
    },
    {
      "cell_type": "markdown",
      "source": [
        "The output of torchvision datasets are PILImage images of range [0, 1].\n",
        "We transform them to Tensors of normalized range [-1, 1]\n",
        "\n",
        "**NB** Modify the code below to only use a small part of the dataset if your computer is very slow."
      ],
      "metadata": {
        "id": "xx5SHRkm81S0"
      }
    },
    {
      "cell_type": "code",
      "execution_count": 136,
      "source": [
        "transform = transforms.Compose(\r\n",
        "    [transforms.ToTensor(),\r\n",
        "     transforms.Normalize((0.5, 0.5, 0.5),(0.5, 0.5, 0.5))\r\n",
        "    ]\r\n",
        ")\r\n",
        "\r\n",
        "# Load dataset\r\n",
        "trainset = torchvision.datasets.CIFAR10(root='./data', train=True,\r\n",
        "                                        download=True, transform=transform)\r\n",
        "testset = torchvision.datasets.CIFAR10(root='./data', train=False,\r\n",
        "                                       download=True, transform=transform)\r\n",
        "\r\n",
        "classes = ('plane', 'car', 'bird', 'cat', 'deer',\r\n",
        "           'dog', 'frog', 'horse', 'ship', 'truck')\r\n",
        "\r\n",
        "used_categories = range(len(classes))\r\n",
        "\r\n",
        "## USE CODE BELOW IF YOUR COMPUTER IS TOO SLOW\r\n",
        "reduce_dataset = True\r\n",
        "if reduce_dataset:\r\n",
        "    used_categories = (3, 5) # cats and dogs\r\n",
        "\r\n",
        "    classes = [classes[i] for i in used_categories]\r\n",
        "    new_train_data = []\r\n",
        "    new_train_labels = []\r\n",
        "\r\n",
        "    new_test_data = []\r\n",
        "    new_test_labels = []\r\n",
        "    for i, t in enumerate(used_categories):\r\n",
        "        new_train_data.append(trainset.data[np.where(np.array(trainset.targets) == t)])\r\n",
        "        new_train_labels += [i for _ in range(new_train_data[-1].shape[0])]\r\n",
        "\r\n",
        "        new_test_data.append(testset.data[np.where(np.array(testset.targets) == t)])\r\n",
        "        new_test_labels += [i for _ in range(new_test_data[-1].shape[0])]\r\n",
        "\r\n",
        "    new_train_data = np.concatenate(new_train_data, 0)\r\n",
        "    trainset.data = new_train_data\r\n",
        "    trainset.targets = new_train_labels\r\n",
        "\r\n",
        "    new_test_data = np.concatenate(new_test_data, 0)\r\n",
        "    testset.data = new_test_data\r\n",
        "    testset.targets = new_test_labels\r\n",
        "\r\n",
        "    \r\n",
        "trainloader = torch.utils.data.DataLoader(trainset, batch_size=4,\r\n",
        "                                          shuffle=True, num_workers=2)\r\n",
        "testloader = torch.utils.data.DataLoader(testset, batch_size=4,\r\n",
        "                                         shuffle=True, num_workers=2)\r\n",
        "train_data_iter = iter(trainloader)\r\n",
        "test_data_iter = iter(testloader)\r\n",
        "print('used classes:', classes)"
      ],
      "outputs": [
        {
          "output_type": "stream",
          "name": "stdout",
          "text": [
            "Files already downloaded and verified\n",
            "Files already downloaded and verified\n",
            "used classes: ['cat', 'dog']\n"
          ]
        }
      ],
      "metadata": {
        "colab": {
          "base_uri": "https://localhost:8080/"
        },
        "id": "QZeTujLC81S3",
        "outputId": "195fee74-269b-45f0-a5b6-fb3bbf3bfef4"
      }
    },
    {
      "cell_type": "code",
      "execution_count": 137,
      "source": [
        "print(\"# Training data\")\r\n",
        "print(\"Number of points:\", len(trainset))\r\n",
        "x, y = next(iter(trainloader))\r\n",
        "print(\"Batch dimension [B x C x H x W]:\", x.shape)\r\n",
        "print(\"Number of distinct labels:\", len(set(trainset.targets)))\r\n",
        "\r\n",
        "\r\n",
        "print(\"\\n# Test data\")\r\n",
        "print(\"Number of points:\", len(testset))\r\n",
        "x, y = next(iter(testloader))\r\n",
        "print(\"Batch dimension [B x C x H x W]:\", x.shape)\r\n",
        "print(\"Number of distinct labels:\", len(set(testset.targets)))"
      ],
      "outputs": [
        {
          "output_type": "stream",
          "name": "stdout",
          "text": [
            "# Training data\n",
            "Number of points: 10000\n",
            "Batch dimension [B x C x H x W]: torch.Size([4, 3, 32, 32])\n",
            "Number of distinct labels: 2\n",
            "\n",
            "# Test data\n",
            "Number of points: 2000\n",
            "Batch dimension [B x C x H x W]: torch.Size([4, 3, 32, 32])\n",
            "Number of distinct labels: 2\n"
          ]
        }
      ],
      "metadata": {
        "colab": {
          "base_uri": "https://localhost:8080/"
        },
        "id": "JDHkc52L81S9",
        "outputId": "3659caea-2da9-4425-a0a7-1540da5e81e9"
      }
    },
    {
      "cell_type": "markdown",
      "source": [
        "Let us show some of the training images, for fun.\n",
        "\n"
      ],
      "metadata": {
        "id": "xSA1h94681TB"
      }
    },
    {
      "cell_type": "code",
      "execution_count": 138,
      "source": [
        "# Run this cell multiple time to see more samples\r\n",
        "\r\n",
        "def imshow(img):\r\n",
        "    \"\"\" show an image \"\"\"\r\n",
        "    img = img / 2 + 0.5 # unnormalize\r\n",
        "    npimg = img.numpy()\r\n",
        "    plt.imshow(np.transpose(npimg, (1, 2, 0)))\r\n",
        "\r\n",
        "\r\n",
        "# get some random training images\r\n",
        "images, labels = train_data_iter.next()\r\n",
        "\r\n",
        "# show images\r\n",
        "imshow(torchvision.utils.make_grid(images))\r\n",
        "\r\n",
        "# print labels\r\n",
        "print('---------'.join('%5s' % classes[labels[j]] for j in range(4)))"
      ],
      "outputs": [
        {
          "output_type": "stream",
          "name": "stdout",
          "text": [
            "  cat---------  cat---------  cat---------  dog\n"
          ]
        },
        {
          "output_type": "display_data",
          "data": {
            "image/png": "[encoded data removed]",
            "text/plain": [
              "<Figure size 432x288 with 1 Axes>"
            ]
          },
          "metadata": {
            "needs_background": "light"
          }
        }
      ],
      "metadata": {
        "colab": {
          "base_uri": "https://localhost:8080/",
          "height": 156
        },
        "id": "njJy0klP81TD",
        "outputId": "d3c5e148-47f5-4261-979d-2a74aedc9d58"
      }
    },
    {
      "cell_type": "markdown",
      "source": [
        "## 2. Define a Convolutional Neural Network\n",
        "\n",
        "**Assignment 1:** Define a convolutional neural network. \n",
        "You may use the code from previous notebooks.\n",
        "We suggest that you start with a small network, and make sure that everything is working.\n",
        "Once you can train successfully come back and improve the architecture"
      ],
      "metadata": {
        "id": "Wt3BVFMF81TI"
      }
    },
    {
      "cell_type": "code",
      "execution_count": 140,
      "source": [
        "from torch.autograd import Variable\r\n",
        "import torch.nn as nn\r\n",
        "import torch.nn.functional as F\r\n"
      ],
      "outputs": [],
      "metadata": {
        "id": "gx1VpW002gDX"
      }
    },
    {
      "cell_type": "code",
      "execution_count": 184,
      "source": [
        "class Net(nn.Module):\r\n",
        "    def __init__(self):\r\n",
        "        super().__init__()\r\n",
        "        \r\n",
        "        # ConvNet\r\n",
        "        self.conv1 = nn.Conv2d(in_channels=3, out_channels=16, kernel_size=5)\r\n",
        "        self.pool = nn.MaxPool2d(kernel_size=2, stride=2)\r\n",
        "        self.conv2 = nn.Conv2d(in_channels=16, out_channels=16, kernel_size=5)\r\n",
        "\r\n",
        "        # Feedforward\r\n",
        "        self.fc1 = nn.Linear(16 * 5 * 5, 120)\r\n",
        "        self.fc2 = nn.Linear(120, 84)\r\n",
        "        self.fc3 = nn.Linear(84, 10)\r\n",
        "\r\n",
        "    def forward(self, x):\r\n",
        "        x = self.pool(F.relu(self.conv1(x)))\r\n",
        "        x = self.pool(F.relu(self.conv2(x)))\r\n",
        "        x = torch.flatten(x, 1)           # flatten all dimensions except batch\r\n",
        "        x = F.relu(self.fc1(x))\r\n",
        "        x = F.relu(self.fc2(x))\r\n",
        "        x = self.fc3(x)\r\n",
        "        return x\r\n",
        "\r\n",
        "net = Net()\r\n",
        "\r\n",
        "if torch.cuda.is_available():\r\n",
        "    print('##converting network to cuda-enabled')\r\n",
        "    net.to(device)\r\n",
        "print(net)\r\n",
        "\r\n"
      ],
      "outputs": [
        {
          "output_type": "stream",
          "name": "stdout",
          "text": [
            "##converting network to cuda-enabled\n",
            "Net(\n",
            "  (conv1): Conv2d(3, 16, kernel_size=(5, 5), stride=(1, 1))\n",
            "  (pool): MaxPool2d(kernel_size=2, stride=2, padding=0, dilation=1, ceil_mode=False)\n",
            "  (conv2): Conv2d(16, 16, kernel_size=(5, 5), stride=(1, 1))\n",
            "  (fc1): Linear(in_features=400, out_features=120, bias=True)\n",
            "  (fc2): Linear(in_features=120, out_features=84, bias=True)\n",
            "  (fc3): Linear(in_features=84, out_features=10, bias=True)\n",
            ")\n"
          ]
        }
      ],
      "metadata": {
        "colab": {
          "base_uri": "https://localhost:8080/"
        },
        "id": "nBrdDIUXBjcg",
        "outputId": "e8f53a9f-d056-4e60-e55f-b63d88942d4c"
      }
    },
    {
      "cell_type": "code",
      "execution_count": 185,
      "source": [
        "# test forward pass on dummy data\r\n",
        "x = np.random.normal(0,1, ([4, 3, 32, 32])).astype('float32')\r\n",
        "x = Variable(torch.from_numpy(x))\r\n",
        "if torch.cuda.is_available():\r\n",
        "    print('x --> cuda')\r\n",
        "    x = x.to(device)\r\n",
        "    print('x.shape', x.shape)\r\n",
        "    print(net)\r\n",
        "output = net(x)\r\n",
        "print([x.size() for x in output])"
      ],
      "outputs": [
        {
          "output_type": "stream",
          "name": "stdout",
          "text": [
            "x --> cuda\n",
            "x.shape torch.Size([4, 3, 32, 32])\n",
            "Net(\n",
            "  (conv1): Conv2d(3, 16, kernel_size=(5, 5), stride=(1, 1))\n",
            "  (pool): MaxPool2d(kernel_size=2, stride=2, padding=0, dilation=1, ceil_mode=False)\n",
            "  (conv2): Conv2d(16, 16, kernel_size=(5, 5), stride=(1, 1))\n",
            "  (fc1): Linear(in_features=400, out_features=120, bias=True)\n",
            "  (fc2): Linear(in_features=120, out_features=84, bias=True)\n",
            "  (fc3): Linear(in_features=84, out_features=10, bias=True)\n",
            ")\n",
            "[torch.Size([10]), torch.Size([10]), torch.Size([10]), torch.Size([10])]\n"
          ]
        }
      ],
      "metadata": {
        "colab": {
          "base_uri": "https://localhost:8080/"
        },
        "id": "MMDU5pP3MKgg",
        "outputId": "f6a3df95-712c-4768-ebd7-229ca6de1c00"
      }
    },
    {
      "cell_type": "markdown",
      "source": [
        "## 3. Define a Loss function and optimizer\n",
        "\n",
        "**Assignment 2:** Implement the criterion and optimizer. \n",
        "We suggest Classification Cross-Entropy loss and SGD with momentum.\n",
        "You might need to experiment a bit with the learning rate."
      ],
      "metadata": {
        "id": "7-IUg3sq81TQ"
      }
    },
    {
      "cell_type": "code",
      "execution_count": 186,
      "source": [
        "import torch.optim as optim\r\n",
        "\r\n",
        "criterion = nn.CrossEntropyLoss()\r\n",
        "optimizer = optim.SGD(net.parameters(), lr=0.01, momentum = 0.9)"
      ],
      "outputs": [],
      "metadata": {
        "id": "48AX85QP81TR"
      }
    },
    {
      "cell_type": "markdown",
      "source": [
        "## 4. Train the network\n",
        "\n",
        "**Assignment 3:** Finish the training loop below. \n",
        "Start by using a small number of epochs (e.g. 3).\n",
        "Even with a low number of epochs you should be able to see results that are better than chance.\n",
        "When everything is working increase the number of epochs to find out how good your network really is."
      ],
      "metadata": {
        "id": "-WneIN7C81TV"
      }
    },
    {
      "cell_type": "code",
      "execution_count": 187,
      "source": [
        "num_epoch = 15  # Your code here!\r\n",
        "\r\n",
        "for epoch in range(num_epoch):  # loop over the dataset multiple times\r\n",
        "\r\n",
        "    running_loss = 0.0\r\n",
        "    net.train()\r\n",
        "    for i, data in enumerate(trainloader, 0):\r\n",
        "        # get the inputs\r\n",
        "        inputs, labels = data\r\n",
        "\r\n",
        "        # wrap them in Variable\r\n",
        "        inputs, labels = Variable(inputs.to(device)), Variable(labels.to(device))\r\n",
        "\r\n",
        "        # zero the parameter gradients\r\n",
        "        # Your code here!\r\n",
        "        optimizer.zero_grad()\r\n",
        "\r\n",
        "        # forward + backward + optimize\r\n",
        "        # Your code here!\r\n",
        "\r\n",
        "        # Forward\r\n",
        "        output = net(inputs)\r\n",
        "        loss = criterion(output, labels)        \r\n",
        "        \r\n",
        "        # backward\r\n",
        "        loss.backward()\r\n",
        "\r\n",
        "        # optimize\r\n",
        "        optimizer.step()\r\n",
        "\r\n",
        "        # print statistics\r\n",
        "        #running_loss += loss.data[0]\r\n",
        "        running_loss += loss.item() \r\n",
        "        if i % 1000 == 999:    # print every 1000 mini-batches\r\n",
        "            print('[%d, %5d] loss: %.3f' %\r\n",
        "                  (epoch + 1, i + 1, running_loss / 1000))\r\n",
        "            running_loss = 0.0\r\n",
        "\r\n",
        "print('Finished Training')"
      ],
      "outputs": [
        {
          "output_type": "stream",
          "name": "stdout",
          "text": [
            "[1,  1000] loss: 0.754\n",
            "[1,  2000] loss: 0.669\n",
            "[2,  1000] loss: 0.658\n",
            "[2,  2000] loss: 0.636\n",
            "[3,  1000] loss: 0.626\n",
            "[3,  2000] loss: 0.619\n",
            "[4,  1000] loss: 0.599\n",
            "[4,  2000] loss: 0.590\n",
            "[5,  1000] loss: 0.575\n",
            "[5,  2000] loss: 0.568\n",
            "[6,  1000] loss: 0.553\n",
            "[6,  2000] loss: 0.555\n",
            "[7,  1000] loss: 0.560\n",
            "[7,  2000] loss: 0.541\n",
            "[8,  1000] loss: 0.537\n",
            "[8,  2000] loss: 0.522\n",
            "[9,  1000] loss: 0.507\n",
            "[9,  2000] loss: 0.525\n",
            "[10,  1000] loss: 0.510\n",
            "[10,  2000] loss: 0.535\n",
            "[11,  1000] loss: 0.502\n",
            "[11,  2000] loss: 0.537\n",
            "[12,  1000] loss: 0.498\n",
            "[12,  2000] loss: 0.536\n",
            "[13,  1000] loss: 0.518\n",
            "[13,  2000] loss: 0.538\n",
            "[14,  1000] loss: 0.509\n",
            "[14,  2000] loss: 0.521\n",
            "[15,  1000] loss: 0.528\n",
            "[15,  2000] loss: 0.581\n",
            "Finished Training\n"
          ]
        }
      ],
      "metadata": {
        "id": "NkUanRRb81TW",
        "colab": {
          "base_uri": "https://localhost:8080/"
        },
        "outputId": "c64eb735-3171-4a30-e72b-7263bf206446"
      }
    },
    {
      "cell_type": "markdown",
      "source": [
        "## 5. Test the network on the test data\n",
        "\n",
        "Now we need to check if the network has learnt anything at all.\n",
        "We will check this by predicting the class label that the neural network outputs, and checking it against the ground truth.\n",
        "If the prediction is correct, we add the sample to the list of correct predictions.\n",
        "\n",
        "Okay, first step. Let us display an image from the test set to get familiar."
      ],
      "metadata": {
        "id": "0qAsbC8I81Ta"
      }
    },
    {
      "cell_type": "code",
      "execution_count": 188,
      "source": [
        "images, labels = test_data_iter.next()\r\n",
        "\r\n",
        "# print images\r\n",
        "imshow(torchvision.utils.make_grid(images))\r\n",
        "plt.show()\r\n",
        "\r\n",
        "print('GroundTruth:  ', ' '.join('%5s' % classes[labels[j]] for j in range(4)))\r\n",
        "\r\n",
        "outputs = net(images.to(device))\r\n",
        "_, predicted = torch.max(outputs.data, 1)\r\n",
        "print('Predicted:    ', ' '.join('%5s' % classes[predicted[j]] for j in range(4)))"
      ],
      "outputs": [
        {
          "output_type": "display_data",
          "data": {
            "image/png": "[encoded data removed]",
            "text/plain": [
              "<Figure size 432x288 with 1 Axes>"
            ]
          },
          "metadata": {
            "needs_background": "light"
          }
        },
        {
          "output_type": "stream",
          "name": "stdout",
          "text": [
            "GroundTruth:     cat   cat   cat   cat\n",
            "Predicted:       cat   dog   cat   dog\n"
          ]
        }
      ],
      "metadata": {
        "id": "7LT0RoAC81Tc",
        "colab": {
          "base_uri": "https://localhost:8080/",
          "height": 174
        },
        "outputId": "cc103bdd-8948-454c-a3b1-1b10a7af025e"
      }
    },
    {
      "cell_type": "markdown",
      "source": [
        "Let us look at how the network performs on the whole dataset."
      ],
      "metadata": {
        "id": "ISA6LJJO81Tg"
      }
    },
    {
      "cell_type": "code",
      "execution_count": 189,
      "source": [
        "correct = 0\r\n",
        "total = 0\r\n",
        "\r\n",
        "for data in testloader:\r\n",
        "    images, labels = data\r\n",
        "    outputs = net(Variable(images.to(device)))\r\n",
        "    _, predicted = torch.max(outputs.data, 1)\r\n",
        "    total += labels.size(0)\r\n",
        "    correct += (predicted == labels.to(device)).sum()\r\n",
        "\r\n",
        "print('Accuracy of the network on the {} test images: {:4.2f} %'.format(\r\n",
        "    testset.data.shape[0], 100 * correct.true_divide(total)))"
      ],
      "outputs": [
        {
          "output_type": "stream",
          "name": "stdout",
          "text": [
            "Accuracy of the network on the 2000 test images: 65.25 %\n"
          ]
        }
      ],
      "metadata": {
        "id": "Smv6_BwF81Ti",
        "colab": {
          "base_uri": "https://localhost:8080/"
        },
        "outputId": "469558d4-1bb7-472d-ff94-96f5a7ee35c3"
      }
    },
    {
      "cell_type": "markdown",
      "source": [
        "Hopefully the network is better than chance, which is $\\frac{1}{\\text{number of classes}}$ accuracy (randomly picking\n",
        "a class).\n",
        "\n",
        "\n",
        "We can also examine which class the network found the most difficult (makes more sense if you have many clases):"
      ],
      "metadata": {
        "id": "QMZRvhaW81Tl"
      }
    },
    {
      "cell_type": "code",
      "execution_count": 190,
      "source": [
        "class_total = list(0. for i in range(len(classes)))\r\n",
        "class_correct = list(0. for i in range(len(classes)))\r\n",
        "\r\n",
        "for data in testloader:\r\n",
        "    images, labels = data\r\n",
        "    \r\n",
        "    outputs = net(Variable(images.to(device)))\r\n",
        "    _, predicted = torch.max(outputs.data, 1)\r\n",
        "    c = (predicted == labels.to(device)).squeeze()\r\n",
        "    \r\n",
        "    for i in range(len(c)):\r\n",
        "        label = labels[i]\r\n",
        "        class_correct[label] += c[i] #.numpy()\r\n",
        "        class_total[label] += 1\r\n",
        "\r\n",
        "for i in range(len(classes)):\r\n",
        "    print('Accuracy of {:5s} : {:5.2f} %'.format(\r\n",
        "        classes[i], 100 * class_correct[i] / class_total[i]))"
      ],
      "outputs": [
        {
          "output_type": "stream",
          "name": "stdout",
          "text": [
            "Accuracy of cat   : 63.10 %\n",
            "Accuracy of dog   : 67.40 %\n"
          ]
        }
      ],
      "metadata": {
        "id": "WqVTQgKq81Tl",
        "colab": {
          "base_uri": "https://localhost:8080/"
        },
        "outputId": "c2655101-d62f-4ecc-e295-3c9d0fd16204"
      }
    },
    {
      "cell_type": "markdown",
      "source": [
        "**Assignment 4:** \n",
        "1. Go back and improve performance of the network. \n",
        " * If you are using all 10 classes you should get a test accuracy above 55%, but see how much further you can get it!\n",
        " * If you are using only 2 classes (e.g. cat and dog) you should get a test accuracy above 60%, but see how much further you can get it!\n",
        "\n",
        "2. Briefly describe what you did and any experiments you did along the way as well as what results you obtained.\n",
        "Did anything surprise you during the exercise?\n",
        "\n",
        "3. Write down key lessons/insights you got (if any) during this exercise.\n",
        "\n",
        "**Answer:**"
      ],
      "metadata": {
        "id": "ocnQOBAl81Tn"
      }
    },
    {
      "cell_type": "markdown",
      "source": [
        "# Training on GPU\r\n",
        "\r\n",
        "**Optional Assignment:**\r\n",
        "If you have a GPU we suggest that you try and rewrite the code above to run on the GPU\r\n",
        "___\r\n",
        "\r\n",
        "Just like how you transfer a Tensor on to the GPU, you transfer the neural net onto the GPU.\r\n",
        "This will recursively go over all modules and convert their parameters and buffers to CUDA tensors:\r\n",
        "\r\n",
        "```\r\n",
        "    net.gpu()\r\n",
        "```\r\n",
        "\r\n",
        "Remember that you will have to send the inputs and targets at every step to the GPU too:\r\n",
        "\r\n",
        "```\r\n",
        "    inputs, labels = Variable(inputs.gpu()), Variable(labels.gpu())\r\n",
        "```\r\n",
        "\r\n",
        "Why dont I notice MASSIVE speedup compared to CPU? \r\n",
        "Because your network is realllly small.\r\n",
        "\r\n",
        "**Exercise:** Try increasing the width of your network (argument 2 of\r\n",
        "the first ``nn.Conv2d``, and argument 1 of the second ``nn.Conv2d`` –\r\n",
        "they need to be the same number), see what kind of speedup you get.\r\n",
        "\r\n",
        "**Goals achieved**:\r\n",
        "\r\n",
        "- Understanding PyTorch's Tensor library and neural networks at a high level.\r\n",
        "- Train a small neural network to classify images\r\n",
        "\r\n",
        "## Setting up GPU in Colab\r\n",
        "\r\n",
        "In Colab, you will get 12 hours of execution time but the session will be disconnected if you are idle for more than 60 minutes. It means that for every 12 hours Disk, RAM, CPU Cache and the Data that is on our allocated virtual machine will get erased.\r\n",
        "\r\n",
        "To enable GPU hardware accelerator, just go to **Runtime -> Change runtime type -> Hardware accelerator -> GPU**"
      ],
      "metadata": {
        "id": "8Nzefavy81To"
      }
    },
    {
      "cell_type": "markdown",
      "source": [
        "# Michael Nielsen book exercise of own choice\n",
        "\n",
        "**Assignment 5:** Pick an exercise of own choice from [Michael Nielsens book](http://neuralnetworksanddeeplearning.com/)\n",
        "\n",
        "**Answer:**\n",
        "\n",
        "\n",
        "\n"
      ],
      "metadata": {
        "id": "b8mEIylU81Tp"
      }
    },
    {
      "cell_type": "markdown",
      "source": [
        "Chapter 3 [Exercise](http://neuralnetworksanddeeplearning.com/chap3.html#exercise_35813):\r\n",
        "\r\n",
        "Verify that $$ \\sigma ' (z) = \\sigma(z)(1 - \\sigma(z)) $$\r\n",
        "\r\n",
        "Recall that $$ \\sigma(z) = \\frac{1}{1 + e^{-z}} = (1 + e^{-z})^{-1} $$\r\n",
        "\r\n",
        "Calculate the derivative as:\r\n",
        "$$ \r\n",
        "\\begin{align}\r\n",
        "\\sigma ' (z) &=  -(1 + e^{-z})^{-2} (-e^{-z})   \\\\\r\n",
        "            &= (1 + e^{-z})^{-2} e^{-z}         \\\\\r\n",
        "            &= \\frac{e^{-z}}{1 + e^{-z}}        \\\\\r\n",
        "            &= \\frac{1}{1 + e^{-z}}  \\frac{e^{-z}}{1 + e^{-z}}\r\n",
        "\\end{align}\r\n",
        "$$\r\n",
        "Substitute in for $\\sigma(z)$ and add and subtract 1:\r\n",
        "$$ \r\n",
        "\\begin{align}\r\n",
        "\\sigma ' (z) &= \\sigma(z) \\frac{e^{-z}+1-1}{1 + e^{-z}}     \\\\\r\n",
        "             &= \\sigma(z) \\left(\\frac{1 + e^{-z}}{1 + e^{-z}}- \\frac{1}{1 + e^{-z}} \\right)    \\\\\r\n",
        "             &= \\sigma(z) \\left(1- \\frac{1}{1 + e^{-z}} \\right)    \\\\\r\n",
        "             &= \\sigma(z) \\left( 1-\\sigma(z) \\right)\r\n",
        "\\end{align}\r\n",
        "$$\r\n",
        "\r\n",
        "Q.E.D."
      ],
      "metadata": {}
    }
  ]
}