{
  "nbformat": 4,
  "nbformat_minor": 0,
  "metadata": {
    "colab": {
      "name": "5_1_EXE_Recurrent_Neural_Networks_Nanograd.ipynb",
      "provenance": [],
      "collapsed_sections": [
        "bdA4LPsFiACe",
        "t-rfgDfZeMQ6",
        "M93ORx95k2ix"
      ]
    },
    "kernelspec": {
      "display_name": "Python 3",
      "language": "python",
      "name": "python3"
    },
    "language_info": {
      "codemirror_mode": {
        "name": "ipython",
        "version": 3
      },
      "file_extension": ".py",
      "mimetype": "text/x-python",
      "name": "python",
      "nbconvert_exporter": "python",
      "pygments_lexer": "ipython3",
      "version": "3.8.5"
    }
  },
  "cells": [
    {
      "cell_type": "markdown",
      "metadata": {
        "id": "y-CptVs7iACc"
      },
      "source": [
        "# Week 5 - Recurrent Neural Networks\n",
        "\n",
        "In this lab, we will introduce different ways of learning from sequential data.\n",
        "\n",
        "As a recurring example, we will train neural networks to do language modelling, i.e. predict the next token in a sentence. In the context of natural language processing a token could be a character or a word, but mind you that the concepts introduced here apply to all kinds of sequential data, such as e.g. protein sequences, weather measurements, audio signals, or videos, just to name a few.\n",
        "\n",
        "To really get a grasp of what is going on inside a recurrent neural network (RNN), we will carry out a substantial part of this exercise in Nanograd rather than PyTorch. \n",
        "\n",
        "We start off with a simple toy problem, build an RNN using Nanograd, train it, and see for ourselves that it really works. Once we're convinced, you will implement the Long Short-Term Memory (LSTM) cell, also in Nanograd. \n",
        "\n",
        "This is *not* simple but with the DenseLayer class we already have, it is doable. Having done it yourself will help you understand what happens under the hood of the PyTorch code we will use throughout the course.\n",
        "\n",
        "To summarize, in this notebook we will show you:\n",
        "* How to represent sequences of categorical variables\n",
        "* How to build and train an RNN in Nanograd\n",
        "* How to build and train an LSTM network in Nanograd\n",
        "* How to build and train an LSTM network in PyTorch\n",
        "\n",
        "\n",
        "[Numpy version of the Notebook (previous version)](https://github.com/DeepLearningDTU/02456-deep-learning-with-PyTorch/blob/master/5_Recurrent/OLD-5.1-Numpy-Recurrent-Neural-Networks.ipynb)"
      ]
    },
    {
      "cell_type": "markdown",
      "metadata": {
        "id": "XapO8SLwiACd"
      },
      "source": [
        "## Representing tokens or text\n",
        "\n",
        "In previous labs we mainly considered data $x \\in \\mathbb{R}^d$, where $d$ is the feature space dimension.\n",
        "With time sequences our data can be represented as $x \\in \\mathbb{R}^{t \\, \\times \\, d}$, where $t$ is the sequence length. \n",
        "This emphasises sequence dependence and that the samples along the sequence are not independent and identically distributed (i.i.d.).\n",
        "\n",
        "With RNNs, we can model both many-to-one functions: $\\mathbb{R}^{t \\, \\times \\, d} \\rightarrow \\mathbb{R}^c$ and many-to-many functions: $\\mathbb{R}^{t \\, \\times \\, d} \\rightarrow \\mathbb{R}^{t \\, \\times \\, c}$, where $c$ is the amount of classes/output dimensions.\n",
        "\n",
        "There are several ways to represent sequences. With text, the challenge is how to represent a word as a feature vector in $d$ dimensions, as we are required to represent text with decimal numbers in order to apply neural networks to it.\n",
        "\n",
        "In this exercise we will use a simple one-hot encoding but for categorical variables that can take on many values (e.g. words in the English language) this may be infeasible. For such scenarios, you can project the encodings into a smaller space by use of embeddings. If you want to learn more about tokens, encodings and embeddings than what is covered in this exercise, we highly recommend [this lecture](https://www.youtube.com/watch?v=kEMJRjEdNzM&list=PLoROMvodv4rOhcuXMZkNm7j3fVwBBY42z)."
      ]
    },
    {
      "cell_type": "markdown",
      "metadata": {
        "id": "bdA4LPsFiACe"
      },
      "source": [
        "### One-hot encoding over vocabulary\n",
        "\n",
        "One way to represent a fixed amount of words is by making a one-hot encoded vector, which consists of 0s in all cells with the exception of a single 1 in a cell used uniquely to identify each word.\n",
        "\n",
        "| vocabulary    | one-hot encoded vector   |\n",
        "| ------------- |--------------------------|\n",
        "| Paris         | $= [1, 0, 0, \\ldots, 0]$ |\n",
        "| Rome          | $= [0, 1, 0, \\ldots, 0]$ |\n",
        "| Copenhagen    | $= [0, 0, 1, \\ldots, 0]$ |\n",
        "\n",
        "Representing a large vocabulary with one-hot encodings often becomes inefficient because of the size of each sparse vector.\n",
        "To overcome this challenge it is common practice to truncate the vocabulary to contain the $k$ most used words and represent the rest with a special symbol, $\\mathtt{UNK}$, to define unknown/unimportant words.\n",
        "This often causes entities such as names to be represented with $\\mathtt{UNK}$ because they are rare.\n",
        "\n",
        "Consider the following text\n",
        "> I love the corny jokes in Spielberg's new movie.\n",
        "\n",
        "where an example result would be similar to\n",
        "> I love the corny jokes in $\\mathtt{UNK}$'s new movie."
      ]
    },
    {
      "cell_type": "markdown",
      "metadata": {
        "id": "KNmyPw7zk2gY"
      },
      "source": [
        "## Generating a dataset"
      ]
    },
    {
      "cell_type": "markdown",
      "metadata": {
        "id": "M9IEA4t2k2gb"
      },
      "source": [
        "For this exercise we will create a simple dataset that we can learn from. We generate sequences of the form:\n",
        "\n",
        "`a b EOS`,\n",
        "\n",
        "`a a b b EOS`,\n",
        "\n",
        "`a a a a a b b b b b EOS`\n",
        "\n",
        "where `EOS` is a special character denoting the end of a sequence. The task is to predict the next token $t_n$, i.e. `a`, `b`, `EOS` or the unknown token `UNK` given a sequence of tokens $\\{ t_{1}, t_{2}, \\dots , t_{n-1}\\}$, and we are to process sequences in a sequential manner. As such, the network will need to learn that e.g. 5 `b`s and an `EOS` token will follow 5 `a`s."
      ]
    },
    {
      "cell_type": "code",
      "metadata": {
        "id": "dcoN-kb7k2gc",
        "colab": {
          "base_uri": "https://localhost:8080/"
        },
        "outputId": "d534978d-ecf8-4040-bbfd-168ec0ce99aa"
      },
      "source": [
        "import numpy as np\n",
        "\n",
        "# Set seed such that we always get the same dataset\n",
        "# (this is a good idea in general)\n",
        "np.random.seed(42)\n",
        "\n",
        "def generate_dataset(num_sequences=2**5):\n",
        "    \"\"\"\n",
        "    Generates a number of sequences as our dataset.\n",
        "    \n",
        "    Args:\n",
        "     `num_sequences`: the number of sequences to be generated.\n",
        "     \n",
        "    Returns a list of sequences.\n",
        "    \"\"\"\n",
        "    samples = []\n",
        "    \n",
        "    for _ in range(num_sequences): \n",
        "        num_tokens = np.random.randint(1, 4)\n",
        "        sample = ['a'] * num_tokens + ['b'] * num_tokens + ['EOS']\n",
        "        samples.append(sample)\n",
        "        \n",
        "    return samples\n",
        "\n",
        "\n",
        "sequences = generate_dataset()\n",
        "\n",
        "print('A single sample from the generated dataset:')\n",
        "print(sequences[0])"
      ],
      "execution_count": 1,
      "outputs": [
        {
          "output_type": "stream",
          "name": "stdout",
          "text": [
            "A single sample from the generated dataset:\n",
            "['a', 'a', 'a', 'b', 'b', 'b', 'EOS']\n"
          ]
        }
      ]
    },
    {
      "cell_type": "markdown",
      "metadata": {
        "id": "YMLd3Gzak2gp"
      },
      "source": [
        "## Representing tokens as indices"
      ]
    },
    {
      "cell_type": "markdown",
      "metadata": {
        "id": "S9LSqaJSk2gp"
      },
      "source": [
        "To build a one-hot encoding, we need to assign each possible word in our vocabulary an index. We do that by creating two dictionaries: one that allows us to go from a given word to its corresponding index in our vocabulary, and one for the reverse direction. Let's call them `word_to_idx` and `idx_to_word`. The keyword `vocab_size` specifies the maximum size of our vocabulary. If we try to access a word that does not exist in our vocabulary, it is automatically replaced by the `UNK` token or its corresponding index."
      ]
    },
    {
      "cell_type": "markdown",
      "metadata": {
        "id": "sNY1OOS_k2gy"
      },
      "source": [
        "## Exercise a) Sequence to dictionary function \n",
        "\n",
        "Complete the sequences_to_dicts function below. You will need to fill the word_to_idx and idx_to_word dictionaries so that we can go back and forth between the two representations."
      ]
    },
    {
      "cell_type": "code",
      "metadata": {
        "id": "Smdo70UMk2gr",
        "colab": {
          "base_uri": "https://localhost:8080/"
        },
        "outputId": "1376adcd-0603-4a8d-e627-0ee92bc6d066"
      },
      "source": [
        "from collections import defaultdict\n",
        "\n",
        "def sequences_to_dicts(sequences):\n",
        "    \"\"\"\n",
        "    Creates word_to_idx and idx_to_word dictionaries for a list of sequences.\n",
        "    \"\"\"\n",
        "    # A bit of Python-magic to flatten a nested list\n",
        "    flatten = lambda l: [item for sublist in l for item in sublist]\n",
        "    \n",
        "    # Flatten the dataset\n",
        "    all_words = flatten(sequences)\n",
        "    \n",
        "    # Count number of word occurences\n",
        "    word_count = defaultdict(int)\n",
        "    for word in flatten(sequences):\n",
        "        word_count[word] += 1\n",
        "\n",
        "    # Sort by frequency\n",
        "    word_count = sorted(list(word_count.items()), key=lambda l: -l[1])\n",
        "\n",
        "    # Create a list of all unique words\n",
        "    unique_words = [item[0] for item in word_count]\n",
        "    \n",
        "    # Add UNK token to list of words\n",
        "    unique_words.append('UNK')\n",
        "\n",
        "    # Count number of sequences and number of unique words\n",
        "    num_sentences, vocab_size = len(sequences), len(unique_words)\n",
        "\n",
        "    # Create dictionaries so that we can go from word to index and back\n",
        "    # If a word is not in our vocabulary, we assign it to token 'UNK'\n",
        "    word_to_idx = defaultdict(lambda: vocab_size-1)\n",
        "    idx_to_word = defaultdict(lambda: 'UNK')\n",
        "\n",
        "    # Fill dictionaries\n",
        "    for idx, word in enumerate(unique_words):\n",
        "        # YOUR CODE HERE!\n",
        "        word_to_idx[word] = idx\n",
        "        idx_to_word[idx] = word\n",
        "\n",
        "    return word_to_idx, idx_to_word, num_sentences, vocab_size\n",
        "\n",
        "\n",
        "word_to_idx, idx_to_word, num_sequences, vocab_size = sequences_to_dicts(sequences)\n",
        "\n",
        "print(f'We have {num_sequences} sentences and {len(word_to_idx)} unique tokens in our dataset (including UNK).\\n')\n",
        "print('The index of \\'b\\' is', word_to_idx['b'])\n",
        "print(f'The word corresponding to index 1 is \\'{idx_to_word[1]}\\'')\n",
        "\n",
        "assert idx_to_word[word_to_idx['b']] == 'b', \\\n",
        "    'Consistency error: something went wrong in the conversion.'"
      ],
      "execution_count": 2,
      "outputs": [
        {
          "output_type": "stream",
          "name": "stdout",
          "text": [
            "We have 32 sentences and 4 unique tokens in our dataset (including UNK).\n",
            "\n",
            "The index of 'b' is 1\n",
            "The word corresponding to index 1 is 'b'\n"
          ]
        }
      ]
    },
    {
      "cell_type": "markdown",
      "metadata": {
        "id": "cGSoDRgHk2g1"
      },
      "source": [
        "## Partitioning the dataset"
      ]
    },
    {
      "cell_type": "markdown",
      "metadata": {
        "id": "UMTn1iLIk2g1"
      },
      "source": [
        "To build our dataset, we need to create inputs and targets for each sequences and partition sentences it into training, validation and test sets. 80%, 10% and 10% is a common distribution, but mind you that this largely depends on the size of the dataset. Since we are doing next-word predictions, our target sequence is simply the input sequence shifted by one word.\n",
        "\n",
        "We can use PyTorch's `Dataset` class to build a simple dataset where we can easily retrieve (inputs, targets) pairs for each of our sequences."
      ]
    },
    {
      "cell_type": "code",
      "metadata": {
        "id": "9dW7MrPnk2g3",
        "colab": {
          "base_uri": "https://localhost:8080/"
        },
        "outputId": "2a1091d7-a8b6-4a15-9f31-329320f691b2"
      },
      "source": [
        "from torch.utils import data\n",
        "\n",
        "class Dataset(data.Dataset):\n",
        "    def __init__(self, inputs, targets):\n",
        "        self.inputs = inputs\n",
        "        self.targets = targets\n",
        "\n",
        "    def __len__(self):\n",
        "        # Return the size of the dataset\n",
        "        return len(self.targets)\n",
        "\n",
        "    def __getitem__(self, index):\n",
        "        # Retrieve inputs and targets at the given index\n",
        "        X = self.inputs[index]\n",
        "        y = self.targets[index]\n",
        "\n",
        "        return X, y\n",
        "\n",
        "    \n",
        "def create_datasets(sequences, dataset_class, p_train=0.8, p_val=0.1, p_test=0.1):\n",
        "    # Define partition sizes\n",
        "    num_train = int(len(sequences)*p_train)\n",
        "    num_val = int(len(sequences)*p_val)\n",
        "    num_test = int(len(sequences)*p_test)\n",
        "\n",
        "    # Split sequences into partitions\n",
        "    sequences_train = sequences[:num_train]\n",
        "    sequences_val = sequences[num_train:num_train+num_val]\n",
        "    sequences_test = sequences[-num_test:]\n",
        "\n",
        "    def get_inputs_targets_from_sequences(sequences):\n",
        "        # Define empty lists\n",
        "        inputs, targets = [], []\n",
        "        \n",
        "        # Append inputs and targets s.t. both lists contain L-1 words of a sentence of length L\n",
        "        # but targets are shifted right by one so that we can predict the next word\n",
        "        for sequence in sequences:\n",
        "            inputs.append(sequence[:-1])\n",
        "            targets.append(sequence[1:])\n",
        "            \n",
        "        return inputs, targets\n",
        "\n",
        "    # Get inputs and targets for each partition\n",
        "    inputs_train, targets_train = get_inputs_targets_from_sequences(sequences_train)\n",
        "    inputs_val, targets_val = get_inputs_targets_from_sequences(sequences_val)\n",
        "    inputs_test, targets_test = get_inputs_targets_from_sequences(sequences_test)\n",
        "\n",
        "    # Create datasets\n",
        "    training_set = dataset_class(inputs_train, targets_train)\n",
        "    validation_set = dataset_class(inputs_val, targets_val)\n",
        "    test_set = dataset_class(inputs_test, targets_test)\n",
        "\n",
        "    return training_set, validation_set, test_set\n",
        "    \n",
        "\n",
        "training_set, validation_set, test_set = create_datasets(sequences, Dataset)\n",
        "\n",
        "print(f'We have {len(training_set)} samples in the training set.')\n",
        "print(f'We have {len(validation_set)} samples in the validation set.')\n",
        "print(f'We have {len(test_set)} samples in the test set.')"
      ],
      "execution_count": 287,
      "outputs": [
        {
          "output_type": "stream",
          "name": "stdout",
          "text": [
            "We have 25 samples in the training set.\n",
            "We have 3 samples in the validation set.\n",
            "We have 3 samples in the test set.\n"
          ]
        }
      ]
    },
    {
      "cell_type": "markdown",
      "metadata": {
        "id": "4xMMSm7Mk2g9"
      },
      "source": [
        "When working with more complex data than what we use in this exercise, creating a PyTorch `DataLoader` on top of the dataset can be beneficial. A data loader is basically a fancy generator/iterator that we can use to abstract away all of the data handling and pre-processing + it's super useful for processing batches of data as well! Data loaders will come in handy later when you start to work on your projects, so be sure to check them out!\n",
        "\n",
        "For more information on how to use datasets and data loaders in PyTorch, [consult the official guide](https://pytorch.org/tutorials/beginner/data_loading_tutorial.html)."
      ]
    },
    {
      "cell_type": "markdown",
      "metadata": {
        "id": "t-rfgDfZeMQ6"
      },
      "source": [
        "## Nanograd utilities"
      ]
    },
    {
      "cell_type": "markdown",
      "metadata": {
        "id": "oRO5ssg0eQMK"
      },
      "source": [
        "We load necessary utility functions for the Nanograd library, which we saw in Lab 2."
      ]
    },
    {
      "cell_type": "code",
      "metadata": {
        "id": "Jd4CoEBNzNWS"
      },
      "source": [
        "# Copy and pasted from https://github.com/rasmusbergpalm/nanograd/blob/main/nanograd.py\n",
        "\n",
        "from math import exp, log, tanh\n",
        "\n",
        "class Var:\n",
        "    \"\"\"\n",
        "    A variable which holds a float and enables gradient computations.\n",
        "    \"\"\"\n",
        "\n",
        "    def __init__(self, val: float, grad_fn=lambda: []):\n",
        "        assert type(val) == float\n",
        "        self.v = val\n",
        "        self.grad_fn = grad_fn\n",
        "        self.grad = 0.0\n",
        "\n",
        "    def backprop(self, bp):\n",
        "        self.grad += bp\n",
        "        for input, grad in self.grad_fn():\n",
        "            input.backprop(grad * bp)\n",
        "\n",
        "    def backward(self):\n",
        "        self.backprop(1.0)\n",
        "\n",
        "    def __add__(self: 'Var', other: 'Var') -> 'Var':\n",
        "        return Var(self.v + other.v, lambda: [(self, 1.0), (other, 1.0)])\n",
        "\n",
        "    def __mul__(self: 'Var', other: 'Var') -> 'Var':\n",
        "        return Var(self.v * other.v, lambda: [(self, other.v), (other, self.v)])\n",
        "\n",
        "    def __pow__(self, power):\n",
        "        assert type(power) in {float, int}, \"power must be float or int\"\n",
        "        return Var(self.v ** power, lambda: [(self, power * self.v ** (power - 1))])\n",
        "\n",
        "    def __neg__(self: 'Var') -> 'Var':\n",
        "        return Var(-1.0) * self\n",
        "\n",
        "    def __sub__(self: 'Var', other: 'Var') -> 'Var':\n",
        "        return self + (-other)\n",
        "\n",
        "    def __truediv__(self: 'Var', other: 'Var') -> 'Var':\n",
        "        return self * other ** -1\n",
        "\n",
        "    def __repr__(self):\n",
        "        return \"Var(v=%.4f, grad=%.4f)\" % (self.v, self.grad)\n",
        "    \n",
        "    def exp(self):\n",
        "        return Var(exp(self.v), lambda: [(self, exp(self.v))])\n",
        "    \n",
        "    def log(self):\n",
        "        return Var(log(self.v), lambda: [(self, self.v ** -1)])\n",
        "\n",
        "    def relu(self):\n",
        "        return Var(self.v if self.v > 0.0 else 0.0, lambda: [(self, 1.0 if self.v > 0.0 else 0.0)])\n",
        "    \n",
        "    def identity(self):\n",
        "        return self\n",
        "\n",
        "    def sigmoid(self):\n",
        "        return Var(0.5) * (Var(1.0) + (Var(0.5) * self).tanh()) # logistic function is a scaled and shifted version of tanh\n",
        "    \n",
        "    def tanh(self):\n",
        "        return Var(tanh(self.v), lambda: [(self, 1-tanh(self.v) ** 2)])"
      ],
      "execution_count": 4,
      "outputs": []
    },
    {
      "cell_type": "code",
      "metadata": {
        "id": "9AMqMsiseMfz"
      },
      "source": [
        "# convert from ndarray to Var\n",
        "def nparray_to_Var(x):\n",
        "  if x.ndim==1:\n",
        "    y = [[Var(float(x[i]))] for i in range(x.shape[0])] # always work with list of list\n",
        "  else:\n",
        "    y = [[Var(float(x[i,j])) for j in range(x.shape[1])] for i in range(x.shape[0])]\n",
        "  return y\n",
        "\n",
        "# convert from Var to ndarray  \n",
        "def Var_to_nparray(x):\n",
        "  try:\n",
        "    y = np.zeros((len(x),len(x[0])))\n",
        "    for i in range(len(x)):\n",
        "      for j in range(len(x[0])):\n",
        "        y[i,j] = x[i][j].v\n",
        "  except TypeError:\n",
        "    y = np.zeros((len(x)))\n",
        "    for i in range(len(x)):\n",
        "      y[i] = x[i].v\n",
        "\n",
        "  return y"
      ],
      "execution_count": 5,
      "outputs": []
    },
    {
      "cell_type": "code",
      "metadata": {
        "id": "ij_ieRsAt7Xt"
      },
      "source": [
        "class Initializer:\n",
        "\n",
        "  def init_weights(self, n_in, n_out):\n",
        "    raise NotImplementedError\n",
        "\n",
        "  def init_bias(self, n_out):\n",
        "    raise NotImplementedError"
      ],
      "execution_count": 6,
      "outputs": []
    },
    {
      "cell_type": "code",
      "metadata": {
        "id": "eb18N5phuIha"
      },
      "source": [
        "import random\n",
        "\n",
        "class NormalInitializer(Initializer):\n",
        "\n",
        "  def __init__(self, mean=0, std=0.1):\n",
        "    self.mean = mean\n",
        "    self.std = std\n",
        "\n",
        "  def init_weights(self, n_in, n_out):\n",
        "    return [[Var(random.gauss(self.mean, self.std)) for _ in range(n_out)] for _ in range(n_in)]\n",
        "\n",
        "  def init_bias(self, n_out):\n",
        "    return [Var(0.0) for _ in range(n_out)]\n",
        "\n",
        "class ConstantInitializer(Initializer):\n",
        "\n",
        "  def __init__(self, weight=1.0, bias=0.0):\n",
        "    self.weight = weight\n",
        "    self.bias = bias\n",
        "\n",
        "  def init_weights(self, n_in, n_out):\n",
        "    return [[Var(self.weight) for _ in range(n_out)] for _ in range(n_in)]\n",
        "\n",
        "  def init_bias(self, n_out):\n",
        "    return [Var(self.bias) for _ in range(n_out)]"
      ],
      "execution_count": 7,
      "outputs": []
    },
    {
      "cell_type": "markdown",
      "metadata": {
        "id": "Dzmryk72k2g-"
      },
      "source": [
        "## One-hot encodings"
      ]
    },
    {
      "cell_type": "markdown",
      "metadata": {
        "id": "abRN9f8Xk2g_"
      },
      "source": [
        "We now create a simple function that returns the one-hot encoded representation of a given index of a word in our vocabulary. Notice that the shape of the one-hot encoding is equal to the entire vocabulary (which can be huge!). Additionally, we define a function to automatically one-hot encode a sentence."
      ]
    },
    {
      "cell_type": "code",
      "metadata": {
        "id": "IZruCIHJk2hB",
        "colab": {
          "base_uri": "https://localhost:8080/"
        },
        "outputId": "71f36a93-3cba-45cf-e496-93a6b47ca73c"
      },
      "source": [
        "def one_hot_encode(idx, vocab_size):\n",
        "    \"\"\"\n",
        "    One-hot encodes a single word given its index and the size of the vocabulary.\n",
        "    \n",
        "    Args:\n",
        "     `idx`: the index of the given word\n",
        "     `vocab_size`: the size of the vocabulary\n",
        "    \n",
        "    Returns a 1-D numpy array of length `vocab_size`.\n",
        "    \"\"\"\n",
        "    # Initialize the encoded array\n",
        "    one_hot = np.array([np.zeros(vocab_size)])\n",
        "    \n",
        "    # Set the appropriate element to one\n",
        "    one_hot[0][idx] = 1.0\n",
        "    return nparray_to_Var(one_hot)\n",
        "\n",
        "\n",
        "def one_hot_encode_sequence(sequence, vocab_size):\n",
        "    \"\"\"\n",
        "    One-hot encodes a sequence of words given a fixed vocabulary size.\n",
        "    \n",
        "    Args:\n",
        "     `sentence`: a list of words to encode\n",
        "     `vocab_size`: the size of the vocabulary\n",
        "     \n",
        "    Returns a 3-D numpy array of shape (num words, vocab size, 1).\n",
        "    \"\"\"\n",
        "    # Encode each word in the sentence\n",
        "    encoding = np.array([Var_to_nparray(one_hot_encode(word_to_idx[word], vocab_size)) for word in sequence])\n",
        "\n",
        "    # Reshape encoding s.t. it has shape (num words, vocab size, 1)\n",
        "    encoding = encoding.reshape(encoding.shape[0], encoding.shape[2], 1)\n",
        "    return nparray_to_Var(encoding)\n",
        "\n",
        "test_word = one_hot_encode(word_to_idx['a'], vocab_size)\n",
        "print(f'Our one-hot encoding of \\'a\\' has shape {Var_to_nparray(test_word).shape}.')\n",
        "\n",
        "test_sentence = one_hot_encode_sequence(['a', 'b'], vocab_size)\n",
        "print(f'Our one-hot encoding of \\'a b\\' has shape {Var_to_nparray(test_sentence).shape}.')\n",
        "\n",
        "print(test_word)\n",
        "print(test_sentence)"
      ],
      "execution_count": 8,
      "outputs": [
        {
          "output_type": "stream",
          "name": "stdout",
          "text": [
            "Our one-hot encoding of 'a' has shape (1, 4).\n",
            "Our one-hot encoding of 'a b' has shape (2, 4).\n",
            "[[Var(v=1.0000, grad=0.0000), Var(v=0.0000, grad=0.0000), Var(v=0.0000, grad=0.0000), Var(v=0.0000, grad=0.0000)]]\n",
            "[[Var(v=1.0000, grad=0.0000), Var(v=0.0000, grad=0.0000), Var(v=0.0000, grad=0.0000), Var(v=0.0000, grad=0.0000)], [Var(v=0.0000, grad=0.0000), Var(v=1.0000, grad=0.0000), Var(v=0.0000, grad=0.0000), Var(v=0.0000, grad=0.0000)]]\n"
          ]
        }
      ]
    },
    {
      "cell_type": "code",
      "metadata": {
        "id": "JT6BqYrU_NxQ"
      },
      "source": [
        "encoded_training_set_x = []\n",
        "encoded_training_set_y = []\n",
        "encoded_validation_set_x = []\n",
        "encoded_validation_set_y = []\n",
        "encoded_test_set_x = []\n",
        "encoded_test_set_y = []\n",
        "\n",
        "for n in range(len(training_set)):\n",
        "  encoded_training_set_x.append(one_hot_encode_sequence(training_set[n][0], vocab_size))\n",
        "  encoded_training_set_y.append(one_hot_encode_sequence(training_set[n][1], vocab_size))\n",
        "for n in range(len(validation_set)):\n",
        "  encoded_validation_set_x.append(one_hot_encode_sequence(validation_set[n][0], vocab_size))\n",
        "  encoded_validation_set_y.append(one_hot_encode_sequence(validation_set[n][1], vocab_size))\n",
        "for n in range(len(test_set)):\n",
        "  encoded_test_set_x.append(one_hot_encode_sequence(test_set[n][0], vocab_size))\n",
        "  encoded_test_set_y.append(one_hot_encode_sequence(test_set[n][1], vocab_size))"
      ],
      "execution_count": 9,
      "outputs": []
    },
    {
      "cell_type": "markdown",
      "metadata": {
        "id": "erI_MXvKk2hG"
      },
      "source": [
        "Great! Now that we have our one-hot encodings in place, we can move on to the RNNs!"
      ]
    },
    {
      "cell_type": "markdown",
      "metadata": {
        "id": "MA6bxjGWjeSB"
      },
      "source": [
        "# Introduction to Recurrent Neural Networks (RNN)\n",
        "\n",
        "Reading material: [blog post](http://karpathy.github.io/2015/05/21/rnn-effectiveness/) and (optionally) [this lecture](https://www.youtube.com/watch?v=iWea12EAu6U&list=PLoROMvodv4rOhcuXMZkNm7j3fVwBBY42z).\n",
        "\n",
        "___\n",
        "\n",
        "A recurrent neural network (RNN) is a type of neural network that has been succesful in modelling sequential data, e.g. language, speech, protein sequences, etc.\n",
        "\n",
        "A RNN performs its computations in a cyclic manner, where the same computation is applied to every sample of a given sequence.\n",
        "The idea is that the network should be able to use the previous computations as some form of memory and apply this to future computations.\n",
        "An image may best explain how this is to be understood,\n",
        "\n",
        "![rnn-unroll image](https://github.com/DeepLearningDTU/02456-deep-learning-with-PyTorch/blob/master/static_files/rnn-unfold.png?raw=1)\n",
        "\n",
        "\n",
        "where it the network contains the following elements:\n",
        "\n",
        "- $x$ is the input sequence of samples, \n",
        "- $U$ is a weight matrix applied to the given input sample,\n",
        "- $V$ is a weight matrix used for the recurrent computation in order to pass memory along the sequence,\n",
        "- $W$ is a weight matrix used to compute the output of the every timestep (given that every timestep requires an output),\n",
        "- $h$ is the hidden state (the network's memory) for a given time step, and\n",
        "- $o$ is the resulting output.\n",
        "\n",
        "When the network is unrolled as shown, it is easier to refer to a timestep, $t$.\n",
        "We have the following computations through the network:\n",
        "\n",
        "- $h_t = f(U\\,{x_t} + V\\,{h_{t-1}})$, where $f$ is a non-linear activation function, e.g. $\\mathrm{tanh}$.\n",
        "- $o_t = W\\,{h_t}$\n",
        "\n",
        "When we are doing language modelling using a cross-entropy loss, we additionally apply the softmax function to the output $o_{t}$:\n",
        "\n",
        "- $\\hat{y}_t = \\mathrm{softmax}(o_{t})$\n",
        "\n",
        "\n",
        "### Backpropagation through time\n",
        "\n",
        "We define a loss function\n",
        "\n",
        "- $E = \\sum_t E_t  = \\sum_t E_t(y_t ,\\hat{y}_t ) \\ , $\n",
        "\n",
        "where $E_t(y_t ,\\hat{y}_t )$ is the cross-entropy function.\n",
        "\n",
        "Backpropagation through time amounts to computing the gradients of the loss using the same type of clever bookkeeping we applied to the feed-forward network in week 1. This you will do in Exercise D."
      ]
    },
    {
      "cell_type": "markdown",
      "metadata": {
        "id": "GuvwbvsGz9KE"
      },
      "source": [
        "## Implementing an RNN\n",
        "\n",
        "We will implement the forward pass, backward pass, optimization and training loop for an RNN in Nanograd so that you can get familiar with the recurrent nature of RNNs. Later, we will go back to PyTorch."
      ]
    },
    {
      "cell_type": "markdown",
      "metadata": {
        "id": "gfbfcB-NJZuM"
      },
      "source": [
        "We define the Nanograd DenseLayer class from [lab 2](https://github.com/DeepLearningDTU/02456-deep-learning-with-PyTorch/blob/master/2_Feedforward_Python/2.1-EXE-FNN-AutoDif-Nanograd.ipynb) with a few additions:\n",
        "* the option use_bias to define a layer without bias. This is useful when we define the recurrent layer and\n",
        "* a method forward_sequence which is useful when a DenseLayer is used as part of a recurrent neural network"
      ]
    },
    {
      "cell_type": "code",
      "metadata": {
        "id": "TqkVyEEACHKS"
      },
      "source": [
        "from typing import Sequence\n",
        "\n",
        "class DenseLayer:\n",
        "    def __init__(self, n_in: int, n_out: int, act_fn, initializer = NormalInitializer(), use_bias=True):\n",
        "        self.weights = initializer.init_weights(n_in, n_out)\n",
        "        self.use_bias = use_bias\n",
        "        if use_bias:\n",
        "          self.bias = initializer.init_bias(n_out)\n",
        "        self.act_fn = act_fn\n",
        "    \n",
        "    def __repr__(self):    \n",
        "        return 'Weights: ' + repr(self.weights) + (' Biases: ' + repr(self.bias) if self.use_bias else '')\n",
        "\n",
        "    def parameters(self) -> Sequence[Var]:\n",
        "      params = []\n",
        "      for r in self.weights:\n",
        "        params += r\n",
        "\n",
        "      if self.use_bias:\n",
        "        params += self.bias\n",
        "\n",
        "      return params\n",
        "\n",
        "    def forward(self, input: Sequence[Var]) -> Sequence[Var]:\n",
        "        # self.weights is a matrix with dimension n_in x n_out. We check that the dimensionality of the input \n",
        "        # to the current layer matches the number of nodes in the current layer\n",
        "        assert len(self.weights) == len(input), \"weights and input must match in first dimension\"\n",
        "        weights = self.weights\n",
        "        out = []\n",
        "        # For some given data point single_input, we now want to calculate the resulting value in each node in the current layer\n",
        "        # We therefore loop over the (number of) nodes in the current layer:\n",
        "        for j in range(len(weights[0])): \n",
        "            # Initialize the node value depending on its corresponding parameters.\n",
        "            node = self.bias[j] if self.use_bias else Var(0.0)\n",
        "            # We now finish the linear transformation corresponding to the parameters of the currently considered node.\n",
        "            for i in range(len(input)):\n",
        "                node += input[i]*weights[i][j]\n",
        "            node = self.act_fn(node)\n",
        "            out.append(node)\n",
        "\n",
        "        return out\n",
        "    \n",
        "    def forward_sequence(self, input: Sequence[Sequence[Var]]) -> Sequence[Sequence[Var]]:\n",
        "        out = []\n",
        "        for i in range(len(input)): \n",
        "            node = self.forward(input[i])\n",
        "            out.append(node)\n",
        "\n",
        "        return out"
      ],
      "execution_count": 10,
      "outputs": []
    },
    {
      "cell_type": "code",
      "metadata": {
        "colab": {
          "base_uri": "https://localhost:8080/"
        },
        "id": "6Xd9pmRvisjw",
        "outputId": "b53faaed-a3af-4d18-97e6-c96a32f0096c"
      },
      "source": [
        "x = NN_test[0].forward_sequence(x_train[0])\n",
        "NN_test[1].forward_sequence(x)"
      ],
      "execution_count": 253,
      "outputs": [
        {
          "output_type": "execute_result",
          "data": {
            "text/plain": [
              "[[Var(v=5.0000, grad=0.0000)],\n",
              " [Var(v=35.0000, grad=0.0000)],\n",
              " [Var(v=190.0000, grad=0.0000)]]"
            ]
          },
          "metadata": {},
          "execution_count": 253
        }
      ]
    },
    {
      "cell_type": "markdown",
      "metadata": {
        "id": "qDKFjjQEM-xX"
      },
      "source": [
        "## Exercise b) The RNNLayer class\n",
        "\n",
        "Complete the RNNLayer class below.\n",
        "\n",
        "Explain how we reuse the DenseLayer class.\n",
        "\n",
        "Explain what the forward and the forward_sequence method do."
      ]
    },
    {
      "cell_type": "markdown",
      "metadata": {
        "id": "qyjRuuuTk6L-"
      },
      "source": [
        "**Answer:**\n",
        "\n",
        "As explained before, the recurrent layer depends on previous computations. Mathematically, this can be expressed as:\n",
        "\n",
        "1. $ h_t = g \\left( U x_t + V h_{t-1} + b \\right) $\n",
        "\n",
        "We can remember that the formula of a fully-connected layer is:\n",
        "\n",
        "2. $ h = g \\left( W x + b \\right) $\n",
        "\n",
        "Therefore, we can \"build\" a recurrent layer by adding up two dense layers that have a linear activation function. This summation is then fed to a non-linear activation function.\n",
        "\n",
        "In the code, the `forward_step` method does the calculation of equation **1.** by first calculating the contribution of both input and hidden state. Each contribution corresponds to equation **2.** with $g(x) = x$. Then the new hidden states are calculated by applying the non-linear activation function to the sum of both contributions.\n",
        "\n",
        "The `forward_sequence` method calls the `forward_step` method for each item in the sequence. The output of the first step depends on an initial hidden state of zeros. The output of following steps depends on the hidden state of the previous steps.\n",
        "\n"
      ]
    },
    {
      "cell_type": "code",
      "metadata": {
        "id": "IcM1N6PQrT7l"
      },
      "source": [
        "from typing import Sequence\n",
        "\n",
        "class RNNLayer:\n",
        "    def __init__(self, n_in: int, n_hid: int, act_fn, initializer = NormalInitializer(), initializer_hid = NormalInitializer()):\n",
        "        self.n_hid = n_hid\n",
        "        self.in_hid_layer = DenseLayer(n_in, n_hid, lambda x: x, initializer)\n",
        "        self.hid_hid_layer = DenseLayer(n_hid, n_hid, lambda x: x, initializer_hid, use_bias=False) # we already get a bias through in_hid_layer        \n",
        "        self.initial_hid = [Var(0.0) for _ in range(n_hid)]\n",
        "        self.stored_hid = [Var(0.0) for _ in range(n_hid)]\n",
        "        self.act_fn = act_fn\n",
        "    \n",
        "    def __repr__(self):    \n",
        "        return 'Feed-forward: ' + repr(self.in_hid_layer) + ' Recurrent: ' + repr(self.hid_hid_layer) + ' Initial hidden: ' + repr(self.initial_hid)\n",
        "\n",
        "    def parameters(self) -> Sequence[Var]:      \n",
        "      return self.in_hid_layer.parameters() + self.hid_hid_layer.parameters() + self.initial_hid\n",
        "\n",
        "    def forward_step(self, input: Sequence[Var], input_hid: Sequence[Var]) -> Sequence[Var]:\n",
        "        in_hids = self.in_hid_layer.forward(input) # contribution from input\n",
        "        hid_hids = self.hid_hid_layer.forward(input_hid) # contribution from hidden state\n",
        "\n",
        "        hids = []\n",
        "        for i in range(self.n_hid):\n",
        "          hids.append(self.act_fn(in_hids[i] + hid_hids[i]))\n",
        "\n",
        "        return hids\n",
        "    \n",
        "    def forward_sequence(self, input: Sequence[Sequence[Var]], use_stored_hid = False) -> Sequence[Sequence[Var]]:\n",
        "        out = []\n",
        "        if use_stored_hid:\n",
        "            hid = self.stored_hid\n",
        "        else:\n",
        "            hid = self.initial_hid\n",
        "        # Takes a sequence and loops over each character in the sequence. Note that each character has dimension equal to the embedding dimension\n",
        "        for i in range(len(input)):\n",
        "            hid = self.forward_step(input[i], hid)\n",
        "            out.append(hid)\n",
        "        self.stored_hid = hid\n",
        "        return out"
      ],
      "execution_count": 11,
      "outputs": []
    },
    {
      "cell_type": "markdown",
      "metadata": {
        "id": "VgAU6qPHKJFr"
      },
      "source": [
        "Now we can define a network and pass some data through it."
      ]
    },
    {
      "cell_type": "code",
      "metadata": {
        "id": "MFkZ5gNG6d7c",
        "colab": {
          "base_uri": "https://localhost:8080/"
        },
        "outputId": "94039bd9-9e1d-4fa8-f25b-7d4fc6a43cf5"
      },
      "source": [
        "NN = [\n",
        "    RNNLayer(1, 5, lambda x: x.tanh()),\n",
        "    DenseLayer(5, 1, lambda x: x.identity())\n",
        "]\n",
        "\n",
        "def forward_batch(input: Sequence[Sequence[Sequence[Var]]], network, use_stored_hid=False):\n",
        "  \n",
        "  def forward_single_sequence(x, network, use_stored_hid):\n",
        "    for layer in network:\n",
        "        if isinstance(layer, RNNLayer):\n",
        "            x = layer.forward_sequence(x, use_stored_hid) \n",
        "        else:\n",
        "            x = layer.forward_sequence(x)\n",
        "    return x\n",
        "\n",
        "  output = [ forward_single_sequence(input[n], network, use_stored_hid) for n in range(len(input))]\n",
        "  return output\n",
        "\n",
        "print(NN[0])\n",
        "x_train =[\n",
        "          [[Var(1.0)], [Var(2.0)], [Var(3.0)]],\n",
        "          [[Var(1.0)], [Var(2.0)], [Var(3.0)]]\n",
        "          ]\n",
        "\n",
        "output_train = forward_batch(x_train, NN)          \n",
        "#output_train[0][0][0].backward()\n",
        "\n",
        "print(output_train)"
      ],
      "execution_count": 162,
      "outputs": [
        {
          "output_type": "stream",
          "name": "stdout",
          "text": [
            "Feed-forward: Weights: [[Var(v=-0.0278, grad=0.0000), Var(v=-0.0595, grad=0.0000), Var(v=0.0461, grad=0.0000), Var(v=-0.0819, grad=0.0000), Var(v=-0.2108, grad=0.0000)]] Biases: [Var(v=0.0000, grad=0.0000), Var(v=0.0000, grad=0.0000), Var(v=0.0000, grad=0.0000), Var(v=0.0000, grad=0.0000), Var(v=0.0000, grad=0.0000)] Recurrent: Weights: [[Var(v=-0.0019, grad=0.0000), Var(v=0.0131, grad=0.0000), Var(v=0.0242, grad=0.0000), Var(v=0.1477, grad=0.0000), Var(v=0.0230, grad=0.0000)], [Var(v=-0.0850, grad=0.0000), Var(v=-0.2360, grad=0.0000), Var(v=0.0839, grad=0.0000), Var(v=-0.1824, grad=0.0000), Var(v=0.0730, grad=0.0000)], [Var(v=0.1102, grad=0.0000), Var(v=0.0637, grad=0.0000), Var(v=0.0041, grad=0.0000), Var(v=-0.0068, grad=0.0000), Var(v=0.1312, grad=0.0000)], [Var(v=0.0447, grad=0.0000), Var(v=-0.0385, grad=0.0000), Var(v=0.0159, grad=0.0000), Var(v=0.0398, grad=0.0000), Var(v=0.0719, grad=0.0000)], [Var(v=0.0733, grad=0.0000), Var(v=0.0307, grad=0.0000), Var(v=-0.0297, grad=0.0000), Var(v=-0.0738, grad=0.0000), Var(v=-0.0226, grad=0.0000)]] Initial hidden: [Var(v=0.0000, grad=0.0000), Var(v=0.0000, grad=0.0000), Var(v=0.0000, grad=0.0000), Var(v=0.0000, grad=0.0000), Var(v=0.0000, grad=0.0000)]\n",
            "[[[Var(v=-0.0007, grad=0.0000)], [Var(v=-0.0014, grad=0.0000)], [Var(v=-0.0005, grad=0.0000)]], [[Var(v=-0.0007, grad=0.0000)], [Var(v=-0.0014, grad=0.0000)], [Var(v=-0.0005, grad=0.0000)]]]\n"
          ]
        }
      ]
    },
    {
      "cell_type": "markdown",
      "metadata": {
        "id": "yolo5dKrk2hR"
      },
      "source": [
        "## Exercise c) Unit test\n",
        "\n",
        "Make unit tests to make sure that the output and the backward method work as it should.\n",
        "\n",
        "NOTE: The .backward() call above simply backpropagates a value in the output (and not a loss). Below, we will extend our loss functions to be able to handle backpropagation through time.\n",
        "\n",
        "Recycling code from [Lab 2](https://github.com/DeepLearningDTU/02456-deep-learning-with-PyTorch/blob/master/2_Feedforward_Python/2.1-EXE-FNN-AutoDif-Nanograd.ipynb) is fine. "
      ]
    },
    {
      "cell_type": "markdown",
      "metadata": {
        "id": "Zuu-EvsBdigj"
      },
      "source": [
        "**Answer:**\n",
        "\n",
        "To do a unit test, we can simplify the network to use linear activation functions and have constant initialization (weights equal to 1 and biases equal to 0). This way we simplify the equations:\n",
        "\n",
        "$$ h_t = g\\left( U x_t + V h_{t-1} \\right) = U x_t + V h_{t-1} $$\n",
        "\n",
        "Knowing $x_t$ (random/fixed numbers) and $h_0$ (zeros), we can calculate the output of these equations and compare it to the output given by the forward methods.\n",
        "\n",
        "In a similar fashion, we can manually calculate the gradients and compare them to those calculated in the network. For instance, the gradient corresponding to:\n",
        "\n",
        "$$ \\frac{\\partial o_1}{\\partial x_1} = \\frac{\\partial \\left( W h_1 \\right)}{\\partial x_1} = \\frac{\\partial \\left( W U x_1 + V h_0 \\right)}{\\partial x_1} $$\n",
        "\n",
        "We can simplify because $W$ and $U$ are vectors and constants, and $Vh_0$ is also constant, meaning:\n",
        "\n",
        "$$ \\frac{\\partial o_1}{\\partial x_1} = \\frac{\\partial \\left( \\sum^n_{i=1} W_i U_i x_1 \\right) }{\\partial x_1} = \\frac{\\partial \\left( \\sum^n_{i=1} x_1 \\right) }{\\partial x_1} = n $$\n",
        "\n",
        "Where $n$ corresponds to the number of hidden units in the recurrent layer.\n",
        "\n",
        "Also note that:\n",
        "\n",
        "$$ \\frac{\\partial o_t}{\\partial x_1} = 0 \\quad\\forall\\,\\, t > 1  $$\n",
        "\n",
        "In general, we can define the Jacobian of this test network as:\n",
        "\n",
        "$$\n",
        "\\begin{equation}\n",
        "J_{ij} = \\frac{\\partial o_i}{\\partial x_j} = \n",
        "\\begin{cases}\n",
        "    n^{1+i-j},& \\text{if } i\\geq j\\\\\n",
        "    0,              & \\text{otherwise}\n",
        "\\end{cases}\n",
        "\\end{equation}\n",
        "$$"
      ]
    },
    {
      "cell_type": "code",
      "metadata": {
        "colab": {
          "base_uri": "https://localhost:8080/"
        },
        "id": "CTcKPjB_HWMj",
        "outputId": "ef46377d-e8e7-4bc0-801b-a2ed3582e18d"
      },
      "source": [
        "def unit_test(t=3, n_hid=5, x=None):\n",
        "  def flatten(x):\n",
        "    # handy function because there are too many lists inside lists\n",
        "    return [c for a in x for b in a for c in b]\n",
        "\n",
        "  def test_forward(x):\n",
        "    # calculate actual output (using forward function)\n",
        "    NN_test = [\n",
        "      RNNLayer(1, n_hid, lambda x: x.identity(), ConstantInitializer(), ConstantInitializer()),\n",
        "      DenseLayer(n_hid, 1, lambda x: x.identity(), ConstantInitializer())\n",
        "    ]\n",
        "    actual_Var = forward_batch(x, NN_test)\n",
        "    actual = Var_to_nparray(actual_Var[0])\n",
        "\n",
        "    # calculate expected output (using equations)\n",
        "    h = np.zeros((t + 1, n_hid, 1))  # hidden state vector\n",
        "    o = np.zeros((t + 1, 1))  # output vector\n",
        "    U, V, W = np.ones((1, n_hid)), np.ones((n_hid, n_hid)), np.ones((n_hid, 1))  # weight matrices\n",
        "    for i, xt in enumerate(flatten(x), 1):\n",
        "      # technically, should be U.T @ x[t] + V.T @ h[t-1], but we can change things a bit due to datatypes \n",
        "      h[i,:,:] = U.T * xt.v + V @ h[i-1,:,:]\n",
        "      o[i] = W.T @ h[i,:,:]\n",
        "\n",
        "    expected = o[1:]\n",
        "\n",
        "    # compare\n",
        "    assert np.allclose(actual, expected)\n",
        "\n",
        "    return actual_Var\n",
        "\n",
        "  def test_backward(x, o):\n",
        "\n",
        "    for i, var in enumerate(flatten(o), 1):\n",
        "      var.backward()  # backward pass\n",
        "\n",
        "      # calculate gradients for input variables\n",
        "      actual = [var.grad for var in flatten(x)]\n",
        "\n",
        "      # calculate gradients manually\n",
        "      expected = np.zeros(t)\n",
        "      expected[:i] = np.power(n_hid, range(i, 0, -1))\n",
        "\n",
        "      # compare\n",
        "      assert np.allclose(actual, expected)\n",
        "\n",
        "      var.backprop(-1)  # undo backward pass\n",
        "\n",
        "  if x is None:\n",
        "    x = [nparray_to_Var(np.random.random((t, 1)))]\n",
        "  else:\n",
        "    t = len(x[0])\n",
        "  o = test_forward(x)\n",
        "  test_backward(x, o)\n",
        "\n",
        "  print(f\"Succesful test for network with {n_hid} hidden units and {t} steps.\")\n",
        "\n",
        "unit_test()\n",
        "unit_test(t=5)\n",
        "unit_test(n_hid=10)\n",
        "unit_test(x=[[[Var(1.0)], [Var(2.0)], [Var(3.0)]]])\n",
        "unit_test(x=[[[Var(1.0)], [Var(2.0)], [Var(3.0)], [Var(4.0)]]])"
      ],
      "execution_count": 232,
      "outputs": [
        {
          "output_type": "stream",
          "name": "stdout",
          "text": [
            "Succesful test for network with 5 hidden units and 3 steps.\n",
            "Succesful test for network with 5 hidden units and 5 steps.\n",
            "Succesful test for network with 10 hidden units and 3 steps.\n",
            "Succesful test for network with 5 hidden units and 3 steps.\n",
            "Succesful test for network with 5 hidden units and 4 steps.\n"
          ]
        }
      ]
    },
    {
      "cell_type": "markdown",
      "metadata": {
        "id": "4d4_2b6mK5jH"
      },
      "source": [
        "## Exercise d) Advanced initialization\n",
        "\n",
        "How can we use He initialization for the recurrent layer?\n",
        "\n",
        "Hint: the sum of two unit variance stochastic variables have variance 2.\n",
        "\n",
        "Insert code for He initialization of the recurrent layer. Again, recycling code from Lab 2 is fine. "
      ]
    },
    {
      "cell_type": "code",
      "metadata": {
        "id": "oRn3mDnzLxu2"
      },
      "source": [
        "## He\n",
        "def DenseLayer_He_tanh(n_in: int, n_out: int):\n",
        "  std = 1.0 / n_in # <- replace with proper initialization \n",
        "  return DenseLayer(n_in, n_out, lambda x: x.relu(), initializer = NormalInitializer(std=std))"
      ],
      "execution_count": 260,
      "outputs": []
    },
    {
      "cell_type": "markdown",
      "metadata": {
        "id": "ozNN9xXML0yc"
      },
      "source": [
        "## Exercise e) Sequence loss function\n",
        "\n",
        "We want to solve a sequence to sequence problem. So you need a sequence loss function. \n",
        "\n",
        "Implement the function such that the sequence loss can take flexible input dimensions and so that it can take any loss as an argument, such as squared loss and cross entropy. (We recommend using cross entropy below)\n",
        "\n",
        "We have provided a bit of code to try it out.\n",
        "\n",
        "Hints: You can get inspiration from the forward_sequence method above. You can copy and paste squared loss and cross entropy from Lab 2. "
      ]
    },
    {
      "cell_type": "code",
      "metadata": {
        "id": "bYpEnbeMP4yL",
        "colab": {
          "base_uri": "https://localhost:8080/"
        },
        "outputId": "e8261dee-63e8-4561-880e-77488504c7a1"
      },
      "source": [
        "# Insert code here\n",
        "\n",
        "def squared_loss_sequence(t, y):\n",
        "    \n",
        "    # add check that sizes agree\n",
        "    \n",
        "    def squared_loss_single(t, y):\n",
        "\n",
        "        # add check that sizes agree\n",
        "        \n",
        "        Loss = Var(0.0)\n",
        "\n",
        "        for i in range(len(t)):\n",
        "            Loss += (t[i] - y[i]) ** 2\n",
        "\n",
        "        return Loss\n",
        "\n",
        "    Loss = Var(0.0)\n",
        "    for n in range(len(t)):\n",
        "        for i in range(len(t[n])):\n",
        "            Loss += squared_loss_single(t[n][i], y[n][i])\n",
        "\n",
        "    return Loss\n",
        "\n",
        "def cross_entropy_loss_sequence(t, y):\n",
        "\n",
        "    # add check that sizes agree\n",
        "\n",
        "    def cross_entropy_loss_single(t, y):\n",
        "\n",
        "        # add check that sizes agree\n",
        "\n",
        "        Loss = Var(0.0)\n",
        "        denominator = Var(0.0)\n",
        "\n",
        "        for i in range(len(t)):\n",
        "            denominator += t[i].exp()\n",
        "        \n",
        "        for i in range(len(t)):\n",
        "            Loss += - y[i] * (t[i].exp() / denominator + Var(0.001)).log()\n",
        "\n",
        "        return Loss\n",
        "\n",
        "    Loss = Var(0.0)\n",
        "    for n in range(len(t)):\n",
        "        for i in range(len(t[n])):\n",
        "            Loss += cross_entropy_loss_single(t[n][i], y[n][i])\n",
        "\n",
        "    return Loss\n",
        "\n",
        "def sequence_loss(t: Sequence[Sequence[Var]], y: Sequence[Sequence[Var]], loss_fn=cross_entropy_loss_sequence) -> Var:\n",
        "    assert len(t) == len(y)\n",
        "    return loss_fn(t, y)\n",
        "\n",
        "\n",
        "# Test of loss func\n",
        "NN = [\n",
        "    RNNLayer(4, 2, lambda x: x.tanh()),\n",
        "    DenseLayer(2, 4, lambda x: x.identity())\n",
        "]\n",
        "\n",
        "output_train = forward_batch(encoded_training_set_x[:3], NN)\n",
        "print(output_train)       \n",
        "loss = sequence_loss(output_train, encoded_training_set_y[:3], cross_entropy_loss_sequence)\n",
        "print(\"Loss:\", loss)\n",
        "loss.backward()\n",
        "\n",
        "print(\"Output:\", output_train)\n",
        "\n",
        "print('Network before update:')\n",
        "[print('Layer', i, '\\n', NN[i]) for i in range(len(NN))] \n",
        "\n",
        "def parameters(network):\n",
        "  params = []\n",
        "  for layer in range(len(network)):\n",
        "    params += network[layer].parameters()\n",
        "  return params\n",
        "\n",
        "def update_parameters(params, learning_rate=0.01):\n",
        "  for p in params:\n",
        "    p.v -= learning_rate*p.grad\n",
        "\n",
        "def zero_gradients(params):\n",
        "  for p in params:\n",
        "    p.grad = 0.0\n",
        "\n",
        "update_parameters(parameters(NN))\n",
        "\n",
        "print('\\nNetwork after update:')\n",
        "[print('Layer', i, '\\n', NN[i]) for i in range(len(NN))] \n",
        "\n",
        "zero_gradients(parameters(NN))\n",
        "\n",
        "print('\\nNetwork after zeroing gradients:')\n",
        "[print('Layer', i, '\\n', NN[i]) for i in range(len(NN))] \n"
      ],
      "execution_count": 261,
      "outputs": [
        {
          "output_type": "stream",
          "name": "stdout",
          "text": [
            "[[[Var(v=0.0087, grad=0.0000), Var(v=0.0104, grad=0.0000), Var(v=0.0254, grad=0.0000), Var(v=0.0352, grad=0.0000)], [Var(v=0.0079, grad=0.0000), Var(v=0.0083, grad=0.0000), Var(v=0.0225, grad=0.0000), Var(v=0.0306, grad=0.0000)], [Var(v=0.0080, grad=0.0000), Var(v=0.0086, grad=0.0000), Var(v=0.0228, grad=0.0000), Var(v=0.0312, grad=0.0000)], [Var(v=-0.0008, grad=0.0000), Var(v=-0.0115, grad=0.0000), Var(v=-0.0076, grad=0.0000), Var(v=-0.0151, grad=0.0000)], [Var(v=0.0001, grad=0.0000), Var(v=-0.0082, grad=0.0000), Var(v=-0.0039, grad=0.0000), Var(v=-0.0091, grad=0.0000)], [Var(v=-0.0000, grad=0.0000), Var(v=-0.0087, grad=0.0000), Var(v=-0.0044, grad=0.0000), Var(v=-0.0098, grad=0.0000)]], [[Var(v=0.0087, grad=0.0000), Var(v=0.0104, grad=0.0000), Var(v=0.0254, grad=0.0000), Var(v=0.0352, grad=0.0000)], [Var(v=-0.0008, grad=0.0000), Var(v=-0.0118, grad=0.0000), Var(v=-0.0079, grad=0.0000), Var(v=-0.0157, grad=0.0000)]], [[Var(v=0.0087, grad=0.0000), Var(v=0.0104, grad=0.0000), Var(v=0.0254, grad=0.0000), Var(v=0.0352, grad=0.0000)], [Var(v=0.0079, grad=0.0000), Var(v=0.0083, grad=0.0000), Var(v=0.0225, grad=0.0000), Var(v=0.0306, grad=0.0000)], [Var(v=0.0080, grad=0.0000), Var(v=0.0086, grad=0.0000), Var(v=0.0228, grad=0.0000), Var(v=0.0312, grad=0.0000)], [Var(v=-0.0008, grad=0.0000), Var(v=-0.0115, grad=0.0000), Var(v=-0.0076, grad=0.0000), Var(v=-0.0151, grad=0.0000)], [Var(v=0.0001, grad=0.0000), Var(v=-0.0082, grad=0.0000), Var(v=-0.0039, grad=0.0000), Var(v=-0.0091, grad=0.0000)], [Var(v=-0.0000, grad=0.0000), Var(v=-0.0087, grad=0.0000), Var(v=-0.0044, grad=0.0000), Var(v=-0.0098, grad=0.0000)]]]\n",
            "Loss: Var(v=19.4286, grad=0.0000)\n",
            "Output: [[[Var(v=0.0087, grad=-0.7498), Var(v=0.0104, grad=0.2466), Var(v=0.0254, grad=0.2503), Var(v=0.0352, grad=0.2528)], [Var(v=0.0079, grad=-0.7493), Var(v=0.0083, grad=0.2467), Var(v=0.0225, grad=0.2503), Var(v=0.0306, grad=0.2523)], [Var(v=0.0080, grad=0.2466), Var(v=0.0086, grad=-0.7492), Var(v=0.0228, grad=0.2503), Var(v=0.0312, grad=0.2524)], [Var(v=-0.0008, grad=0.2510), Var(v=-0.0115, grad=-0.7477), Var(v=-0.0076, grad=0.2493), Var(v=-0.0151, grad=0.2474)], [Var(v=0.0001, grad=0.2503), Var(v=-0.0082, grad=-0.7477), Var(v=-0.0039, grad=0.2493), Var(v=-0.0091, grad=0.2481)], [Var(v=-0.0000, grad=0.2504), Var(v=-0.0087, grad=0.2483), Var(v=-0.0044, grad=-0.7467), Var(v=-0.0098, grad=0.2480)]], [[Var(v=0.0087, grad=0.2462), Var(v=0.0104, grad=-0.7494), Var(v=0.0254, grad=0.2503), Var(v=0.0352, grad=0.2528)], [Var(v=-0.0008, grad=0.2511), Var(v=-0.0118, grad=0.2483), Var(v=-0.0079, grad=-0.7467), Var(v=-0.0157, grad=0.2474)]], [[Var(v=0.0087, grad=-0.7498), Var(v=0.0104, grad=0.2466), Var(v=0.0254, grad=0.2503), Var(v=0.0352, grad=0.2528)], [Var(v=0.0079, grad=-0.7493), Var(v=0.0083, grad=0.2467), Var(v=0.0225, grad=0.2503), Var(v=0.0306, grad=0.2523)], [Var(v=0.0080, grad=0.2466), Var(v=0.0086, grad=-0.7492), Var(v=0.0228, grad=0.2503), Var(v=0.0312, grad=0.2524)], [Var(v=-0.0008, grad=0.2510), Var(v=-0.0115, grad=-0.7477), Var(v=-0.0076, grad=0.2493), Var(v=-0.0151, grad=0.2474)], [Var(v=0.0001, grad=0.2503), Var(v=-0.0082, grad=-0.7477), Var(v=-0.0039, grad=0.2493), Var(v=-0.0091, grad=0.2481)], [Var(v=-0.0000, grad=0.2504), Var(v=-0.0087, grad=0.2483), Var(v=-0.0044, grad=-0.7467), Var(v=-0.0098, grad=0.2480)]]]\n",
            "Network before update:\n",
            "Layer 0 \n",
            " Feed-forward: Weights: [[Var(v=0.1196, grad=0.4333), Var(v=-0.2188, grad=-0.0733)], [Var(v=-0.0130, grad=0.3620), Var(v=0.1267, grad=0.1006)], [Var(v=-0.0048, grad=0.0000), Var(v=-0.0191, grad=0.0000)], [Var(v=-0.0014, grad=0.0000), Var(v=0.1278, grad=0.0000)]] Biases: [Var(v=0.0000, grad=0.7953), Var(v=0.0000, grad=0.0273)] Recurrent: Weights: [[Var(v=-0.1029, grad=0.0435), Var(v=0.1013, grad=-0.0008)], [Var(v=0.0030, grad=-0.0504), Var(v=-0.1144, grad=0.0094)]] Initial hidden: [Var(v=0.0000, grad=-0.0207), Var(v=0.0000, grad=0.0053)]\n",
            "Layer 1 \n",
            " Weights: [[Var(v=0.0902, grad=-0.2850), Var(v=-0.0626, grad=-0.0998), Var(v=0.1769, grad=0.2159), Var(v=0.1699, grad=0.1689)], [Var(v=0.0093, grad=0.6777), Var(v=-0.0830, grad=-0.0534), Var(v=-0.0204, grad=-0.5031), Var(v=-0.0696, grad=-0.1212)]] Biases: [Var(v=0.0000, grad=-0.5042), Var(v=0.0000, grad=-3.5071), Var(v=0.0000, grad=0.5093), Var(v=0.0000, grad=3.5020)]\n",
            "\n",
            "Network after update:\n",
            "Layer 0 \n",
            " Feed-forward: Weights: [[Var(v=0.1152, grad=0.4333), Var(v=-0.2180, grad=-0.0733)], [Var(v=-0.0166, grad=0.3620), Var(v=0.1257, grad=0.1006)], [Var(v=-0.0048, grad=0.0000), Var(v=-0.0191, grad=0.0000)], [Var(v=-0.0014, grad=0.0000), Var(v=0.1278, grad=0.0000)]] Biases: [Var(v=-0.0080, grad=0.7953), Var(v=-0.0003, grad=0.0273)] Recurrent: Weights: [[Var(v=-0.1033, grad=0.0435), Var(v=0.1013, grad=-0.0008)], [Var(v=0.0035, grad=-0.0504), Var(v=-0.1145, grad=0.0094)]] Initial hidden: [Var(v=0.0002, grad=-0.0207), Var(v=-0.0001, grad=0.0053)]\n",
            "Layer 1 \n",
            " Weights: [[Var(v=0.0930, grad=-0.2850), Var(v=-0.0616, grad=-0.0998), Var(v=0.1747, grad=0.2159), Var(v=0.1683, grad=0.1689)], [Var(v=0.0025, grad=0.6777), Var(v=-0.0825, grad=-0.0534), Var(v=-0.0153, grad=-0.5031), Var(v=-0.0684, grad=-0.1212)]] Biases: [Var(v=0.0050, grad=-0.5042), Var(v=0.0351, grad=-3.5071), Var(v=-0.0051, grad=0.5093), Var(v=-0.0350, grad=3.5020)]\n",
            "\n",
            "Network after zeroing gradients:\n",
            "Layer 0 \n",
            " Feed-forward: Weights: [[Var(v=0.1152, grad=0.0000), Var(v=-0.2180, grad=0.0000)], [Var(v=-0.0166, grad=0.0000), Var(v=0.1257, grad=0.0000)], [Var(v=-0.0048, grad=0.0000), Var(v=-0.0191, grad=0.0000)], [Var(v=-0.0014, grad=0.0000), Var(v=0.1278, grad=0.0000)]] Biases: [Var(v=-0.0080, grad=0.0000), Var(v=-0.0003, grad=0.0000)] Recurrent: Weights: [[Var(v=-0.1033, grad=0.0000), Var(v=0.1013, grad=0.0000)], [Var(v=0.0035, grad=0.0000), Var(v=-0.1145, grad=0.0000)]] Initial hidden: [Var(v=0.0002, grad=0.0000), Var(v=-0.0001, grad=0.0000)]\n",
            "Layer 1 \n",
            " Weights: [[Var(v=0.0930, grad=0.0000), Var(v=-0.0616, grad=0.0000), Var(v=0.1747, grad=0.0000), Var(v=0.1683, grad=0.0000)], [Var(v=0.0025, grad=0.0000), Var(v=-0.0825, grad=0.0000), Var(v=-0.0153, grad=0.0000), Var(v=-0.0684, grad=0.0000)]] Biases: [Var(v=0.0050, grad=0.0000), Var(v=0.0351, grad=0.0000), Var(v=-0.0051, grad=0.0000), Var(v=-0.0350, grad=0.0000)]\n"
          ]
        },
        {
          "output_type": "execute_result",
          "data": {
            "text/plain": [
              "[None, None]"
            ]
          },
          "metadata": {},
          "execution_count": 261
        }
      ]
    },
    {
      "cell_type": "markdown",
      "metadata": {
        "id": "ezSRiVJzk2h5"
      },
      "source": [
        "# Backpropagation through time \n",
        "\n",
        "Since we have automatic differentiation we don't have to code the backpropagation rule by hand. Just to give you a bit of appreciation for have much bookkeeping is necessary we have given the derivation belwo.\n",
        "\n",
        "We need to compute the partial derivatives\n",
        "$\n",
        "\\frac{\\partial E}{\\partial W},~\\frac{\\partial E}{\\partial U},~\\frac{\\partial E}{\\partial V}\n",
        "$. \n",
        "We repeat the definition of the RNN forward pass from above:\n",
        "\n",
        "- $h_t = f(U\\,{x_t} + V\\,{h_{t-1}})$, where $f$ usually is an activation function, e.g. $\\mathrm{tanh}$.\n",
        "- $o_t = W\\,{h_t}$\n",
        "- $\\hat{y}_t = \\mathrm{softmax}(o_{t})$\n",
        "\n",
        "where\n",
        "- $U$ is a weight matrix applied to the given input sample,\n",
        "- $V$ is a weight matrix used for the recurrent computation in order to pass memory along the sequence,\n",
        "- $W$ is a weight matrix used to compute the output of the every timestep (given that every timestep requires an output), and\n",
        "- $h$ is the hidden state (the network's memory) for a given time step.\n",
        "\n",
        "Recall though, that RNNs are recurrent and the weights $W,~U,~V$ are shared across time, i.e. we do not have separate weights for each time step. Therefore, to compute e.g. the partial derivative $\\frac{\\partial E}{\\partial W}$, we need to 1) sum up across time, and 2) apply the chain rule:\n",
        "\n",
        "$$\\frac{\\partial E}{\\partial W} = \\sum_{t} \\frac{\\partial E}{\\partial o_{t}} \\frac{\\partial o_{t}}{\\partial W}\\,.$$\n",
        "To compute$\\frac{\\partial o_{t}}{\\partial W}$ we use the definition of $o_t$ above.\n",
        "From week 1 (exercise i) we have that\n",
        "$$\\delta_{o,t} \\equiv \\frac{\\partial E}{\\partial o_{t}} = \\frac{\\partial E_t}{\\partial o_{t}} = \\hat{y}_{t} - y_{t}\\,,$$\n",
        "where $\\hat{y}_{t}$ is a softmax distribution over model outputs $o_{t}$ at time $t$, and $y_{t}$ is the target label at time $t$. \n",
        "\n",
        "To compute $\\frac{\\partial E}{\\partial U}$ and $\\frac{\\partial E}{\\partial V}$ we again sum over time and use the chain rule:\n",
        "$$\n",
        "\\frac{\\partial E}{\\partial U} = \\sum_{t} \\frac{\\partial E}{\\partial h_{t}} \\frac{\\partial h_{t}}{\\partial U} \\ . \n",
        "$$\n",
        "This leads us to introduce\n",
        "$$\n",
        "\\delta_{h,t} \\equiv \\frac{\\partial E}{\\partial h_{t}} \\ .\n",
        "$$\n",
        "The backpropagation through time recursion is derived by realising that a variation of $h_t$ affects 1) the loss at time step $t$ through the feed-forward connection to the output and 2) the future losses through the $h_{t+1}$ dependence of $h_t$. Mathematically, we write this through the chain rule:\n",
        "\n",
        "$$\n",
        "\\delta_{h,t} \\equiv \\frac{\\partial E}{\\partial h_{t}} =  \\frac{\\partial E}{\\partial o_{t}} \\frac{\\partial o_t}{\\partial h_{t}} + \\frac{\\partial E}{\\partial h_{t+1}}\n",
        "\\frac{\\partial h_{t+1}}{\\partial h_{t}} = \\delta_{o,t} \\frac{\\partial o_t}{\\partial h_{t}} + \\delta_{h,t+1}\n",
        "\\frac{\\partial h_{t+1}}{\\partial h_{t}} \\ . \n",
        "$$\n",
        "\n",
        "Like above we can compute $\\frac{\\partial h_{t+1}}{\\partial h_{t}}$ using the definition of the network (shifted one time step). In the code the intermediate steps to compute the $\\delta$ recursions have been precomputed for you. \n",
        "\n",
        "For more information on backpropagation through time see the [Deep learning book section 10.2.2](https://www.deeplearningbook.org/contents/rnn.html).\n"
      ]
    },
    {
      "cell_type": "markdown",
      "metadata": {
        "id": "XIy3OZaQSrVL"
      },
      "source": [
        "# Exercise f) Complete the training loop\n",
        "\n",
        "Complete the training loop above and run the training. You can leave the hyper-parameters and network size unchanged.\n",
        "\n",
        "Note that despite the small size of the network and dataset, training still takes quite a while. This is an issue with the recurrent structure of Nanograd. Using PyTorch, we would be able to use much larger datasets and models. We will attempt that in the bottom of the notebook. For now, you should get a feel of the recurrent structure of the RNN under the hood."
      ]
    },
    {
      "cell_type": "code",
      "metadata": {
        "id": "MkaqbWmroncY"
      },
      "source": [
        "# Initialize training hyperparameters\n",
        "EPOCHS = 200\n",
        "LR = 1e-2 \n",
        "LR_DECAY = 0.995"
      ],
      "execution_count": 262,
      "outputs": []
    },
    {
      "cell_type": "code",
      "metadata": {
        "id": "-JtM_IQjonfK",
        "colab": {
          "base_uri": "https://localhost:8080/",
          "height": 1000
        },
        "outputId": "a2f0aae9-4247-4fd9-abce-fd2c39e88214"
      },
      "source": [
        "train_loss = []\n",
        "val_loss = []\n",
        "\n",
        "batch_size = 8\n",
        "\n",
        "for e in range(EPOCHS):\n",
        "    for b in range(int(np.ceil(len(encoded_training_set_x)/batch_size))):\n",
        "        # Forward pass and loss computation\n",
        "        start, end = b * batch_size, (b + 1) * batch_size\n",
        "\n",
        "        encoded_batch_set_x = encoded_training_set_x[start:end]\n",
        "        encoded_batch_set_y = encoded_training_set_y[start:end]\n",
        "        Loss = sequence_loss(forward_batch(encoded_batch_set_x, NN), encoded_batch_set_y, cross_entropy_loss_sequence)\n",
        "\n",
        "        # Backward pass\n",
        "        Loss.backward()\n",
        "        \n",
        "        # gradient descent update\n",
        "        update_parameters(parameters(NN), LR)\n",
        "        zero_gradients(parameters(NN))\n",
        "      \n",
        "    LR = LR * LR_DECAY\n",
        "\n",
        "    # Training loss\n",
        "    Loss = sequence_loss(forward_batch(encoded_training_set_x, NN), encoded_training_set_y, cross_entropy_loss_sequence)\n",
        "    train_loss.append(Loss.v)\n",
        "        \n",
        "    # Validation loss\n",
        "    Loss_validation = sequence_loss(forward_batch(encoded_validation_set_x, NN), encoded_validation_set_y, cross_entropy_loss_sequence)\n",
        "    val_loss.append(Loss_validation.v)\n",
        "    \n",
        "    if e%5==0:\n",
        "        print(\"{:4d}\".format(e),\n",
        "              \"({:5.2f}%)\".format(e/EPOCHS*100), \n",
        "              \"Train loss: {:4.3f} \\t Validation loss: {:4.3f}\".format(train_loss[-1], val_loss[-1]))\n",
        "        \n",
        "# Plot training and validation loss\n",
        "import matplotlib.pyplot as plt\n",
        "%matplotlib inline\n",
        "epoch = np.arange(len(train_loss))\n",
        "plt.figure()\n",
        "plt.plot(epoch, train_loss, 'r', label='Training loss',)\n",
        "plt.plot(epoch, val_loss, 'b', label='Validation loss')\n",
        "plt.legend()\n",
        "plt.xlabel('Epoch'), plt.ylabel('NLL')\n",
        "plt.show()"
      ],
      "execution_count": 263,
      "outputs": [
        {
          "output_type": "stream",
          "name": "stdout",
          "text": [
            "   0 ( 0.00%) Train loss: 129.151 \t Validation loss: 12.668\n",
            "   5 ( 2.50%) Train loss: 110.484 \t Validation loss: 10.832\n",
            "  10 ( 5.00%) Train loss: 94.079 \t Validation loss: 9.257\n",
            "  15 ( 7.50%) Train loss: 82.124 \t Validation loss: 8.202\n",
            "  20 (10.00%) Train loss: 76.471 \t Validation loss: 7.833\n",
            "  25 (12.50%) Train loss: 72.699 \t Validation loss: 7.733\n",
            "  30 (15.00%) Train loss: 69.047 \t Validation loss: 7.706\n",
            "  35 (17.50%) Train loss: 64.330 \t Validation loss: 7.531\n",
            "  40 (20.00%) Train loss: 57.694 \t Validation loss: 6.856\n",
            "  45 (22.50%) Train loss: 48.979 \t Validation loss: 5.799\n",
            "  50 (25.00%) Train loss: 50.698 \t Validation loss: 6.103\n",
            "  55 (27.50%) Train loss: 47.499 \t Validation loss: 6.147\n",
            "  60 (30.00%) Train loss: 57.904 \t Validation loss: 5.818\n",
            "  65 (32.50%) Train loss: 46.426 \t Validation loss: 6.126\n",
            "  70 (35.00%) Train loss: 42.068 \t Validation loss: 5.296\n",
            "  75 (37.50%) Train loss: 45.783 \t Validation loss: 6.205\n",
            "  80 (40.00%) Train loss: 41.283 \t Validation loss: 5.482\n",
            "  85 (42.50%) Train loss: 49.122 \t Validation loss: 5.964\n",
            "  90 (45.00%) Train loss: 36.682 \t Validation loss: 4.880\n",
            "  95 (47.50%) Train loss: 47.978 \t Validation loss: 5.814\n",
            " 100 (50.00%) Train loss: 36.818 \t Validation loss: 4.933\n",
            " 105 (52.50%) Train loss: 44.259 \t Validation loss: 5.513\n",
            " 110 (55.00%) Train loss: 38.906 \t Validation loss: 5.126\n",
            " 115 (57.50%) Train loss: 39.616 \t Validation loss: 5.177\n",
            " 120 (60.00%) Train loss: 38.331 \t Validation loss: 5.078\n",
            " 125 (62.50%) Train loss: 37.364 \t Validation loss: 4.996\n",
            " 130 (65.00%) Train loss: 36.463 \t Validation loss: 4.912\n",
            " 135 (67.50%) Train loss: 35.694 \t Validation loss: 4.834\n",
            " 140 (70.00%) Train loss: 35.052 \t Validation loss: 4.763\n",
            " 145 (72.50%) Train loss: 34.516 \t Validation loss: 4.699\n",
            " 150 (75.00%) Train loss: 34.064 \t Validation loss: 4.642\n",
            " 155 (77.50%) Train loss: 33.678 \t Validation loss: 4.590\n",
            " 160 (80.00%) Train loss: 33.344 \t Validation loss: 4.543\n",
            " 165 (82.50%) Train loss: 33.052 \t Validation loss: 4.501\n",
            " 170 (85.00%) Train loss: 32.793 \t Validation loss: 4.462\n",
            " 175 (87.50%) Train loss: 32.562 \t Validation loss: 4.426\n",
            " 180 (90.00%) Train loss: 32.354 \t Validation loss: 4.392\n",
            " 185 (92.50%) Train loss: 32.166 \t Validation loss: 4.362\n",
            " 190 (95.00%) Train loss: 31.994 \t Validation loss: 4.333\n",
            " 195 (97.50%) Train loss: 31.837 \t Validation loss: 4.306\n"
          ]
        },
        {
          "output_type": "display_data",
          "data": {
            "image/png": "[encoded data removed]",
            "text/plain": [
              "<Figure size 432x288 with 1 Axes>"
            ]
          },
          "metadata": {
            "needs_background": "light"
          }
        }
      ]
    },
    {
      "cell_type": "code",
      "metadata": {
        "id": "nAI_D6g25pTQ",
        "colab": {
          "base_uri": "https://localhost:8080/"
        },
        "outputId": "b056337f-5c69-422e-8af9-0d16ea7b5cfa"
      },
      "source": [
        "# Get first sentence in test set\n",
        "inputs, targets = test_set[0]\n",
        "\n",
        "# One-hot encode input and target sequence\n",
        "inputs_one_hot = one_hot_encode_sequence(inputs, vocab_size)\n",
        "targets_one_hot = one_hot_encode_sequence(targets, vocab_size)\n",
        "\n",
        "# Forward pass\n",
        "outputs = forward_batch(encoded_test_set_x[:1], NN)\n",
        "\n",
        "output_sentence = [idx_to_word[np.argmax(output)] for output in Var_to_nparray(outputs[0])]\n",
        "\n",
        "print('Input sentence:')\n",
        "print(inputs)\n",
        "\n",
        "print('\\nTarget sequence:')\n",
        "print(targets)\n",
        "\n",
        "print('\\nPredicted sequence:')\n",
        "print([idx_to_word[np.argmax(output)] for output in Var_to_nparray(outputs[0])])"
      ],
      "execution_count": 264,
      "outputs": [
        {
          "output_type": "stream",
          "name": "stdout",
          "text": [
            "Input sentence:\n",
            "['a', 'a', 'a', 'b', 'b', 'b']\n",
            "\n",
            "Target sequence:\n",
            "['a', 'a', 'b', 'b', 'b', 'EOS']\n",
            "\n",
            "Predicted sequence:\n",
            "['a', 'b', 'b', 'b', 'b', 'EOS']\n"
          ]
        }
      ]
    },
    {
      "cell_type": "markdown",
      "metadata": {
        "id": "Nn7QpUZXk2iH"
      },
      "source": [
        "## Exercise g) Extrapolation\n",
        "\n",
        "Now that we have trained an RNN, it's time to put it to test. We will provide the network with a starting sentence and let it `freestyle` from there!\n",
        "\n",
        "How well does your RNN extrapolate -- does it work as expected? Are there any imperfections? If yes, why could that be?"
      ]
    },
    {
      "cell_type": "markdown",
      "metadata": {
        "id": "sDHo_zCMCtyo"
      },
      "source": [
        "**Answer**\n",
        "\n",
        "The network works as expected in some regards. It knows to end the sequence with \"EOS\", and knows that after \"a\" goes \"b\". However, memory limitations make it unable to predict the correct number of \"b\"s. This is possibly because it has a short-term memory and does not really remember the number of \"a\"s, but just general rules (\"b\" always follows \"a\" or \"b\", \"EOS\" ends sequence)."
      ]
    },
    {
      "cell_type": "code",
      "metadata": {
        "id": "4GNsD6HEJ-Gn",
        "colab": {
          "base_uri": "https://localhost:8080/"
        },
        "outputId": "af64da8c-8e43-49fc-ee22-aae57e97b716"
      },
      "source": [
        "def freestyle(NN, sentence='', num_generate=10):\n",
        "    \"\"\"\n",
        "    Takes in a sentence as a string and outputs a sequence\n",
        "    based on the predictions of the RNN.\n",
        "    \n",
        "    Args:\n",
        "     `params`: the parameters of the network\n",
        "     `sentence`: string with whitespace-separated tokens\n",
        "     `num_generate`: the number of tokens to generate\n",
        "    \"\"\"\n",
        "    sentence = sentence.split(' ')\n",
        "    output_sentence = sentence\n",
        "    sentence_one_hot = one_hot_encode_sequence(sentence, vocab_size)\n",
        "\n",
        "    # Begin predicting\n",
        "    outputs = forward_batch([sentence_one_hot], NN, use_stored_hid=False)\n",
        "    output_words = [idx_to_word[np.argmax(output)] for output in Var_to_nparray(outputs[0])]\n",
        "    word = output_words[-1]\n",
        "\n",
        "    # Append first prediction\n",
        "    output_sentence.append(word)\n",
        "\n",
        "    # Forward pass - Insert code here!\n",
        "    if word != 'EOS':\n",
        "      for i in range(num_generate-1):\n",
        "          sentence_one_hot = one_hot_encode_sequence(output_sentence, vocab_size)\n",
        "          outputs = forward_batch([sentence_one_hot[-1:]], NN, use_stored_hid=True)\n",
        "          output_words = [idx_to_word[np.argmax(output)] for output in Var_to_nparray(outputs[0])]\n",
        "          word = output_words[-1]\n",
        "          output_sentence.append(word)\n",
        "          if word == 'EOS':\n",
        "              break\n",
        "          \n",
        "    return output_sentence\n",
        "\n",
        "\n",
        "# Perform freestyle (extrapolation)\n",
        "test_examples = ['a a b', 'a a a a b', 'a a a a a a b', 'a', 'r n n']\n",
        "for i, test_example in enumerate(test_examples):\n",
        "    print(f'Example {i}:', test_example)\n",
        "    print('Predicted sequence:', freestyle(NN, sentence=test_example), end='\\n\\n')"
      ],
      "execution_count": 266,
      "outputs": [
        {
          "output_type": "stream",
          "name": "stdout",
          "text": [
            "Example 0: a a b\n",
            "Predicted sequence: ['a', 'a', 'b', 'b', 'EOS']\n",
            "\n",
            "Example 1: a a a a b\n",
            "Predicted sequence: ['a', 'a', 'a', 'a', 'b', 'b', 'b', 'EOS']\n",
            "\n",
            "Example 2: a a a a a a b\n",
            "Predicted sequence: ['a', 'a', 'a', 'a', 'a', 'a', 'b', 'b', 'b', 'EOS']\n",
            "\n",
            "Example 3: a\n",
            "Predicted sequence: ['a', 'a', 'b', 'b', 'EOS']\n",
            "\n",
            "Example 4: r n n\n",
            "Predicted sequence: ['r', 'n', 'n', 'EOS']\n",
            "\n"
          ]
        }
      ]
    },
    {
      "cell_type": "markdown",
      "metadata": {
        "id": "X44hQ653vNCj"
      },
      "source": [
        "# Introduction to the Long Short-Term Memory (LSTM) Cell\n",
        "\n",
        "Reading material: [Christopher Olah's walk-through](http://colah.github.io/posts/2015-08-Understanding-LSTMs/).\n",
        "\n",
        "___\n",
        "\n",
        "\n",
        "A vanilla RNN suffers from [the vanishing gradients problem](http://neuralnetworksanddeeplearning.com/chap5.html#the_vanishing_gradient_problem) which gives challenges in saving memory over longer sequences. To combat these issues the gated hidden units were created. The two most prominent gated hidden units are the Long Short-Term Memory (LSTM) cell and the Gated Recurrent Unit (GRU), both of which have shown increased performance in saving and reusing memory in later timesteps. In this exercise, we will focus on LSTM but you would easily be able to go ahead and implement the GRU as well based on the principles that you learn here.\n",
        "\n",
        "Below is a figure of the LSTM cell:"
      ]
    },
    {
      "cell_type": "markdown",
      "metadata": {
        "id": "5Rgc-g3zwV9f"
      },
      "source": [
        "![lstm](https://i.imgur.com/3VkmUCe.png)\n",
        "Source: https://arxiv.org/abs/1412.7828"
      ]
    },
    {
      "cell_type": "markdown",
      "metadata": {
        "id": "ytasZ5cqw4W1"
      },
      "source": [
        "\n",
        "The LSTM cell contains three gates, input, forget, output gates and a memory cell.\n",
        "The output of the LSTM unit is computed with the following functions, where $\\sigma = \\mathrm{sigmoid}$.\n",
        "We have input gate $i$, forget gate $f$, and output gate $o$ defines as\n",
        "\n",
        "- $i = \\sigma ( W^i [h_{t-1}, x_t])$\n",
        "\n",
        "- $f = \\sigma ( W^f [h_{t-1},x_t])$\n",
        "\n",
        "- $o = \\sigma ( W^o [h_{t-1},x_t])$\n",
        "\n",
        "where $W^i, W^f, W^o$ are weight matrices applied to a concatenated $h_{t-1}$ (hidden state vector) and $x_t$ (input vector)  for each respective gate.\n",
        "\n",
        "$h_{t-1}$, from the previous time step along with the current input $x_t$ are used to compute the a candidate $g$\n",
        "\n",
        "- $g = \\mathrm{tanh}( W^g [h_{t-1}, x_t])$\n",
        "\n",
        "The value of the cell's memory, $c_t$, is updated as\n",
        "\n",
        "- $c_t = c_{t-1} \\circ f + g \\circ i$\n",
        "\n",
        "where $c_{t-1}$ is the previous memory, and $\\circ$ refers to element-wise multiplication (hint: element-wise multiplication is computed with the `*` operator in numpy).\n",
        "\n",
        "The output, $h_t$, is computed as\n",
        "\n",
        "- $h_t = \\mathrm{tanh}(c_t) \\circ o$\n",
        "\n",
        "and it is used for both the timestep's output and the next timestep, whereas $c_t$ is exclusively sent to the next timestep.\n",
        "This makes $c_t$ a memory feature, and is not used directly to compute the output of the timestep."
      ]
    },
    {
      "cell_type": "markdown",
      "metadata": {
        "id": "m8_4RWp3k2iQ"
      },
      "source": [
        "## Exercise h) Make the LSTMLayer class\n",
        "\n",
        "Make the LSTM class."
      ]
    },
    {
      "cell_type": "code",
      "metadata": {
        "id": "qdU0yMXQU7d0"
      },
      "source": [
        "# Insert code here\n",
        "\n",
        "class LSTMLayer:\n",
        "    def __init__(self, n_in: int, n_hid: int, act_fn, initializer = NormalInitializer(), initializer_hid = NormalInitializer()):\n",
        "        self.n_in = n_in\n",
        "        self.n_hid = n_hid\n",
        "        self.in_hid_layer = DenseLayer(n_in, n_hid, lambda x: x, initializer)\n",
        "        self.g_layer = DenseLayer(n_hid + n_in, n_hid, lambda x: x, initializer_hid, use_bias=False)\n",
        "        self.i_layer = DenseLayer(n_hid + n_in, n_hid, lambda x: x, initializer_hid, use_bias=False)\n",
        "        self.f_layer = DenseLayer(n_hid + n_in, n_hid, lambda x: x, initializer_hid, use_bias=False)\n",
        "        self.o_layer = DenseLayer(n_hid + n_in, n_hid, lambda x: x, initializer_hid, use_bias=False)\n",
        "        self.initial_hid = [Var(0.0) for _ in range(n_hid)]\n",
        "        self.stored_hid = [Var(0.0) for _ in range(n_hid)]\n",
        "        self.initial_c = [Var(0.0) for _ in range(n_hid)]\n",
        "        self.stored_c = [Var(0.0) for _ in range(n_hid)]\n",
        "        self.act_fn = act_fn\n",
        "    \n",
        "    def __repr__(self):    \n",
        "        return 'Feed-forward: ' + repr(self.in_hid_layer) + ' Candidate: ' + repr(self.g_layer) + ' i gate ' + repr(self.i_layer) + ' f gate ' + repr(self.f_layer) + ' o gate ' + repr(self.o_layer) + ' Initial hidden: ' + repr(self.initial_hid)\n",
        "\n",
        "    def parameters(self) -> Sequence[Var]:      \n",
        "      return self.in_hid_layer.parameters() + self.g_layer.parameters() + self.i_layer.parameters() + self.f_layer.parameters() + self.o_layer.parameters() + self.initial_hid\n",
        "\n",
        "    def forward_step(self, input: Sequence[Var], input_hid: Sequence[Var], input_c: Sequence[Var]) -> Sequence[Var]:\n",
        "        hids = []\n",
        "        cs = []\n",
        "        concatenated_input = []\n",
        "        for val in input_hid:\n",
        "          concatenated_input.append(val)\n",
        "        for val in input:\n",
        "          concatenated_input.append(val)\n",
        "\n",
        "        # Insert code here\n",
        "\n",
        "        i = self.i_layer.forward(concatenated_input)\n",
        "        f = self.f_layer.forward(concatenated_input)\n",
        "        o = self.o_layer.forward(concatenated_input)\n",
        "        g = self.g_layer.forward(concatenated_input)\n",
        "\n",
        "        for j in range(self.n_hid):\n",
        "          i[j] = i[j].sigmoid()\n",
        "          f[j] = f[j].sigmoid()\n",
        "          o[j] = o[j].sigmoid()\n",
        "          g[j] = g[j].tanh()\n",
        "            \n",
        "          c = input_c[j] * f[j] + g[j] * i[j]\n",
        "          cs.append(c)\n",
        "\n",
        "          hid = c.tanh() * o[j]\n",
        "          hids.append(hid)\n",
        "\n",
        "        return hids, cs\n",
        "    \n",
        "    def forward_sequence(self, input: Sequence[Sequence[Var]], use_stored_hid = False) -> Sequence[Sequence[Var]]:\n",
        "        out = []\n",
        "        if use_stored_hid:\n",
        "            hid = self.stored_hid\n",
        "            c = self.stored_c\n",
        "        else:\n",
        "            hid = self.initial_hid\n",
        "            c = self.initial_c\n",
        "        # Takes a sequence and loops over each character in the sequence. Note that each character has dimenson equal to the embeddng dimenson\n",
        "        for i in range(len(input)):\n",
        "            hid, c = self.forward_step(input[i], hid, c)  # insert code here\n",
        "            out.append(hid)\n",
        "        self.stored_hid = hid\n",
        "        self.stored_c = c\n",
        "        return out"
      ],
      "execution_count": 267,
      "outputs": []
    },
    {
      "cell_type": "markdown",
      "metadata": {
        "id": "gKu-bfhzk2iY"
      },
      "source": [
        "Here is a bit of code to test it out:"
      ]
    },
    {
      "cell_type": "code",
      "metadata": {
        "id": "u4AYroqSVRSv",
        "colab": {
          "base_uri": "https://localhost:8080/"
        },
        "outputId": "3d95f4ce-6f67-42b1-b78a-4ade468f85eb"
      },
      "source": [
        "NN = [\n",
        "    LSTMLayer(1, 5, lambda x: x.tanh()),\n",
        "    DenseLayer(5, 1, lambda x: x.identity())\n",
        "]\n",
        "\n",
        "print(NN[0])\n",
        "x_train =[[[Var(1.0)], [Var(2.0)], [Var(3.0)]],\n",
        "          [[Var(1.0)], [Var(2.0)], [Var(3.0)]]]\n",
        "\n",
        "output_train = forward_batch(x_train, NN)          \n",
        "output_train[0][0][0].backward()\n",
        "\n",
        "print(output_train)"
      ],
      "execution_count": 268,
      "outputs": [
        {
          "output_type": "stream",
          "name": "stdout",
          "text": [
            "Feed-forward: Weights: [[Var(v=-0.0147, grad=0.0000), Var(v=-0.0487, grad=0.0000), Var(v=0.1070, grad=0.0000), Var(v=-0.0196, grad=0.0000), Var(v=-0.1067, grad=0.0000)]] Biases: [Var(v=0.0000, grad=0.0000), Var(v=0.0000, grad=0.0000), Var(v=0.0000, grad=0.0000), Var(v=0.0000, grad=0.0000), Var(v=0.0000, grad=0.0000)] Candidate: Weights: [[Var(v=-0.0171, grad=0.0000), Var(v=0.0735, grad=0.0000), Var(v=0.0432, grad=0.0000), Var(v=0.1073, grad=0.0000), Var(v=-0.0766, grad=0.0000)], [Var(v=-0.0113, grad=0.0000), Var(v=-0.1923, grad=0.0000), Var(v=0.1200, grad=0.0000), Var(v=-0.0548, grad=0.0000), Var(v=0.1004, grad=0.0000)], [Var(v=0.1046, grad=0.0000), Var(v=-0.0188, grad=0.0000), Var(v=-0.0012, grad=0.0000), Var(v=0.1399, grad=0.0000), Var(v=-0.1431, grad=0.0000)], [Var(v=-0.0144, grad=0.0000), Var(v=-0.1076, grad=0.0000), Var(v=0.2983, grad=0.0000), Var(v=0.0270, grad=0.0000), Var(v=0.0130, grad=0.0000)], [Var(v=-0.0985, grad=0.0000), Var(v=0.0453, grad=0.0000), Var(v=0.0137, grad=0.0000), Var(v=0.0054, grad=0.0000), Var(v=0.0754, grad=0.0000)], [Var(v=-0.0150, grad=0.0000), Var(v=0.2241, grad=0.0000), Var(v=0.0686, grad=0.0000), Var(v=0.1206, grad=0.0000), Var(v=0.0562, grad=0.0000)]] i gate Weights: [[Var(v=-0.0422, grad=0.0000), Var(v=-0.0829, grad=0.0000), Var(v=-0.0182, grad=0.0000), Var(v=0.1110, grad=0.0000), Var(v=-0.1869, grad=0.0000)], [Var(v=0.0308, grad=0.0000), Var(v=0.0264, grad=0.0000), Var(v=-0.0498, grad=0.0000), Var(v=0.0463, grad=0.0000), Var(v=-0.0467, grad=0.0000)], [Var(v=0.1323, grad=0.0000), Var(v=0.1467, grad=0.0000), Var(v=0.1276, grad=0.0000), Var(v=0.0604, grad=0.0000), Var(v=-0.1208, grad=0.0000)], [Var(v=-0.1198, grad=0.0000), Var(v=0.0969, grad=0.0000), Var(v=0.1847, grad=0.0000), Var(v=0.1064, grad=0.0000), Var(v=0.1120, grad=0.0000)], [Var(v=0.1641, grad=0.0000), Var(v=-0.2494, grad=0.0000), Var(v=0.1187, grad=0.0000), Var(v=0.0430, grad=0.0000), Var(v=0.1078, grad=0.0000)], [Var(v=-0.0095, grad=0.0000), Var(v=-0.0940, grad=0.0000), Var(v=-0.1573, grad=0.0000), Var(v=-0.1061, grad=0.0000), Var(v=-0.0970, grad=0.0000)]] f gate Weights: [[Var(v=-0.0119, grad=0.0000), Var(v=0.0331, grad=0.0000), Var(v=0.0990, grad=0.0000), Var(v=-0.0806, grad=0.0000), Var(v=0.0295, grad=0.0000)], [Var(v=-0.1560, grad=0.0000), Var(v=-0.0291, grad=0.0000), Var(v=-0.0767, grad=0.0000), Var(v=0.0248, grad=0.0000), Var(v=-0.0396, grad=0.0000)], [Var(v=-0.1031, grad=0.0000), Var(v=0.0277, grad=0.0000), Var(v=-0.1079, grad=0.0000), Var(v=0.1072, grad=0.0000), Var(v=-0.1026, grad=0.0000)], [Var(v=0.1103, grad=0.0000), Var(v=-0.1799, grad=0.0000), Var(v=-0.0695, grad=0.0000), Var(v=0.0354, grad=0.0000), Var(v=-0.0126, grad=0.0000)], [Var(v=0.0211, grad=0.0000), Var(v=-0.0909, grad=0.0000), Var(v=0.0855, grad=0.0000), Var(v=0.0922, grad=0.0000), Var(v=-0.0486, grad=0.0000)], [Var(v=-0.0752, grad=0.0000), Var(v=0.0368, grad=0.0000), Var(v=-0.1051, grad=0.0000), Var(v=-0.0892, grad=0.0000), Var(v=-0.0247, grad=0.0000)]] o gate Weights: [[Var(v=0.0668, grad=0.0000), Var(v=0.0368, grad=0.0000), Var(v=0.0579, grad=0.0000), Var(v=-0.1583, grad=0.0000), Var(v=0.0330, grad=0.0000)], [Var(v=-0.0253, grad=0.0000), Var(v=0.1123, grad=0.0000), Var(v=-0.0827, grad=0.0000), Var(v=0.0322, grad=0.0000), Var(v=-0.0174, grad=0.0000)], [Var(v=0.0158, grad=0.0000), Var(v=-0.2131, grad=0.0000), Var(v=-0.0830, grad=0.0000), Var(v=0.0728, grad=0.0000), Var(v=-0.1565, grad=0.0000)], [Var(v=-0.0919, grad=0.0000), Var(v=0.1013, grad=0.0000), Var(v=-0.0088, grad=0.0000), Var(v=0.0172, grad=0.0000), Var(v=-0.0223, grad=0.0000)], [Var(v=0.1221, grad=0.0000), Var(v=-0.0727, grad=0.0000), Var(v=0.0265, grad=0.0000), Var(v=-0.2347, grad=0.0000), Var(v=-0.1256, grad=0.0000)], [Var(v=-0.0631, grad=0.0000), Var(v=-0.1530, grad=0.0000), Var(v=0.0554, grad=0.0000), Var(v=-0.0492, grad=0.0000), Var(v=0.1321, grad=0.0000)]] Initial hidden: [Var(v=0.0000, grad=0.0000), Var(v=0.0000, grad=0.0000), Var(v=0.0000, grad=0.0000), Var(v=0.0000, grad=0.0000), Var(v=0.0000, grad=0.0000)]\n",
            "[[[Var(v=-0.0016, grad=1.0000)], [Var(v=-0.0035, grad=0.0000)], [Var(v=-0.0051, grad=0.0000)]], [[Var(v=-0.0016, grad=0.0000)], [Var(v=-0.0035, grad=0.0000)], [Var(v=-0.0051, grad=0.0000)]]]\n"
          ]
        }
      ]
    },
    {
      "cell_type": "markdown",
      "metadata": {
        "id": "z4r4mgFsk2ik"
      },
      "source": [
        "## Exercise i) LSTM training\n",
        "\n",
        "Complete the LSTM training loop\n",
        "\n",
        "Run the training loop. Training time in Nanograd will likely be long, but see if you can find settings to compare your LSTM learning curve (NLL and number of epochs) to the vanilla RNN from earlier. Do you observe any improvements? Motivate your answer.\n",
        "\n",
        "Finally, below we will implement LSTM in PyTorch. You will notice it is much, much faster!"
      ]
    },
    {
      "cell_type": "code",
      "metadata": {
        "id": "MOAmppJD66tJ"
      },
      "source": [
        "# Initialize training hyperparameters\n",
        "EPOCHS = 100\n",
        "LR = 5e-3 \n",
        "LR_DECAY = 0.9999"
      ],
      "execution_count": 281,
      "outputs": []
    },
    {
      "cell_type": "code",
      "metadata": {
        "id": "tiotu2ab66w-",
        "colab": {
          "base_uri": "https://localhost:8080/",
          "height": 642
        },
        "outputId": "90424629-887e-41ee-fc3a-1acdf9b83701"
      },
      "source": [
        "NN = [\n",
        "    LSTMLayer(4, 1, lambda x: x.tanh()),\n",
        "    DenseLayer(1, 4, lambda x: x.identity())\n",
        "]\n",
        "\n",
        "train_loss = []\n",
        "val_loss = []\n",
        "\n",
        "batch_size = 8\n",
        "\n",
        "for e in range(EPOCHS):\n",
        "    for b in range(int(np.ceil(len(encoded_training_set_x)/batch_size))):\n",
        "        # Forward pass and loss computation\n",
        "        encoded_batch_set_x = encoded_training_set_x[start:end]\n",
        "        encoded_batch_set_y = encoded_training_set_y[start:end]\n",
        "        Loss = sequence_loss(forward_batch(encoded_batch_set_x, NN), encoded_batch_set_y, cross_entropy_loss_sequence)\n",
        "        # Backward pass\n",
        "        Loss.backward()\n",
        "        \n",
        "        # gradient descent update\n",
        "        update_parameters(parameters(NN), LR)\n",
        "        zero_gradients(parameters(NN))\n",
        "      \n",
        "    LR = LR * LR_DECAY\n",
        "\n",
        "    # Training loss\n",
        "    Loss = sequence_loss(forward_batch(encoded_training_set_x, NN), encoded_training_set_y, cross_entropy_loss_sequence)\n",
        "    train_loss.append(Loss.v)\n",
        "        \n",
        "    # Validation loss\n",
        "    Loss_validation = sequence_loss(forward_batch(encoded_validation_set_x, NN), encoded_validation_set_y, cross_entropy_loss_sequence)\n",
        "    val_loss.append(Loss_validation.v)\n",
        "    \n",
        "    if e%5==0:\n",
        "        print(\"{:4d}\".format(e),\n",
        "              \"({:5.2f}%)\".format(e/EPOCHS*100), \n",
        "              \"Train loss: {:4.3f} \\t Validation loss: {:4.3f}\".format(train_loss[-1], val_loss[-1]))\n",
        "        \n",
        "# Plot training and validation loss\n",
        "import matplotlib.pyplot as plt\n",
        "%matplotlib inline\n",
        "epoch = np.arange(len(train_loss))\n",
        "plt.figure()\n",
        "plt.plot(epoch, train_loss, 'r', label='Training loss',)\n",
        "plt.plot(epoch, val_loss, 'b', label='Validation loss')\n",
        "plt.legend()\n",
        "plt.xlabel('Epoch'), plt.ylabel('NLL')\n",
        "plt.show()"
      ],
      "execution_count": 282,
      "outputs": [
        {
          "output_type": "stream",
          "name": "stdout",
          "text": [
            "   0 ( 0.00%) Train loss: 140.607 \t Validation loss: 13.772\n",
            "   5 ( 5.00%) Train loss: 138.360 \t Validation loss: 13.499\n",
            "  10 (10.00%) Train loss: 136.441 \t Validation loss: 13.261\n",
            "  15 (15.00%) Train loss: 134.810 \t Validation loss: 13.053\n",
            "  20 (20.00%) Train loss: 133.433 \t Validation loss: 12.873\n",
            "  25 (25.00%) Train loss: 132.279 \t Validation loss: 12.716\n",
            "  30 (30.00%) Train loss: 131.318 \t Validation loss: 12.581\n",
            "  35 (35.00%) Train loss: 130.527 \t Validation loss: 12.464\n",
            "  40 (40.00%) Train loss: 129.883 \t Validation loss: 12.363\n",
            "  45 (45.00%) Train loss: 129.368 \t Validation loss: 12.277\n",
            "  50 (50.00%) Train loss: 128.964 \t Validation loss: 12.203\n",
            "  55 (55.00%) Train loss: 128.658 \t Validation loss: 12.140\n",
            "  60 (60.00%) Train loss: 128.436 \t Validation loss: 12.087\n",
            "  65 (65.00%) Train loss: 128.287 \t Validation loss: 12.042\n",
            "  70 (70.00%) Train loss: 128.203 \t Validation loss: 12.005\n",
            "  75 (75.00%) Train loss: 128.174 \t Validation loss: 11.974\n",
            "  80 (80.00%) Train loss: 128.194 \t Validation loss: 11.949\n",
            "  85 (85.00%) Train loss: 128.256 \t Validation loss: 11.929\n",
            "  90 (90.00%) Train loss: 128.354 \t Validation loss: 11.913\n",
            "  95 (95.00%) Train loss: 128.484 \t Validation loss: 11.902\n"
          ]
        },
        {
          "output_type": "display_data",
          "data": {
            "image/png": "[encoded data removed]",
            "text/plain": [
              "<Figure size 432x288 with 1 Axes>"
            ]
          },
          "metadata": {
            "needs_background": "light"
          }
        }
      ]
    },
    {
      "cell_type": "markdown",
      "metadata": {
        "id": "gi51eWgKxyOk"
      },
      "source": [
        "## PyTorch implementation of the LSTM\n",
        "\n",
        "Now that we know how the LSTM cell works, let's see how easy it is to use in PyTorch!"
      ]
    },
    {
      "cell_type": "markdown",
      "metadata": {
        "id": "O6HDdJLuk2ip"
      },
      "source": [
        "Definition of our LSTM network. We define a LSTM layer using the [nn.LSTM](https://pytorch.org/docs/stable/nn.html#lstm) class. The LSTM layer takes as argument the size of the input and the size of the hidden state like in our Nanograd implementation."
      ]
    },
    {
      "cell_type": "code",
      "metadata": {
        "id": "8UGrvknfk2ip",
        "colab": {
          "base_uri": "https://localhost:8080/"
        },
        "outputId": "0c562b34-4f67-4077-bd94-aca02d5a1758"
      },
      "source": [
        "import torch\n",
        "import torch.nn as nn\n",
        "import torch.nn.functional as F\n",
        "\n",
        "class MyRecurrentNet(nn.Module):\n",
        "    def __init__(self):\n",
        "        super(MyRecurrentNet, self).__init__()\n",
        "        \n",
        "        # Recurrent layer\n",
        "        # YOUR CODE HERE!\n",
        "        self.lstm = nn.LSTM(vocab_size, 50)\n",
        "        \n",
        "        # Output layer\n",
        "        self.l_out = nn.Linear(in_features=50,\n",
        "                            out_features=vocab_size,\n",
        "                            bias=False)\n",
        "        \n",
        "    def forward(self, x):\n",
        "        # RNN returns output and last hidden state\n",
        "        x, (h, c) = self.lstm(x)\n",
        "        \n",
        "        # Flatten output for feed-forward layer\n",
        "        x = x.view(-1, self.lstm.hidden_size)\n",
        "        \n",
        "        # Output layer\n",
        "        x = self.l_out(x)\n",
        "        \n",
        "        return x\n",
        "\n",
        "net = MyRecurrentNet()\n",
        "print(net)"
      ],
      "execution_count": 276,
      "outputs": [
        {
          "output_type": "stream",
          "name": "stdout",
          "text": [
            "MyRecurrentNet(\n",
            "  (lstm): LSTM(4, 50)\n",
            "  (l_out): Linear(in_features=50, out_features=4, bias=False)\n",
            ")\n"
          ]
        }
      ]
    },
    {
      "cell_type": "markdown",
      "metadata": {
        "id": "J6r3bPwYk2is"
      },
      "source": [
        "## Exercise j) Train in PyTorch\n",
        "\n",
        "Define an LSTM for our recurrent neural network `MyRecurrentNet` above. A single LSTM layer is sufficient. What should the input size and hidden size be? Hint: use the PyTorch documentation.\n",
        "\n",
        "It's time for us to train our network. In the section below, you will get to put your deep learning skills to use and create your own training loop. You may want to consult previous exercises if you cannot recall how to define the training loop."
      ]
    },
    {
      "cell_type": "code",
      "metadata": {
        "id": "2URKsyFDx8xG",
        "colab": {
          "base_uri": "https://localhost:8080/",
          "height": 806
        },
        "outputId": "cbacf235-6825-4c05-8d9d-7d24d41c25d7"
      },
      "source": [
        "import torch.optim as optim\n",
        "\n",
        "# Hyper-parameters\n",
        "num_epochs = 200\n",
        "\n",
        "# Initialize a new network\n",
        "net = MyRecurrentNet()\n",
        "\n",
        "# Define a loss function and optimizer for this problem\n",
        "# YOUR CODE HERE!\n",
        "criterion = nn.CrossEntropyLoss()\n",
        "optimizer = optim.SGD(net.parameters(), lr=0.001, momentum=0.9)\n",
        "optimizer = optim.Adam(net.parameters())\n",
        "\n",
        "# Track loss\n",
        "training_loss, validation_loss = [], []\n",
        "\n",
        "# For each epoch\n",
        "for i in range(num_epochs):\n",
        "    \n",
        "    # Track loss\n",
        "    epoch_training_loss = 0\n",
        "    epoch_validation_loss = 0\n",
        "    \n",
        "    net.eval()\n",
        "        \n",
        "    # For each sentence in validation set\n",
        "    for inputs, targets in validation_set:\n",
        "        \n",
        "        # One-hot encode input and target sequence\n",
        "        inputs_one_hot = Var_to_nparray(one_hot_encode_sequence(inputs, vocab_size))\n",
        "        targets_idx = [word_to_idx[word] for word in targets]\n",
        "        \n",
        "        # Convert input to tensor\n",
        "        inputs_one_hot = torch.Tensor([inputs_one_hot])\n",
        "        #inputs_one_hot = inputs_one_hot.permute(0, 2, 1)\n",
        "        \n",
        "        # Convert target to tensor\n",
        "        targets_idx = torch.LongTensor(targets_idx)\n",
        "        \n",
        "        # Forward pass\n",
        "        # YOUR CODE HERE!\n",
        "        outputs = net(inputs_one_hot)\n",
        "        \n",
        "        # Compute loss\n",
        "        # YOUR CODE HERE!\n",
        "        loss = criterion(outputs, targets_idx)\n",
        "        \n",
        "        # Update loss\n",
        "        epoch_validation_loss += loss.detach().numpy()\n",
        "    \n",
        "    net.train()\n",
        "    \n",
        "    # For each sentence in training set\n",
        "    for inputs, targets in training_set:\n",
        "        \n",
        "        # One-hot encode input and target sequence\n",
        "        inputs_one_hot = Var_to_nparray(one_hot_encode_sequence(inputs, vocab_size))\n",
        "        targets_idx = [word_to_idx[word] for word in targets]\n",
        "        \n",
        "        # Convert input to tensor\n",
        "        inputs_one_hot = torch.Tensor([inputs_one_hot])\n",
        "        #inputs_one_hot = inputs_one_hot.permute(0, 2, 1)\n",
        "        \n",
        "        # Convert target to tensor\n",
        "        targets_idx = torch.LongTensor(targets_idx)\n",
        "        \n",
        "        # Forward pass\n",
        "        # YOUR CODE HERE!\n",
        "        optimizer.zero_grad()\n",
        "        outputs = net(inputs_one_hot)\n",
        "        \n",
        "        # Compute loss\n",
        "        # YOUR CODE HERE!\n",
        "        loss = criterion(outputs, targets_idx)\n",
        "        loss.backward()\n",
        "        \n",
        "        # Backward pass\n",
        "        # YOUR CODE HERE!\n",
        "        # zero grad, backward, step...\n",
        "        optimizer.step()\n",
        "        \n",
        "        # Update loss\n",
        "        epoch_training_loss += loss.detach().numpy()\n",
        "        \n",
        "    # Save loss for plot\n",
        "    training_loss.append(epoch_training_loss/len(training_set))\n",
        "    validation_loss.append(epoch_validation_loss/len(validation_set))\n",
        "\n",
        "    # Print loss every 10 epochs\n",
        "    if i % 10 == 0:\n",
        "        print(f'Epoch {i}, training loss: {training_loss[-1]}, validation loss: {validation_loss[-1]}')\n",
        "\n",
        "        \n",
        "# Get first sentence in test set\n",
        "inputs, targets = test_set[1]\n",
        "\n",
        "# One-hot encode input and target sequence\n",
        "inputs_one_hot = Var_to_nparray(one_hot_encode_sequence(inputs, vocab_size))\n",
        "targets_idx = [word_to_idx[word] for word in targets]\n",
        "\n",
        "# Convert input to tensor\n",
        "inputs_one_hot = torch.Tensor([inputs_one_hot])\n",
        "#inputs_one_hot = inputs_one_hot.permute(0, 2, 1)\n",
        "\n",
        "# Convert target to tensor\n",
        "targets_idx = torch.LongTensor(targets_idx)\n",
        "\n",
        "# Forward pass\n",
        "outputs = net.forward(inputs_one_hot).data.numpy()\n",
        "\n",
        "print('\\nInput sequence:')\n",
        "print(inputs)\n",
        "\n",
        "print('\\nTarget sequence:')\n",
        "print(targets)\n",
        "\n",
        "print('\\nPredicted sequence:')\n",
        "print([idx_to_word[np.argmax(output)] for output in outputs])\n",
        "\n",
        "# Plot training and validation loss\n",
        "epoch = np.arange(len(training_loss))\n",
        "plt.figure()\n",
        "plt.plot(epoch, training_loss, 'r', label='Training loss',)\n",
        "plt.plot(epoch, validation_loss, 'b', label='Validation loss')\n",
        "plt.legend()\n",
        "plt.xlabel('Epoch'), plt.ylabel('NLL')\n",
        "plt.show()"
      ],
      "execution_count": 310,
      "outputs": [
        {
          "output_type": "stream",
          "name": "stdout",
          "text": [
            "Epoch 0, training loss: 1.36171293258667, validation loss: 1.379389762878418\n",
            "Epoch 10, training loss: 0.7768170213699341, validation loss: 0.7098514040311178\n",
            "Epoch 20, training loss: 0.6966662406921387, validation loss: 0.6214959025382996\n",
            "Epoch 30, training loss: 0.6855163764953613, validation loss: 0.61122065782547\n",
            "Epoch 40, training loss: 0.681732234954834, validation loss: 0.6078744133313497\n",
            "Epoch 50, training loss: 0.6799146580696106, validation loss: 0.6063011288642883\n",
            "Epoch 60, training loss: 0.6788720941543579, validation loss: 0.6054116090138754\n",
            "Epoch 70, training loss: 0.6782061934471131, validation loss: 0.6048495173454285\n",
            "Epoch 80, training loss: 0.6777490496635437, validation loss: 0.6044667363166809\n",
            "Epoch 90, training loss: 0.6774185585975647, validation loss: 0.6041918595631918\n",
            "Epoch 100, training loss: 0.6771701884269714, validation loss: 0.603986124197642\n",
            "Epoch 110, training loss: 0.6769777464866639, validation loss: 0.6038273970286051\n",
            "Epoch 120, training loss: 0.6768249249458314, validation loss: 0.603701651096344\n",
            "Epoch 130, training loss: 0.6767009997367859, validation loss: 0.6035999258359274\n",
            "Epoch 140, training loss: 0.6765987491607666, validation loss: 0.6035159428914388\n",
            "Epoch 150, training loss: 0.6765129852294922, validation loss: 0.6034455100695292\n",
            "Epoch 160, training loss: 0.6764400768280029, validation loss: 0.6033856272697449\n",
            "Epoch 170, training loss: 0.6763772320747375, validation loss: 0.6033339699109396\n",
            "Epoch 180, training loss: 0.6763223767280578, validation loss: 0.6032886703809103\n",
            "Epoch 190, training loss: 0.6762740278244018, validation loss: 0.6032486359278361\n",
            "\n",
            "Input sequence:\n",
            "['a', 'a', 'b', 'b']\n",
            "\n",
            "Target sequence:\n",
            "['a', 'b', 'b', 'EOS']\n",
            "\n",
            "Predicted sequence:\n",
            "['b', 'b', 'EOS', 'EOS']\n"
          ]
        },
        {
          "output_type": "display_data",
          "data": {
            "image/png": "[encoded data removed]",
            "text/plain": [
              "<Figure size 432x288 with 1 Axes>"
            ]
          },
          "metadata": {
            "needs_background": "light"
          }
        }
      ]
    },
    {
      "cell_type": "code",
      "metadata": {
        "colab": {
          "base_uri": "https://localhost:8080/"
        },
        "id": "qJXQMya2Oc1E",
        "outputId": "880d4090-955b-4fad-d0e6-c181f3c820ce"
      },
      "source": [
        "def freestyle_torch(net, sentence='', num_generate=10):\n",
        "    \"\"\"\n",
        "    Takes in a sentence as a string and outputs a sequence\n",
        "    based on the predictions of the RNN.\n",
        "    \n",
        "    Args:\n",
        "     `params`: the parameters of the network\n",
        "     `sentence`: string with whitespace-separated tokens\n",
        "     `num_generate`: the number of tokens to generate\n",
        "    \"\"\"\n",
        "    sentence = sentence.split(' ')\n",
        "    output_sentence = sentence\n",
        "    sentence_one_hot = Var_to_nparray(one_hot_encode_sequence(sentence, vocab_size))\n",
        "    sentence_one_hot = torch.Tensor([sentence_one_hot])\n",
        "\n",
        "    # Begin predicting\n",
        "    outputs = net.forward(inputs_one_hot).data.numpy()\n",
        "    output_words = [idx_to_word[np.argmax(output)] for output in outputs]\n",
        "    word = output_words[-1]\n",
        "\n",
        "    # Append first prediction\n",
        "    output_sentence.append(word)\n",
        "\n",
        "    # Forward pass - Insert code here!\n",
        "    if word != 'EOS':\n",
        "      for i in range(num_generate-1):\n",
        "          sentence_one_hot = torch.Tensor([Var_to_nparray(one_hot_encode_sequence(output_sentence, vocab_size))])\n",
        "          outputs = net.forward(inputs_one_hot).data.numpy()\n",
        "          output_words = [idx_to_word[np.argmax(output)] for output in outputs]\n",
        "          word = output_words[-1]\n",
        "          output_sentence.append(word)\n",
        "          if word == 'EOS':\n",
        "              break\n",
        "          \n",
        "    return output_sentence\n",
        "\n",
        "\n",
        "# Perform freestyle (extrapolation)\n",
        "test_examples = ['a a b', 'a a a a b', 'a a a a a a b', 'a', 'r n n']\n",
        "for i, test_example in enumerate(test_examples):\n",
        "    print(f'Example {i}:', test_example)\n",
        "    print('Predicted sequence:', freestyle_torch(net, sentence=test_example), end='\\n\\n')"
      ],
      "execution_count": 311,
      "outputs": [
        {
          "output_type": "stream",
          "name": "stdout",
          "text": [
            "Example 0: a a b\n",
            "Predicted sequence: ['a', 'a', 'b', 'EOS']\n",
            "\n",
            "Example 1: a a a a b\n",
            "Predicted sequence: ['a', 'a', 'a', 'a', 'b', 'EOS']\n",
            "\n",
            "Example 2: a a a a a a b\n",
            "Predicted sequence: ['a', 'a', 'a', 'a', 'a', 'a', 'b', 'EOS']\n",
            "\n",
            "Example 3: a\n",
            "Predicted sequence: ['a', 'EOS']\n",
            "\n",
            "Example 4: r n n\n",
            "Predicted sequence: ['r', 'n', 'n', 'EOS']\n",
            "\n"
          ]
        }
      ]
    },
    {
      "cell_type": "markdown",
      "metadata": {
        "id": "ydr7Czg_k2iw"
      },
      "source": [
        "# Exercise k) Compare PyTorch and Nanograd implementations\n",
        "\n",
        "Compare the two implementations (in terms of predictive performance, training speed, etc.). Are they similar? How do they differ?\n",
        "\n",
        "\n",
        "Try to play around with the choice of hyper-parameters, optimizer, and hidden dimensions. How much can you improve the negative log-likelihood by these simple changes?"
      ]
    },
    {
      "cell_type": "markdown",
      "metadata": {
        "id": "xnt7BEXJMvNl"
      },
      "source": [
        "**Answer**\n",
        "\n",
        "The PyTorch implementation has higher predictive performance (training loss < 1.5 compared to loss above 100 for Nanograd) and faster training speed.\n",
        "\n",
        "The Adam optimizer reaches a lower loss in less time than the SGD optimizer."
      ]
    },
    {
      "cell_type": "markdown",
      "metadata": {
        "id": "M93ORx95k2ix"
      },
      "source": [
        "## Exercise l) Other RNN cells (optional)\n",
        "\n",
        "Aside from the LSTM cell, various other RNN cells exist. The gated recurrent unit (GRU) is a variation of the LSTM cell that uses less gating mechanisms. Try to look it up in the [PyTorch documentation](https://pytorch.org/docs/stable/nn.html#gru) and switch out the LSTM cell in the code above. What do you notice in terms of performance and convergence speed?"
      ]
    },
    {
      "cell_type": "markdown",
      "metadata": {
        "id": "juN400Ekk2iz"
      },
      "source": [
        "## Exercise m) More complex tasks (optional)\n",
        "\n",
        "Go back and generate a more complex patterned dataset to learn from. Do you see any significant differences between a vanilla RNN and LSTM (implemented in e.g. PyTorch) when you increase the difficulty of the task?"
      ]
    },
    {
      "cell_type": "markdown",
      "metadata": {
        "id": "v68YEkEBk2iz"
      },
      "source": [
        "# It works, now what?"
      ]
    },
    {
      "cell_type": "markdown",
      "metadata": {
        "id": "NjpqSrSuk2i0"
      },
      "source": [
        "In this notebook you have learned how to use embeddings, recurrent neural networks, and the LSTM cell in particular.\n",
        "\n",
        "As we have already seen, RNNs are excellent for sequential data such as language. But what do we do if we're modelling data with strong dependency in both directions? Like in many things deep learning, we can build powerful models by stacking layers on top of each other; *bi-directional* RNNs consist of two LSTM cells, one for each direction. A sequence is first fed into the forward LSTM cell and the reversed sequence is then used as input to the backward LSTM cell together with the last hidden state from the forward LSTM cell. Follow [this link](https://pdfs.semanticscholar.org/4b80/89bc9b49f84de43acc2eb8900035f7d492b2.pdf) for the original paper from 1997(!).\n",
        "\n",
        "For even deeper representations, multiple layers of both uni-directional and bi-directional RNNs can be stacked ontop of each other, just like feed-forward and convolutional layers. For more information on this, check out the [LSTM PyTorch documentation](https://pytorch.org/docs/stable/nn.html#lstm). Next week we will also explore ways to combine RNNs with other types of layers for even more expressive function approximators."
      ]
    }
  ]
}